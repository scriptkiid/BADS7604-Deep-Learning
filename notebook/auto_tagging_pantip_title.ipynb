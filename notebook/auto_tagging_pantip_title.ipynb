{
  "nbformat": 4,
  "nbformat_minor": 0,
  "metadata": {
    "colab": {
      "name": "Pantip Topics.ipynb",
      "provenance": [],
      "collapsed_sections": [
        "ZY36_eeDvkNm",
        "0YNzxPbAxLrM",
        "gWYiUJHrv3UT",
        "bnUhlNoXxgK4",
        "q12QQ4DFJ9xS",
        "0hDe6ho4zQzt",
        "s-WJanKRcKYY",
        "d7c4kdwKgjf5"
      ],
      "toc_visible": true
    },
    "kernelspec": {
      "display_name": "Python 3",
      "name": "python3"
    },
    "language_info": {
      "name": "python"
    },
    "widgets": {
      "application/vnd.jupyter.widget-state+json": {
        "42ac311913194379b53bcd87961d92cd": {
          "model_module": "@jupyter-widgets/controls",
          "model_name": "HBoxModel",
          "state": {
            "_view_name": "HBoxView",
            "_dom_classes": [],
            "_model_name": "HBoxModel",
            "_view_module": "@jupyter-widgets/controls",
            "_model_module_version": "1.5.0",
            "_view_count": null,
            "_view_module_version": "1.5.0",
            "box_style": "",
            "layout": "IPY_MODEL_77a62cf61f8b41f1b9101c1cd536f06f",
            "_model_module": "@jupyter-widgets/controls",
            "children": [
              "IPY_MODEL_037a7f0fa5a24201ab9ded7c55b4a8b4",
              "IPY_MODEL_dc1ed47bffcb4771a1c21ae0313f4f4d"
            ]
          }
        },
        "77a62cf61f8b41f1b9101c1cd536f06f": {
          "model_module": "@jupyter-widgets/base",
          "model_name": "LayoutModel",
          "state": {
            "_view_name": "LayoutView",
            "grid_template_rows": null,
            "right": null,
            "justify_content": null,
            "_view_module": "@jupyter-widgets/base",
            "overflow": null,
            "_model_module_version": "1.2.0",
            "_view_count": null,
            "flex_flow": null,
            "width": null,
            "min_width": null,
            "border": null,
            "align_items": null,
            "bottom": null,
            "_model_module": "@jupyter-widgets/base",
            "top": null,
            "grid_column": null,
            "overflow_y": null,
            "overflow_x": null,
            "grid_auto_flow": null,
            "grid_area": null,
            "grid_template_columns": null,
            "flex": null,
            "_model_name": "LayoutModel",
            "justify_items": null,
            "grid_row": null,
            "max_height": null,
            "align_content": null,
            "visibility": null,
            "align_self": null,
            "height": null,
            "min_height": null,
            "padding": null,
            "grid_auto_rows": null,
            "grid_gap": null,
            "max_width": null,
            "order": null,
            "_view_module_version": "1.2.0",
            "grid_template_areas": null,
            "object_position": null,
            "object_fit": null,
            "grid_auto_columns": null,
            "margin": null,
            "display": null,
            "left": null
          }
        },
        "037a7f0fa5a24201ab9ded7c55b4a8b4": {
          "model_module": "@jupyter-widgets/controls",
          "model_name": "FloatProgressModel",
          "state": {
            "_view_name": "ProgressView",
            "style": "IPY_MODEL_1810581d22bf484ab7b55b40f3de3bc4",
            "_dom_classes": [],
            "description": "Downloading: 100%",
            "_model_name": "FloatProgressModel",
            "bar_style": "success",
            "max": 546,
            "_view_module": "@jupyter-widgets/controls",
            "_model_module_version": "1.5.0",
            "value": 546,
            "_view_count": null,
            "_view_module_version": "1.5.0",
            "orientation": "horizontal",
            "min": 0,
            "description_tooltip": null,
            "_model_module": "@jupyter-widgets/controls",
            "layout": "IPY_MODEL_5e9f75ccc11c459ab380dd46d09abee5"
          }
        },
        "dc1ed47bffcb4771a1c21ae0313f4f4d": {
          "model_module": "@jupyter-widgets/controls",
          "model_name": "HTMLModel",
          "state": {
            "_view_name": "HTMLView",
            "style": "IPY_MODEL_5b25a450c5e1432e9aeeab9384f80e43",
            "_dom_classes": [],
            "description": "",
            "_model_name": "HTMLModel",
            "placeholder": "​",
            "_view_module": "@jupyter-widgets/controls",
            "_model_module_version": "1.5.0",
            "value": " 546/546 [00:02&lt;00:00, 216B/s]",
            "_view_count": null,
            "_view_module_version": "1.5.0",
            "description_tooltip": null,
            "_model_module": "@jupyter-widgets/controls",
            "layout": "IPY_MODEL_4ad3fdd00dce4446922e765df375951a"
          }
        },
        "1810581d22bf484ab7b55b40f3de3bc4": {
          "model_module": "@jupyter-widgets/controls",
          "model_name": "ProgressStyleModel",
          "state": {
            "_view_name": "StyleView",
            "_model_name": "ProgressStyleModel",
            "description_width": "initial",
            "_view_module": "@jupyter-widgets/base",
            "_model_module_version": "1.5.0",
            "_view_count": null,
            "_view_module_version": "1.2.0",
            "bar_color": null,
            "_model_module": "@jupyter-widgets/controls"
          }
        },
        "5e9f75ccc11c459ab380dd46d09abee5": {
          "model_module": "@jupyter-widgets/base",
          "model_name": "LayoutModel",
          "state": {
            "_view_name": "LayoutView",
            "grid_template_rows": null,
            "right": null,
            "justify_content": null,
            "_view_module": "@jupyter-widgets/base",
            "overflow": null,
            "_model_module_version": "1.2.0",
            "_view_count": null,
            "flex_flow": null,
            "width": null,
            "min_width": null,
            "border": null,
            "align_items": null,
            "bottom": null,
            "_model_module": "@jupyter-widgets/base",
            "top": null,
            "grid_column": null,
            "overflow_y": null,
            "overflow_x": null,
            "grid_auto_flow": null,
            "grid_area": null,
            "grid_template_columns": null,
            "flex": null,
            "_model_name": "LayoutModel",
            "justify_items": null,
            "grid_row": null,
            "max_height": null,
            "align_content": null,
            "visibility": null,
            "align_self": null,
            "height": null,
            "min_height": null,
            "padding": null,
            "grid_auto_rows": null,
            "grid_gap": null,
            "max_width": null,
            "order": null,
            "_view_module_version": "1.2.0",
            "grid_template_areas": null,
            "object_position": null,
            "object_fit": null,
            "grid_auto_columns": null,
            "margin": null,
            "display": null,
            "left": null
          }
        },
        "5b25a450c5e1432e9aeeab9384f80e43": {
          "model_module": "@jupyter-widgets/controls",
          "model_name": "DescriptionStyleModel",
          "state": {
            "_view_name": "StyleView",
            "_model_name": "DescriptionStyleModel",
            "description_width": "",
            "_view_module": "@jupyter-widgets/base",
            "_model_module_version": "1.5.0",
            "_view_count": null,
            "_view_module_version": "1.2.0",
            "_model_module": "@jupyter-widgets/controls"
          }
        },
        "4ad3fdd00dce4446922e765df375951a": {
          "model_module": "@jupyter-widgets/base",
          "model_name": "LayoutModel",
          "state": {
            "_view_name": "LayoutView",
            "grid_template_rows": null,
            "right": null,
            "justify_content": null,
            "_view_module": "@jupyter-widgets/base",
            "overflow": null,
            "_model_module_version": "1.2.0",
            "_view_count": null,
            "flex_flow": null,
            "width": null,
            "min_width": null,
            "border": null,
            "align_items": null,
            "bottom": null,
            "_model_module": "@jupyter-widgets/base",
            "top": null,
            "grid_column": null,
            "overflow_y": null,
            "overflow_x": null,
            "grid_auto_flow": null,
            "grid_area": null,
            "grid_template_columns": null,
            "flex": null,
            "_model_name": "LayoutModel",
            "justify_items": null,
            "grid_row": null,
            "max_height": null,
            "align_content": null,
            "visibility": null,
            "align_self": null,
            "height": null,
            "min_height": null,
            "padding": null,
            "grid_auto_rows": null,
            "grid_gap": null,
            "max_width": null,
            "order": null,
            "_view_module_version": "1.2.0",
            "grid_template_areas": null,
            "object_position": null,
            "object_fit": null,
            "grid_auto_columns": null,
            "margin": null,
            "display": null,
            "left": null
          }
        },
        "c62c52e84ceb4b35b5335042cd9f348b": {
          "model_module": "@jupyter-widgets/controls",
          "model_name": "HBoxModel",
          "state": {
            "_view_name": "HBoxView",
            "_dom_classes": [],
            "_model_name": "HBoxModel",
            "_view_module": "@jupyter-widgets/controls",
            "_model_module_version": "1.5.0",
            "_view_count": null,
            "_view_module_version": "1.5.0",
            "box_style": "",
            "layout": "IPY_MODEL_cf0496ab3afc4f7e8a19aec299bf71d7",
            "_model_module": "@jupyter-widgets/controls",
            "children": [
              "IPY_MODEL_69cab742d8554977a3adc28d37933609",
              "IPY_MODEL_412b217118ba4255bf8dfc365a16b5b9"
            ]
          }
        },
        "cf0496ab3afc4f7e8a19aec299bf71d7": {
          "model_module": "@jupyter-widgets/base",
          "model_name": "LayoutModel",
          "state": {
            "_view_name": "LayoutView",
            "grid_template_rows": null,
            "right": null,
            "justify_content": null,
            "_view_module": "@jupyter-widgets/base",
            "overflow": null,
            "_model_module_version": "1.2.0",
            "_view_count": null,
            "flex_flow": null,
            "width": null,
            "min_width": null,
            "border": null,
            "align_items": null,
            "bottom": null,
            "_model_module": "@jupyter-widgets/base",
            "top": null,
            "grid_column": null,
            "overflow_y": null,
            "overflow_x": null,
            "grid_auto_flow": null,
            "grid_area": null,
            "grid_template_columns": null,
            "flex": null,
            "_model_name": "LayoutModel",
            "justify_items": null,
            "grid_row": null,
            "max_height": null,
            "align_content": null,
            "visibility": null,
            "align_self": null,
            "height": null,
            "min_height": null,
            "padding": null,
            "grid_auto_rows": null,
            "grid_gap": null,
            "max_width": null,
            "order": null,
            "_view_module_version": "1.2.0",
            "grid_template_areas": null,
            "object_position": null,
            "object_fit": null,
            "grid_auto_columns": null,
            "margin": null,
            "display": null,
            "left": null
          }
        },
        "69cab742d8554977a3adc28d37933609": {
          "model_module": "@jupyter-widgets/controls",
          "model_name": "FloatProgressModel",
          "state": {
            "_view_name": "ProgressView",
            "style": "IPY_MODEL_846cdb3800604a9ba9199a4adc33bbd6",
            "_dom_classes": [],
            "description": "Downloading: 100%",
            "_model_name": "FloatProgressModel",
            "bar_style": "success",
            "max": 904693,
            "_view_module": "@jupyter-widgets/controls",
            "_model_module_version": "1.5.0",
            "value": 904693,
            "_view_count": null,
            "_view_module_version": "1.5.0",
            "orientation": "horizontal",
            "min": 0,
            "description_tooltip": null,
            "_model_module": "@jupyter-widgets/controls",
            "layout": "IPY_MODEL_eed2a71e3c3e4da986edda4800f7c693"
          }
        },
        "412b217118ba4255bf8dfc365a16b5b9": {
          "model_module": "@jupyter-widgets/controls",
          "model_name": "HTMLModel",
          "state": {
            "_view_name": "HTMLView",
            "style": "IPY_MODEL_824fa0dd76d046db8caba1200bdf3b1e",
            "_dom_classes": [],
            "description": "",
            "_model_name": "HTMLModel",
            "placeholder": "​",
            "_view_module": "@jupyter-widgets/controls",
            "_model_module_version": "1.5.0",
            "value": " 905k/905k [00:00&lt;00:00, 1.62MB/s]",
            "_view_count": null,
            "_view_module_version": "1.5.0",
            "description_tooltip": null,
            "_model_module": "@jupyter-widgets/controls",
            "layout": "IPY_MODEL_47f1c7104f3449f2b736f48c9b1ffa3d"
          }
        },
        "846cdb3800604a9ba9199a4adc33bbd6": {
          "model_module": "@jupyter-widgets/controls",
          "model_name": "ProgressStyleModel",
          "state": {
            "_view_name": "StyleView",
            "_model_name": "ProgressStyleModel",
            "description_width": "initial",
            "_view_module": "@jupyter-widgets/base",
            "_model_module_version": "1.5.0",
            "_view_count": null,
            "_view_module_version": "1.2.0",
            "bar_color": null,
            "_model_module": "@jupyter-widgets/controls"
          }
        },
        "eed2a71e3c3e4da986edda4800f7c693": {
          "model_module": "@jupyter-widgets/base",
          "model_name": "LayoutModel",
          "state": {
            "_view_name": "LayoutView",
            "grid_template_rows": null,
            "right": null,
            "justify_content": null,
            "_view_module": "@jupyter-widgets/base",
            "overflow": null,
            "_model_module_version": "1.2.0",
            "_view_count": null,
            "flex_flow": null,
            "width": null,
            "min_width": null,
            "border": null,
            "align_items": null,
            "bottom": null,
            "_model_module": "@jupyter-widgets/base",
            "top": null,
            "grid_column": null,
            "overflow_y": null,
            "overflow_x": null,
            "grid_auto_flow": null,
            "grid_area": null,
            "grid_template_columns": null,
            "flex": null,
            "_model_name": "LayoutModel",
            "justify_items": null,
            "grid_row": null,
            "max_height": null,
            "align_content": null,
            "visibility": null,
            "align_self": null,
            "height": null,
            "min_height": null,
            "padding": null,
            "grid_auto_rows": null,
            "grid_gap": null,
            "max_width": null,
            "order": null,
            "_view_module_version": "1.2.0",
            "grid_template_areas": null,
            "object_position": null,
            "object_fit": null,
            "grid_auto_columns": null,
            "margin": null,
            "display": null,
            "left": null
          }
        },
        "824fa0dd76d046db8caba1200bdf3b1e": {
          "model_module": "@jupyter-widgets/controls",
          "model_name": "DescriptionStyleModel",
          "state": {
            "_view_name": "StyleView",
            "_model_name": "DescriptionStyleModel",
            "description_width": "",
            "_view_module": "@jupyter-widgets/base",
            "_model_module_version": "1.5.0",
            "_view_count": null,
            "_view_module_version": "1.2.0",
            "_model_module": "@jupyter-widgets/controls"
          }
        },
        "47f1c7104f3449f2b736f48c9b1ffa3d": {
          "model_module": "@jupyter-widgets/base",
          "model_name": "LayoutModel",
          "state": {
            "_view_name": "LayoutView",
            "grid_template_rows": null,
            "right": null,
            "justify_content": null,
            "_view_module": "@jupyter-widgets/base",
            "overflow": null,
            "_model_module_version": "1.2.0",
            "_view_count": null,
            "flex_flow": null,
            "width": null,
            "min_width": null,
            "border": null,
            "align_items": null,
            "bottom": null,
            "_model_module": "@jupyter-widgets/base",
            "top": null,
            "grid_column": null,
            "overflow_y": null,
            "overflow_x": null,
            "grid_auto_flow": null,
            "grid_area": null,
            "grid_template_columns": null,
            "flex": null,
            "_model_name": "LayoutModel",
            "justify_items": null,
            "grid_row": null,
            "max_height": null,
            "align_content": null,
            "visibility": null,
            "align_self": null,
            "height": null,
            "min_height": null,
            "padding": null,
            "grid_auto_rows": null,
            "grid_gap": null,
            "max_width": null,
            "order": null,
            "_view_module_version": "1.2.0",
            "grid_template_areas": null,
            "object_position": null,
            "object_fit": null,
            "grid_auto_columns": null,
            "margin": null,
            "display": null,
            "left": null
          }
        },
        "3f22f29c2f96442486657b3551e0f724": {
          "model_module": "@jupyter-widgets/controls",
          "model_name": "HBoxModel",
          "state": {
            "_view_name": "HBoxView",
            "_dom_classes": [],
            "_model_name": "HBoxModel",
            "_view_module": "@jupyter-widgets/controls",
            "_model_module_version": "1.5.0",
            "_view_count": null,
            "_view_module_version": "1.5.0",
            "box_style": "",
            "layout": "IPY_MODEL_90c89c896fad46ab8b6ed175047eae11",
            "_model_module": "@jupyter-widgets/controls",
            "children": [
              "IPY_MODEL_9ea5f4f4728748ddadcaa3534228b112",
              "IPY_MODEL_bb9fc66e523d41e398753a772d8c2168"
            ]
          }
        },
        "90c89c896fad46ab8b6ed175047eae11": {
          "model_module": "@jupyter-widgets/base",
          "model_name": "LayoutModel",
          "state": {
            "_view_name": "LayoutView",
            "grid_template_rows": null,
            "right": null,
            "justify_content": null,
            "_view_module": "@jupyter-widgets/base",
            "overflow": null,
            "_model_module_version": "1.2.0",
            "_view_count": null,
            "flex_flow": null,
            "width": null,
            "min_width": null,
            "border": null,
            "align_items": null,
            "bottom": null,
            "_model_module": "@jupyter-widgets/base",
            "top": null,
            "grid_column": null,
            "overflow_y": null,
            "overflow_x": null,
            "grid_auto_flow": null,
            "grid_area": null,
            "grid_template_columns": null,
            "flex": null,
            "_model_name": "LayoutModel",
            "justify_items": null,
            "grid_row": null,
            "max_height": null,
            "align_content": null,
            "visibility": null,
            "align_self": null,
            "height": null,
            "min_height": null,
            "padding": null,
            "grid_auto_rows": null,
            "grid_gap": null,
            "max_width": null,
            "order": null,
            "_view_module_version": "1.2.0",
            "grid_template_areas": null,
            "object_position": null,
            "object_fit": null,
            "grid_auto_columns": null,
            "margin": null,
            "display": null,
            "left": null
          }
        },
        "9ea5f4f4728748ddadcaa3534228b112": {
          "model_module": "@jupyter-widgets/controls",
          "model_name": "FloatProgressModel",
          "state": {
            "_view_name": "ProgressView",
            "style": "IPY_MODEL_4fecfd1a284a4a9d9bcf79f7f7485bf5",
            "_dom_classes": [],
            "description": "Downloading: 100%",
            "_model_name": "FloatProgressModel",
            "bar_style": "success",
            "max": 282,
            "_view_module": "@jupyter-widgets/controls",
            "_model_module_version": "1.5.0",
            "value": 282,
            "_view_count": null,
            "_view_module_version": "1.5.0",
            "orientation": "horizontal",
            "min": 0,
            "description_tooltip": null,
            "_model_module": "@jupyter-widgets/controls",
            "layout": "IPY_MODEL_689b5e3200874f9887327751acaf4d0b"
          }
        },
        "bb9fc66e523d41e398753a772d8c2168": {
          "model_module": "@jupyter-widgets/controls",
          "model_name": "HTMLModel",
          "state": {
            "_view_name": "HTMLView",
            "style": "IPY_MODEL_cce73dd9c3b7495aaacf9a9baa6cf4dd",
            "_dom_classes": [],
            "description": "",
            "_model_name": "HTMLModel",
            "placeholder": "​",
            "_view_module": "@jupyter-widgets/controls",
            "_model_module_version": "1.5.0",
            "value": " 282/282 [00:01&lt;00:00, 169B/s]",
            "_view_count": null,
            "_view_module_version": "1.5.0",
            "description_tooltip": null,
            "_model_module": "@jupyter-widgets/controls",
            "layout": "IPY_MODEL_109f6a2b35d34fec961c2e25ecc776be"
          }
        },
        "4fecfd1a284a4a9d9bcf79f7f7485bf5": {
          "model_module": "@jupyter-widgets/controls",
          "model_name": "ProgressStyleModel",
          "state": {
            "_view_name": "StyleView",
            "_model_name": "ProgressStyleModel",
            "description_width": "initial",
            "_view_module": "@jupyter-widgets/base",
            "_model_module_version": "1.5.0",
            "_view_count": null,
            "_view_module_version": "1.2.0",
            "bar_color": null,
            "_model_module": "@jupyter-widgets/controls"
          }
        },
        "689b5e3200874f9887327751acaf4d0b": {
          "model_module": "@jupyter-widgets/base",
          "model_name": "LayoutModel",
          "state": {
            "_view_name": "LayoutView",
            "grid_template_rows": null,
            "right": null,
            "justify_content": null,
            "_view_module": "@jupyter-widgets/base",
            "overflow": null,
            "_model_module_version": "1.2.0",
            "_view_count": null,
            "flex_flow": null,
            "width": null,
            "min_width": null,
            "border": null,
            "align_items": null,
            "bottom": null,
            "_model_module": "@jupyter-widgets/base",
            "top": null,
            "grid_column": null,
            "overflow_y": null,
            "overflow_x": null,
            "grid_auto_flow": null,
            "grid_area": null,
            "grid_template_columns": null,
            "flex": null,
            "_model_name": "LayoutModel",
            "justify_items": null,
            "grid_row": null,
            "max_height": null,
            "align_content": null,
            "visibility": null,
            "align_self": null,
            "height": null,
            "min_height": null,
            "padding": null,
            "grid_auto_rows": null,
            "grid_gap": null,
            "max_width": null,
            "order": null,
            "_view_module_version": "1.2.0",
            "grid_template_areas": null,
            "object_position": null,
            "object_fit": null,
            "grid_auto_columns": null,
            "margin": null,
            "display": null,
            "left": null
          }
        },
        "cce73dd9c3b7495aaacf9a9baa6cf4dd": {
          "model_module": "@jupyter-widgets/controls",
          "model_name": "DescriptionStyleModel",
          "state": {
            "_view_name": "StyleView",
            "_model_name": "DescriptionStyleModel",
            "description_width": "",
            "_view_module": "@jupyter-widgets/base",
            "_model_module_version": "1.5.0",
            "_view_count": null,
            "_view_module_version": "1.2.0",
            "_model_module": "@jupyter-widgets/controls"
          }
        },
        "109f6a2b35d34fec961c2e25ecc776be": {
          "model_module": "@jupyter-widgets/base",
          "model_name": "LayoutModel",
          "state": {
            "_view_name": "LayoutView",
            "grid_template_rows": null,
            "right": null,
            "justify_content": null,
            "_view_module": "@jupyter-widgets/base",
            "overflow": null,
            "_model_module_version": "1.2.0",
            "_view_count": null,
            "flex_flow": null,
            "width": null,
            "min_width": null,
            "border": null,
            "align_items": null,
            "bottom": null,
            "_model_module": "@jupyter-widgets/base",
            "top": null,
            "grid_column": null,
            "overflow_y": null,
            "overflow_x": null,
            "grid_auto_flow": null,
            "grid_area": null,
            "grid_template_columns": null,
            "flex": null,
            "_model_name": "LayoutModel",
            "justify_items": null,
            "grid_row": null,
            "max_height": null,
            "align_content": null,
            "visibility": null,
            "align_self": null,
            "height": null,
            "min_height": null,
            "padding": null,
            "grid_auto_rows": null,
            "grid_gap": null,
            "max_width": null,
            "order": null,
            "_view_module_version": "1.2.0",
            "grid_template_areas": null,
            "object_position": null,
            "object_fit": null,
            "grid_auto_columns": null,
            "margin": null,
            "display": null,
            "left": null
          }
        },
        "ca4fa35e8a654546b4adbbef41782925": {
          "model_module": "@jupyter-widgets/controls",
          "model_name": "HBoxModel",
          "state": {
            "_view_name": "HBoxView",
            "_dom_classes": [],
            "_model_name": "HBoxModel",
            "_view_module": "@jupyter-widgets/controls",
            "_model_module_version": "1.5.0",
            "_view_count": null,
            "_view_module_version": "1.5.0",
            "box_style": "",
            "layout": "IPY_MODEL_5390015cdce3476d9a33281424201d9e",
            "_model_module": "@jupyter-widgets/controls",
            "children": [
              "IPY_MODEL_ade749777e93437b86a36e32b123638e",
              "IPY_MODEL_304a821bf17647e0b27e88d961766bd5"
            ]
          }
        },
        "5390015cdce3476d9a33281424201d9e": {
          "model_module": "@jupyter-widgets/base",
          "model_name": "LayoutModel",
          "state": {
            "_view_name": "LayoutView",
            "grid_template_rows": null,
            "right": null,
            "justify_content": null,
            "_view_module": "@jupyter-widgets/base",
            "overflow": null,
            "_model_module_version": "1.2.0",
            "_view_count": null,
            "flex_flow": null,
            "width": null,
            "min_width": null,
            "border": null,
            "align_items": null,
            "bottom": null,
            "_model_module": "@jupyter-widgets/base",
            "top": null,
            "grid_column": null,
            "overflow_y": null,
            "overflow_x": null,
            "grid_auto_flow": null,
            "grid_area": null,
            "grid_template_columns": null,
            "flex": null,
            "_model_name": "LayoutModel",
            "justify_items": null,
            "grid_row": null,
            "max_height": null,
            "align_content": null,
            "visibility": null,
            "align_self": null,
            "height": null,
            "min_height": null,
            "padding": null,
            "grid_auto_rows": null,
            "grid_gap": null,
            "max_width": null,
            "order": null,
            "_view_module_version": "1.2.0",
            "grid_template_areas": null,
            "object_position": null,
            "object_fit": null,
            "grid_auto_columns": null,
            "margin": null,
            "display": null,
            "left": null
          }
        },
        "ade749777e93437b86a36e32b123638e": {
          "model_module": "@jupyter-widgets/controls",
          "model_name": "FloatProgressModel",
          "state": {
            "_view_name": "ProgressView",
            "style": "IPY_MODEL_f2cf8c3b182249708e44a5ac959a3a36",
            "_dom_classes": [],
            "description": "Downloading: 100%",
            "_model_name": "FloatProgressModel",
            "bar_style": "success",
            "max": 3557225,
            "_view_module": "@jupyter-widgets/controls",
            "_model_module_version": "1.5.0",
            "value": 3557225,
            "_view_count": null,
            "_view_module_version": "1.5.0",
            "orientation": "horizontal",
            "min": 0,
            "description_tooltip": null,
            "_model_module": "@jupyter-widgets/controls",
            "layout": "IPY_MODEL_19a6d3814ec44ee296bda7832281154a"
          }
        },
        "304a821bf17647e0b27e88d961766bd5": {
          "model_module": "@jupyter-widgets/controls",
          "model_name": "HTMLModel",
          "state": {
            "_view_name": "HTMLView",
            "style": "IPY_MODEL_6bcc9a285bb949b9a453e2a72ecaff99",
            "_dom_classes": [],
            "description": "",
            "_model_name": "HTMLModel",
            "placeholder": "​",
            "_view_module": "@jupyter-widgets/controls",
            "_model_module_version": "1.5.0",
            "value": " 3.56M/3.56M [00:00&lt;00:00, 4.54MB/s]",
            "_view_count": null,
            "_view_module_version": "1.5.0",
            "description_tooltip": null,
            "_model_module": "@jupyter-widgets/controls",
            "layout": "IPY_MODEL_a72113469f3048dcbd563c6abfbeae14"
          }
        },
        "f2cf8c3b182249708e44a5ac959a3a36": {
          "model_module": "@jupyter-widgets/controls",
          "model_name": "ProgressStyleModel",
          "state": {
            "_view_name": "StyleView",
            "_model_name": "ProgressStyleModel",
            "description_width": "initial",
            "_view_module": "@jupyter-widgets/base",
            "_model_module_version": "1.5.0",
            "_view_count": null,
            "_view_module_version": "1.2.0",
            "bar_color": null,
            "_model_module": "@jupyter-widgets/controls"
          }
        },
        "19a6d3814ec44ee296bda7832281154a": {
          "model_module": "@jupyter-widgets/base",
          "model_name": "LayoutModel",
          "state": {
            "_view_name": "LayoutView",
            "grid_template_rows": null,
            "right": null,
            "justify_content": null,
            "_view_module": "@jupyter-widgets/base",
            "overflow": null,
            "_model_module_version": "1.2.0",
            "_view_count": null,
            "flex_flow": null,
            "width": null,
            "min_width": null,
            "border": null,
            "align_items": null,
            "bottom": null,
            "_model_module": "@jupyter-widgets/base",
            "top": null,
            "grid_column": null,
            "overflow_y": null,
            "overflow_x": null,
            "grid_auto_flow": null,
            "grid_area": null,
            "grid_template_columns": null,
            "flex": null,
            "_model_name": "LayoutModel",
            "justify_items": null,
            "grid_row": null,
            "max_height": null,
            "align_content": null,
            "visibility": null,
            "align_self": null,
            "height": null,
            "min_height": null,
            "padding": null,
            "grid_auto_rows": null,
            "grid_gap": null,
            "max_width": null,
            "order": null,
            "_view_module_version": "1.2.0",
            "grid_template_areas": null,
            "object_position": null,
            "object_fit": null,
            "grid_auto_columns": null,
            "margin": null,
            "display": null,
            "left": null
          }
        },
        "6bcc9a285bb949b9a453e2a72ecaff99": {
          "model_module": "@jupyter-widgets/controls",
          "model_name": "DescriptionStyleModel",
          "state": {
            "_view_name": "StyleView",
            "_model_name": "DescriptionStyleModel",
            "description_width": "",
            "_view_module": "@jupyter-widgets/base",
            "_model_module_version": "1.5.0",
            "_view_count": null,
            "_view_module_version": "1.2.0",
            "_model_module": "@jupyter-widgets/controls"
          }
        },
        "a72113469f3048dcbd563c6abfbeae14": {
          "model_module": "@jupyter-widgets/base",
          "model_name": "LayoutModel",
          "state": {
            "_view_name": "LayoutView",
            "grid_template_rows": null,
            "right": null,
            "justify_content": null,
            "_view_module": "@jupyter-widgets/base",
            "overflow": null,
            "_model_module_version": "1.2.0",
            "_view_count": null,
            "flex_flow": null,
            "width": null,
            "min_width": null,
            "border": null,
            "align_items": null,
            "bottom": null,
            "_model_module": "@jupyter-widgets/base",
            "top": null,
            "grid_column": null,
            "overflow_y": null,
            "overflow_x": null,
            "grid_auto_flow": null,
            "grid_area": null,
            "grid_template_columns": null,
            "flex": null,
            "_model_name": "LayoutModel",
            "justify_items": null,
            "grid_row": null,
            "max_height": null,
            "align_content": null,
            "visibility": null,
            "align_self": null,
            "height": null,
            "min_height": null,
            "padding": null,
            "grid_auto_rows": null,
            "grid_gap": null,
            "max_width": null,
            "order": null,
            "_view_module_version": "1.2.0",
            "grid_template_areas": null,
            "object_position": null,
            "object_fit": null,
            "grid_auto_columns": null,
            "margin": null,
            "display": null,
            "left": null
          }
        },
        "cb4e9e3e875342699e9db399835563b6": {
          "model_module": "@jupyter-widgets/controls",
          "model_name": "HBoxModel",
          "state": {
            "_view_name": "HBoxView",
            "_dom_classes": [],
            "_model_name": "HBoxModel",
            "_view_module": "@jupyter-widgets/controls",
            "_model_module_version": "1.5.0",
            "_view_count": null,
            "_view_module_version": "1.5.0",
            "box_style": "",
            "layout": "IPY_MODEL_c0db1e8c89484e5485523787dff3abf5",
            "_model_module": "@jupyter-widgets/controls",
            "children": [
              "IPY_MODEL_c3d7d5d75b6947e1aa718b2655617a07",
              "IPY_MODEL_3df51e5f8f074dcaa1605f7d47ea58b9"
            ]
          }
        },
        "c0db1e8c89484e5485523787dff3abf5": {
          "model_module": "@jupyter-widgets/base",
          "model_name": "LayoutModel",
          "state": {
            "_view_name": "LayoutView",
            "grid_template_rows": null,
            "right": null,
            "justify_content": null,
            "_view_module": "@jupyter-widgets/base",
            "overflow": null,
            "_model_module_version": "1.2.0",
            "_view_count": null,
            "flex_flow": null,
            "width": null,
            "min_width": null,
            "border": null,
            "align_items": null,
            "bottom": null,
            "_model_module": "@jupyter-widgets/base",
            "top": null,
            "grid_column": null,
            "overflow_y": null,
            "overflow_x": null,
            "grid_auto_flow": null,
            "grid_area": null,
            "grid_template_columns": null,
            "flex": null,
            "_model_name": "LayoutModel",
            "justify_items": null,
            "grid_row": null,
            "max_height": null,
            "align_content": null,
            "visibility": null,
            "align_self": null,
            "height": null,
            "min_height": null,
            "padding": null,
            "grid_auto_rows": null,
            "grid_gap": null,
            "max_width": null,
            "order": null,
            "_view_module_version": "1.2.0",
            "grid_template_areas": null,
            "object_position": null,
            "object_fit": null,
            "grid_auto_columns": null,
            "margin": null,
            "display": null,
            "left": null
          }
        },
        "c3d7d5d75b6947e1aa718b2655617a07": {
          "model_module": "@jupyter-widgets/controls",
          "model_name": "FloatProgressModel",
          "state": {
            "_view_name": "ProgressView",
            "style": "IPY_MODEL_43fb497f9bb04f7ca6103ec735750265",
            "_dom_classes": [],
            "description": "Downloading: 100%",
            "_model_name": "FloatProgressModel",
            "bar_style": "success",
            "max": 423498558,
            "_view_module": "@jupyter-widgets/controls",
            "_model_module_version": "1.5.0",
            "value": 423498558,
            "_view_count": null,
            "_view_module_version": "1.5.0",
            "orientation": "horizontal",
            "min": 0,
            "description_tooltip": null,
            "_model_module": "@jupyter-widgets/controls",
            "layout": "IPY_MODEL_cd689c334feb407bafe5cc9dd113786d"
          }
        },
        "3df51e5f8f074dcaa1605f7d47ea58b9": {
          "model_module": "@jupyter-widgets/controls",
          "model_name": "HTMLModel",
          "state": {
            "_view_name": "HTMLView",
            "style": "IPY_MODEL_32ee5f6b458244c397ed56d2d07208d8",
            "_dom_classes": [],
            "description": "",
            "_model_name": "HTMLModel",
            "placeholder": "​",
            "_view_module": "@jupyter-widgets/controls",
            "_model_module_version": "1.5.0",
            "value": " 423M/423M [00:24&lt;00:00, 17.1MB/s]",
            "_view_count": null,
            "_view_module_version": "1.5.0",
            "description_tooltip": null,
            "_model_module": "@jupyter-widgets/controls",
            "layout": "IPY_MODEL_84aff1b9282f4662bf64e46157d133e2"
          }
        },
        "43fb497f9bb04f7ca6103ec735750265": {
          "model_module": "@jupyter-widgets/controls",
          "model_name": "ProgressStyleModel",
          "state": {
            "_view_name": "StyleView",
            "_model_name": "ProgressStyleModel",
            "description_width": "initial",
            "_view_module": "@jupyter-widgets/base",
            "_model_module_version": "1.5.0",
            "_view_count": null,
            "_view_module_version": "1.2.0",
            "bar_color": null,
            "_model_module": "@jupyter-widgets/controls"
          }
        },
        "cd689c334feb407bafe5cc9dd113786d": {
          "model_module": "@jupyter-widgets/base",
          "model_name": "LayoutModel",
          "state": {
            "_view_name": "LayoutView",
            "grid_template_rows": null,
            "right": null,
            "justify_content": null,
            "_view_module": "@jupyter-widgets/base",
            "overflow": null,
            "_model_module_version": "1.2.0",
            "_view_count": null,
            "flex_flow": null,
            "width": null,
            "min_width": null,
            "border": null,
            "align_items": null,
            "bottom": null,
            "_model_module": "@jupyter-widgets/base",
            "top": null,
            "grid_column": null,
            "overflow_y": null,
            "overflow_x": null,
            "grid_auto_flow": null,
            "grid_area": null,
            "grid_template_columns": null,
            "flex": null,
            "_model_name": "LayoutModel",
            "justify_items": null,
            "grid_row": null,
            "max_height": null,
            "align_content": null,
            "visibility": null,
            "align_self": null,
            "height": null,
            "min_height": null,
            "padding": null,
            "grid_auto_rows": null,
            "grid_gap": null,
            "max_width": null,
            "order": null,
            "_view_module_version": "1.2.0",
            "grid_template_areas": null,
            "object_position": null,
            "object_fit": null,
            "grid_auto_columns": null,
            "margin": null,
            "display": null,
            "left": null
          }
        },
        "32ee5f6b458244c397ed56d2d07208d8": {
          "model_module": "@jupyter-widgets/controls",
          "model_name": "DescriptionStyleModel",
          "state": {
            "_view_name": "StyleView",
            "_model_name": "DescriptionStyleModel",
            "description_width": "",
            "_view_module": "@jupyter-widgets/base",
            "_model_module_version": "1.5.0",
            "_view_count": null,
            "_view_module_version": "1.2.0",
            "_model_module": "@jupyter-widgets/controls"
          }
        },
        "84aff1b9282f4662bf64e46157d133e2": {
          "model_module": "@jupyter-widgets/base",
          "model_name": "LayoutModel",
          "state": {
            "_view_name": "LayoutView",
            "grid_template_rows": null,
            "right": null,
            "justify_content": null,
            "_view_module": "@jupyter-widgets/base",
            "overflow": null,
            "_model_module_version": "1.2.0",
            "_view_count": null,
            "flex_flow": null,
            "width": null,
            "min_width": null,
            "border": null,
            "align_items": null,
            "bottom": null,
            "_model_module": "@jupyter-widgets/base",
            "top": null,
            "grid_column": null,
            "overflow_y": null,
            "overflow_x": null,
            "grid_auto_flow": null,
            "grid_area": null,
            "grid_template_columns": null,
            "flex": null,
            "_model_name": "LayoutModel",
            "justify_items": null,
            "grid_row": null,
            "max_height": null,
            "align_content": null,
            "visibility": null,
            "align_self": null,
            "height": null,
            "min_height": null,
            "padding": null,
            "grid_auto_rows": null,
            "grid_gap": null,
            "max_width": null,
            "order": null,
            "_view_module_version": "1.2.0",
            "grid_template_areas": null,
            "object_position": null,
            "object_fit": null,
            "grid_auto_columns": null,
            "margin": null,
            "display": null,
            "left": null
          }
        }
      }
    }
  },
  "cells": [
    {
      "cell_type": "markdown",
      "metadata": {
        "id": "Aquem_sBvboZ"
      },
      "source": [
        "## Import Libraries"
      ]
    },
    {
      "cell_type": "code",
      "metadata": {
        "colab": {
          "base_uri": "https://localhost:8080/"
        },
        "id": "Zw8-LXT8xrgg",
        "outputId": "a5218fba-5fea-4a72-8cca-beca377a366c"
      },
      "source": [
        "!pip install pythainlp\n",
        "!pip install tensorboard\n",
        "!pip install --upgrade pytorch-lightning\n",
        "!pip -q install torch==1.5.0 torchtext==0.4.0 torchvision==0.6.0\n",
        "!pip -q install transformers==3.5.0 thai2transformers==0.1.2"
      ],
      "execution_count": null,
      "outputs": [
        {
          "output_type": "stream",
          "text": [
            "Collecting pythainlp\n",
            "\u001b[?25l  Downloading https://files.pythonhosted.org/packages/6e/e7/837dd9ab52fac889af830dc094a1598251f70004a2f1707ab0ff8dc0f63a/pythainlp-2.3.1-py3-none-any.whl (11.0MB)\n",
            "\u001b[K     |████████████████████████████████| 11.0MB 253kB/s \n",
            "\u001b[?25hCollecting python-crfsuite>=0.9.6\n",
            "\u001b[?25l  Downloading https://files.pythonhosted.org/packages/79/47/58f16c46506139f17de4630dbcfb877ce41a6355a1bbf3c443edb9708429/python_crfsuite-0.9.7-cp37-cp37m-manylinux1_x86_64.whl (743kB)\n",
            "\u001b[K     |████████████████████████████████| 747kB 43.0MB/s \n",
            "\u001b[?25hRequirement already satisfied: requests>=2.22.0 in /usr/local/lib/python3.7/dist-packages (from pythainlp) (2.23.0)\n",
            "Collecting tinydb>=3.0\n",
            "  Downloading https://files.pythonhosted.org/packages/af/cd/1ce3d93818cdeda0446b8033d21e5f32daeb3a866bbafd878a9a62058a9c/tinydb-4.4.0-py3-none-any.whl\n",
            "Requirement already satisfied: idna<3,>=2.5 in /usr/local/lib/python3.7/dist-packages (from requests>=2.22.0->pythainlp) (2.10)\n",
            "Requirement already satisfied: urllib3!=1.25.0,!=1.25.1,<1.26,>=1.21.1 in /usr/local/lib/python3.7/dist-packages (from requests>=2.22.0->pythainlp) (1.24.3)\n",
            "Requirement already satisfied: certifi>=2017.4.17 in /usr/local/lib/python3.7/dist-packages (from requests>=2.22.0->pythainlp) (2021.5.30)\n",
            "Requirement already satisfied: chardet<4,>=3.0.2 in /usr/local/lib/python3.7/dist-packages (from requests>=2.22.0->pythainlp) (3.0.4)\n",
            "Installing collected packages: python-crfsuite, tinydb, pythainlp\n",
            "Successfully installed pythainlp-2.3.1 python-crfsuite-0.9.7 tinydb-4.4.0\n",
            "Requirement already satisfied: tensorboard in /usr/local/lib/python3.7/dist-packages (2.5.0)\n",
            "Requirement already satisfied: wheel>=0.26; python_version >= \"3\" in /usr/local/lib/python3.7/dist-packages (from tensorboard) (0.36.2)\n",
            "Requirement already satisfied: grpcio>=1.24.3 in /usr/local/lib/python3.7/dist-packages (from tensorboard) (1.34.1)\n",
            "Requirement already satisfied: markdown>=2.6.8 in /usr/local/lib/python3.7/dist-packages (from tensorboard) (3.3.4)\n",
            "Requirement already satisfied: werkzeug>=0.11.15 in /usr/local/lib/python3.7/dist-packages (from tensorboard) (1.0.1)\n",
            "Requirement already satisfied: google-auth-oauthlib<0.5,>=0.4.1 in /usr/local/lib/python3.7/dist-packages (from tensorboard) (0.4.4)\n",
            "Requirement already satisfied: numpy>=1.12.0 in /usr/local/lib/python3.7/dist-packages (from tensorboard) (1.19.5)\n",
            "Requirement already satisfied: tensorboard-data-server<0.7.0,>=0.6.0 in /usr/local/lib/python3.7/dist-packages (from tensorboard) (0.6.1)\n",
            "Requirement already satisfied: absl-py>=0.4 in /usr/local/lib/python3.7/dist-packages (from tensorboard) (0.12.0)\n",
            "Requirement already satisfied: protobuf>=3.6.0 in /usr/local/lib/python3.7/dist-packages (from tensorboard) (3.12.4)\n",
            "Requirement already satisfied: requests<3,>=2.21.0 in /usr/local/lib/python3.7/dist-packages (from tensorboard) (2.23.0)\n",
            "Requirement already satisfied: tensorboard-plugin-wit>=1.6.0 in /usr/local/lib/python3.7/dist-packages (from tensorboard) (1.8.0)\n",
            "Requirement already satisfied: google-auth<2,>=1.6.3 in /usr/local/lib/python3.7/dist-packages (from tensorboard) (1.31.0)\n",
            "Requirement already satisfied: setuptools>=41.0.0 in /usr/local/lib/python3.7/dist-packages (from tensorboard) (57.0.0)\n",
            "Requirement already satisfied: six>=1.5.2 in /usr/local/lib/python3.7/dist-packages (from grpcio>=1.24.3->tensorboard) (1.15.0)\n",
            "Requirement already satisfied: importlib-metadata; python_version < \"3.8\" in /usr/local/lib/python3.7/dist-packages (from markdown>=2.6.8->tensorboard) (4.5.0)\n",
            "Requirement already satisfied: requests-oauthlib>=0.7.0 in /usr/local/lib/python3.7/dist-packages (from google-auth-oauthlib<0.5,>=0.4.1->tensorboard) (1.3.0)\n",
            "Requirement already satisfied: certifi>=2017.4.17 in /usr/local/lib/python3.7/dist-packages (from requests<3,>=2.21.0->tensorboard) (2021.5.30)\n",
            "Requirement already satisfied: chardet<4,>=3.0.2 in /usr/local/lib/python3.7/dist-packages (from requests<3,>=2.21.0->tensorboard) (3.0.4)\n",
            "Requirement already satisfied: idna<3,>=2.5 in /usr/local/lib/python3.7/dist-packages (from requests<3,>=2.21.0->tensorboard) (2.10)\n",
            "Requirement already satisfied: urllib3!=1.25.0,!=1.25.1,<1.26,>=1.21.1 in /usr/local/lib/python3.7/dist-packages (from requests<3,>=2.21.0->tensorboard) (1.24.3)\n",
            "Requirement already satisfied: cachetools<5.0,>=2.0.0 in /usr/local/lib/python3.7/dist-packages (from google-auth<2,>=1.6.3->tensorboard) (4.2.2)\n",
            "Requirement already satisfied: rsa<5,>=3.1.4; python_version >= \"3.6\" in /usr/local/lib/python3.7/dist-packages (from google-auth<2,>=1.6.3->tensorboard) (4.7.2)\n",
            "Requirement already satisfied: pyasn1-modules>=0.2.1 in /usr/local/lib/python3.7/dist-packages (from google-auth<2,>=1.6.3->tensorboard) (0.2.8)\n",
            "Requirement already satisfied: zipp>=0.5 in /usr/local/lib/python3.7/dist-packages (from importlib-metadata; python_version < \"3.8\"->markdown>=2.6.8->tensorboard) (3.4.1)\n",
            "Requirement already satisfied: typing-extensions>=3.6.4; python_version < \"3.8\" in /usr/local/lib/python3.7/dist-packages (from importlib-metadata; python_version < \"3.8\"->markdown>=2.6.8->tensorboard) (3.7.4.3)\n",
            "Requirement already satisfied: oauthlib>=3.0.0 in /usr/local/lib/python3.7/dist-packages (from requests-oauthlib>=0.7.0->google-auth-oauthlib<0.5,>=0.4.1->tensorboard) (3.1.1)\n",
            "Requirement already satisfied: pyasn1>=0.1.3 in /usr/local/lib/python3.7/dist-packages (from rsa<5,>=3.1.4; python_version >= \"3.6\"->google-auth<2,>=1.6.3->tensorboard) (0.4.8)\n",
            "Collecting pytorch-lightning\n",
            "\u001b[?25l  Downloading https://files.pythonhosted.org/packages/55/39/70933cc2ffef684a212d39683831ed6b8097b2a4b33ae0445f8dd5aced63/pytorch_lightning-1.3.6-py3-none-any.whl (809kB)\n",
            "\u001b[K     |████████████████████████████████| 819kB 5.2MB/s \n",
            "\u001b[?25hCollecting pyDeprecate==0.3.0\n",
            "  Downloading https://files.pythonhosted.org/packages/14/52/aa227a0884df71ed1957649085adf2b8bc2a1816d037c2f18b3078854516/pyDeprecate-0.3.0-py3-none-any.whl\n",
            "Collecting tensorboard!=2.5.0,>=2.2.0\n",
            "\u001b[?25l  Downloading https://files.pythonhosted.org/packages/64/21/eebd23060763fedeefb78bc2b286e00fa1d8abda6f70efa2ee08c28af0d4/tensorboard-2.4.1-py3-none-any.whl (10.6MB)\n",
            "\u001b[K     |████████████████████████████████| 10.6MB 15.4MB/s \n",
            "\u001b[?25hRequirement already satisfied, skipping upgrade: numpy>=1.17.2 in /usr/local/lib/python3.7/dist-packages (from pytorch-lightning) (1.19.5)\n",
            "Collecting torchmetrics>=0.2.0\n",
            "\u001b[?25l  Downloading https://files.pythonhosted.org/packages/3b/e8/513cd9d0b1c83dc14cd8f788d05cd6a34758d4fd7e4f9e5ecd5d7d599c95/torchmetrics-0.3.2-py3-none-any.whl (274kB)\n",
            "\u001b[K     |████████████████████████████████| 276kB 37.7MB/s \n",
            "\u001b[?25hCollecting fsspec[http]!=2021.06.0,>=2021.05.0\n",
            "\u001b[?25l  Downloading https://files.pythonhosted.org/packages/bc/52/816d1a3a599176057bf29dfacb1f8fadb61d35fbd96cb1bab4aaa7df83c0/fsspec-2021.5.0-py3-none-any.whl (111kB)\n",
            "\u001b[K     |████████████████████████████████| 112kB 45.9MB/s \n",
            "\u001b[?25hRequirement already satisfied, skipping upgrade: torch>=1.4 in /usr/local/lib/python3.7/dist-packages (from pytorch-lightning) (1.9.0+cu102)\n",
            "Requirement already satisfied, skipping upgrade: tqdm>=4.41.0 in /usr/local/lib/python3.7/dist-packages (from pytorch-lightning) (4.41.1)\n",
            "Collecting PyYAML<=5.4.1,>=5.1\n",
            "\u001b[?25l  Downloading https://files.pythonhosted.org/packages/7a/a5/393c087efdc78091afa2af9f1378762f9821c9c1d7a22c5753fb5ac5f97a/PyYAML-5.4.1-cp37-cp37m-manylinux1_x86_64.whl (636kB)\n",
            "\u001b[K     |████████████████████████████████| 645kB 37.2MB/s \n",
            "\u001b[?25hRequirement already satisfied, skipping upgrade: packaging in /usr/local/lib/python3.7/dist-packages (from pytorch-lightning) (20.9)\n",
            "Collecting future>=0.17.1\n",
            "\u001b[?25l  Downloading https://files.pythonhosted.org/packages/45/0b/38b06fd9b92dc2b68d58b75f900e97884c45bedd2ff83203d933cf5851c9/future-0.18.2.tar.gz (829kB)\n",
            "\u001b[K     |████████████████████████████████| 829kB 39.4MB/s \n",
            "\u001b[?25hRequirement already satisfied, skipping upgrade: grpcio>=1.24.3 in /usr/local/lib/python3.7/dist-packages (from tensorboard!=2.5.0,>=2.2.0->pytorch-lightning) (1.34.1)\n",
            "Requirement already satisfied, skipping upgrade: six>=1.10.0 in /usr/local/lib/python3.7/dist-packages (from tensorboard!=2.5.0,>=2.2.0->pytorch-lightning) (1.15.0)\n",
            "Requirement already satisfied, skipping upgrade: setuptools>=41.0.0 in /usr/local/lib/python3.7/dist-packages (from tensorboard!=2.5.0,>=2.2.0->pytorch-lightning) (57.0.0)\n",
            "Requirement already satisfied, skipping upgrade: google-auth<2,>=1.6.3 in /usr/local/lib/python3.7/dist-packages (from tensorboard!=2.5.0,>=2.2.0->pytorch-lightning) (1.31.0)\n",
            "Requirement already satisfied, skipping upgrade: markdown>=2.6.8 in /usr/local/lib/python3.7/dist-packages (from tensorboard!=2.5.0,>=2.2.0->pytorch-lightning) (3.3.4)\n",
            "Requirement already satisfied, skipping upgrade: requests<3,>=2.21.0 in /usr/local/lib/python3.7/dist-packages (from tensorboard!=2.5.0,>=2.2.0->pytorch-lightning) (2.23.0)\n",
            "Requirement already satisfied, skipping upgrade: tensorboard-plugin-wit>=1.6.0 in /usr/local/lib/python3.7/dist-packages (from tensorboard!=2.5.0,>=2.2.0->pytorch-lightning) (1.8.0)\n",
            "Requirement already satisfied, skipping upgrade: werkzeug>=0.11.15 in /usr/local/lib/python3.7/dist-packages (from tensorboard!=2.5.0,>=2.2.0->pytorch-lightning) (1.0.1)\n",
            "Requirement already satisfied, skipping upgrade: protobuf>=3.6.0 in /usr/local/lib/python3.7/dist-packages (from tensorboard!=2.5.0,>=2.2.0->pytorch-lightning) (3.12.4)\n",
            "Requirement already satisfied, skipping upgrade: google-auth-oauthlib<0.5,>=0.4.1 in /usr/local/lib/python3.7/dist-packages (from tensorboard!=2.5.0,>=2.2.0->pytorch-lightning) (0.4.4)\n",
            "Requirement already satisfied, skipping upgrade: wheel>=0.26; python_version >= \"3\" in /usr/local/lib/python3.7/dist-packages (from tensorboard!=2.5.0,>=2.2.0->pytorch-lightning) (0.36.2)\n",
            "Requirement already satisfied, skipping upgrade: absl-py>=0.4 in /usr/local/lib/python3.7/dist-packages (from tensorboard!=2.5.0,>=2.2.0->pytorch-lightning) (0.12.0)\n",
            "Collecting aiohttp; extra == \"http\"\n",
            "\u001b[?25l  Downloading https://files.pythonhosted.org/packages/88/c0/5890b4c8b04a79b7360e8fe4490feb0bb3ab179743f199f0e6220cebd568/aiohttp-3.7.4.post0-cp37-cp37m-manylinux2014_x86_64.whl (1.3MB)\n",
            "\u001b[K     |████████████████████████████████| 1.3MB 39.5MB/s \n",
            "\u001b[?25hRequirement already satisfied, skipping upgrade: typing-extensions in /usr/local/lib/python3.7/dist-packages (from torch>=1.4->pytorch-lightning) (3.7.4.3)\n",
            "Requirement already satisfied, skipping upgrade: pyparsing>=2.0.2 in /usr/local/lib/python3.7/dist-packages (from packaging->pytorch-lightning) (2.4.7)\n",
            "Requirement already satisfied, skipping upgrade: cachetools<5.0,>=2.0.0 in /usr/local/lib/python3.7/dist-packages (from google-auth<2,>=1.6.3->tensorboard!=2.5.0,>=2.2.0->pytorch-lightning) (4.2.2)\n",
            "Requirement already satisfied, skipping upgrade: pyasn1-modules>=0.2.1 in /usr/local/lib/python3.7/dist-packages (from google-auth<2,>=1.6.3->tensorboard!=2.5.0,>=2.2.0->pytorch-lightning) (0.2.8)\n",
            "Requirement already satisfied, skipping upgrade: rsa<5,>=3.1.4; python_version >= \"3.6\" in /usr/local/lib/python3.7/dist-packages (from google-auth<2,>=1.6.3->tensorboard!=2.5.0,>=2.2.0->pytorch-lightning) (4.7.2)\n",
            "Requirement already satisfied, skipping upgrade: importlib-metadata; python_version < \"3.8\" in /usr/local/lib/python3.7/dist-packages (from markdown>=2.6.8->tensorboard!=2.5.0,>=2.2.0->pytorch-lightning) (4.5.0)\n",
            "Requirement already satisfied, skipping upgrade: idna<3,>=2.5 in /usr/local/lib/python3.7/dist-packages (from requests<3,>=2.21.0->tensorboard!=2.5.0,>=2.2.0->pytorch-lightning) (2.10)\n",
            "Requirement already satisfied, skipping upgrade: chardet<4,>=3.0.2 in /usr/local/lib/python3.7/dist-packages (from requests<3,>=2.21.0->tensorboard!=2.5.0,>=2.2.0->pytorch-lightning) (3.0.4)\n",
            "Requirement already satisfied, skipping upgrade: urllib3!=1.25.0,!=1.25.1,<1.26,>=1.21.1 in /usr/local/lib/python3.7/dist-packages (from requests<3,>=2.21.0->tensorboard!=2.5.0,>=2.2.0->pytorch-lightning) (1.24.3)\n",
            "Requirement already satisfied, skipping upgrade: certifi>=2017.4.17 in /usr/local/lib/python3.7/dist-packages (from requests<3,>=2.21.0->tensorboard!=2.5.0,>=2.2.0->pytorch-lightning) (2021.5.30)\n",
            "Requirement already satisfied, skipping upgrade: requests-oauthlib>=0.7.0 in /usr/local/lib/python3.7/dist-packages (from google-auth-oauthlib<0.5,>=0.4.1->tensorboard!=2.5.0,>=2.2.0->pytorch-lightning) (1.3.0)\n",
            "Collecting yarl<2.0,>=1.0\n",
            "\u001b[?25l  Downloading https://files.pythonhosted.org/packages/f1/62/046834c5fc998c88ab2ef722f5d42122230a632212c8afa76418324f53ff/yarl-1.6.3-cp37-cp37m-manylinux2014_x86_64.whl (294kB)\n",
            "\u001b[K     |████████████████████████████████| 296kB 44.5MB/s \n",
            "\u001b[?25hRequirement already satisfied, skipping upgrade: attrs>=17.3.0 in /usr/local/lib/python3.7/dist-packages (from aiohttp; extra == \"http\"->fsspec[http]!=2021.06.0,>=2021.05.0->pytorch-lightning) (21.2.0)\n",
            "Collecting async-timeout<4.0,>=3.0\n",
            "  Downloading https://files.pythonhosted.org/packages/e1/1e/5a4441be21b0726c4464f3f23c8b19628372f606755a9d2e46c187e65ec4/async_timeout-3.0.1-py3-none-any.whl\n",
            "Collecting multidict<7.0,>=4.5\n",
            "\u001b[?25l  Downloading https://files.pythonhosted.org/packages/7c/a6/4123b8165acbe773d1a8dc8e3f0d1edea16d29f7de018eda769abb56bd30/multidict-5.1.0-cp37-cp37m-manylinux2014_x86_64.whl (142kB)\n",
            "\u001b[K     |████████████████████████████████| 143kB 48.3MB/s \n",
            "\u001b[?25hRequirement already satisfied, skipping upgrade: pyasn1<0.5.0,>=0.4.6 in /usr/local/lib/python3.7/dist-packages (from pyasn1-modules>=0.2.1->google-auth<2,>=1.6.3->tensorboard!=2.5.0,>=2.2.0->pytorch-lightning) (0.4.8)\n",
            "Requirement already satisfied, skipping upgrade: zipp>=0.5 in /usr/local/lib/python3.7/dist-packages (from importlib-metadata; python_version < \"3.8\"->markdown>=2.6.8->tensorboard!=2.5.0,>=2.2.0->pytorch-lightning) (3.4.1)\n",
            "Requirement already satisfied, skipping upgrade: oauthlib>=3.0.0 in /usr/local/lib/python3.7/dist-packages (from requests-oauthlib>=0.7.0->google-auth-oauthlib<0.5,>=0.4.1->tensorboard!=2.5.0,>=2.2.0->pytorch-lightning) (3.1.1)\n",
            "Building wheels for collected packages: future\n",
            "  Building wheel for future (setup.py) ... \u001b[?25l\u001b[?25hdone\n",
            "  Created wheel for future: filename=future-0.18.2-cp37-none-any.whl size=491070 sha256=59463da7842556f9d66aa8f9858ef2fdc7b59786ec53b3cf9b4700875a4fea8c\n",
            "  Stored in directory: /root/.cache/pip/wheels/8b/99/a0/81daf51dcd359a9377b110a8a886b3895921802d2fc1b2397e\n",
            "Successfully built future\n",
            "\u001b[31mERROR: tensorflow 2.5.0 has requirement tensorboard~=2.5, but you'll have tensorboard 2.4.1 which is incompatible.\u001b[0m\n",
            "Installing collected packages: pyDeprecate, tensorboard, torchmetrics, multidict, yarl, async-timeout, aiohttp, fsspec, PyYAML, future, pytorch-lightning\n",
            "  Found existing installation: tensorboard 2.5.0\n",
            "    Uninstalling tensorboard-2.5.0:\n",
            "      Successfully uninstalled tensorboard-2.5.0\n",
            "  Found existing installation: PyYAML 3.13\n",
            "    Uninstalling PyYAML-3.13:\n",
            "      Successfully uninstalled PyYAML-3.13\n",
            "  Found existing installation: future 0.16.0\n",
            "    Uninstalling future-0.16.0:\n",
            "      Successfully uninstalled future-0.16.0\n",
            "Successfully installed PyYAML-5.4.1 aiohttp-3.7.4.post0 async-timeout-3.0.1 fsspec-2021.5.0 future-0.18.2 multidict-5.1.0 pyDeprecate-0.3.0 pytorch-lightning-1.3.6 tensorboard-2.4.1 torchmetrics-0.3.2 yarl-1.6.3\n",
            "\u001b[K     |████████████████████████████████| 752.0MB 23kB/s \n",
            "\u001b[K     |████████████████████████████████| 61kB 6.7MB/s \n",
            "\u001b[K     |████████████████████████████████| 6.6MB 25.9MB/s \n",
            "\u001b[K     |████████████████████████████████| 1.3MB 5.2MB/s \n",
            "\u001b[K     |████████████████████████████████| 901kB 18.7MB/s \n",
            "\u001b[K     |████████████████████████████████| 2.9MB 14.7MB/s \n",
            "\u001b[K     |████████████████████████████████| 1.1MB 42.4MB/s \n",
            "\u001b[K     |████████████████████████████████| 133kB 44.7MB/s \n",
            "\u001b[K     |████████████████████████████████| 245kB 40.3MB/s \n",
            "\u001b[K     |████████████████████████████████| 8.7MB 40.7MB/s \n",
            "\u001b[K     |████████████████████████████████| 51kB 6.1MB/s \n",
            "\u001b[K     |████████████████████████████████| 10.1MB 41.2MB/s \n",
            "\u001b[K     |████████████████████████████████| 245kB 46.3MB/s \n",
            "\u001b[K     |████████████████████████████████| 327kB 26.5MB/s \n",
            "\u001b[?25h  Building wheel for thai2transformers (setup.py) ... \u001b[?25l\u001b[?25hdone\n",
            "  Building wheel for seqeval (setup.py) ... \u001b[?25l\u001b[?25hdone\n",
            "  Building wheel for pyahocorasick (setup.py) ... \u001b[?25l\u001b[?25hdone\n"
          ],
          "name": "stdout"
        }
      ]
    },
    {
      "cell_type": "code",
      "metadata": {
        "id": "Tal7lcHntYsZ"
      },
      "source": [
        "import ast\n",
        "import json\n",
        "import re\n",
        "import matplotlib.pyplot as plt\n",
        "import numpy as np\n",
        "import pandas as pd\n",
        "import pickle\n",
        "import pythainlp\n",
        "import itertools\n",
        "import os\n",
        "\n",
        "from pythainlp.util import normalize\n",
        "from transformers import pipeline, AutoTokenizer\n",
        "from thai2transformers.tokenizers import ThaiWordsNewmmTokenizer\n",
        "from collections import Counter\n",
        "from sklearn import metrics\n",
        "from sklearn.preprocessing import MultiLabelBinarizer\n",
        "from sklearn.model_selection import train_test_split"
      ],
      "execution_count": null,
      "outputs": []
    },
    {
      "cell_type": "code",
      "metadata": {
        "id": "-CnDoc9AhwJW"
      },
      "source": [
        "import keras\n",
        "import keras.backend as k\n",
        "\n",
        "from keras.preprocessing.sequence import pad_sequences \n",
        "from keras.models import *\n",
        "from keras.layers import *\n",
        "from keras.callbacks import *"
      ],
      "execution_count": null,
      "outputs": []
    },
    {
      "cell_type": "markdown",
      "metadata": {
        "id": "ZY36_eeDvkNm"
      },
      "source": [
        "## Load Dataset"
      ]
    },
    {
      "cell_type": "code",
      "metadata": {
        "id": "onFCVuuKuTiR"
      },
      "source": [
        "directory = './'"
      ],
      "execution_count": null,
      "outputs": []
    },
    {
      "cell_type": "code",
      "metadata": {
        "id": "xQQ-Opz_t4PR"
      },
      "source": [
        "def read_data(room):\n",
        "  with open(directory + '1 Scrape Data/{}.txt'.format(room), encoding=\"utf8\") as json_file:\n",
        "    data = json.loads(json.load(json_file))\n",
        "    df = pd.DataFrame(data)\n",
        "    df = df[['title', 'tags']]\n",
        "    return df\n",
        "\n",
        "bangrak_df = read_data('bangrak')\n",
        "beauty_df = read_data('beauty')\n",
        "rajdumnern_df = read_data('rajdumnern')\n",
        "religious_df = read_data('religious')\n",
        "sinthorn_df = read_data('sinthorn')"
      ],
      "execution_count": null,
      "outputs": []
    },
    {
      "cell_type": "code",
      "metadata": {
        "colab": {
          "base_uri": "https://localhost:8080/",
          "height": 204
        },
        "id": "RS_cNctx_R0s",
        "outputId": "1af9d542-dde0-4a0c-8d0f-7f82544f4a89"
      },
      "source": [
        "df = pd.concat([bangrak_df, beauty_df, rajdumnern_df, religious_df, sinthorn_df])\n",
        "df.head()"
      ],
      "execution_count": null,
      "outputs": [
        {
          "output_type": "execute_result",
          "data": {
            "text/html": [
              "<div>\n",
              "<style scoped>\n",
              "    .dataframe tbody tr th:only-of-type {\n",
              "        vertical-align: middle;\n",
              "    }\n",
              "\n",
              "    .dataframe tbody tr th {\n",
              "        vertical-align: top;\n",
              "    }\n",
              "\n",
              "    .dataframe thead th {\n",
              "        text-align: right;\n",
              "    }\n",
              "</style>\n",
              "<table border=\"1\" class=\"dataframe\">\n",
              "  <thead>\n",
              "    <tr style=\"text-align: right;\">\n",
              "      <th></th>\n",
              "      <th>title</th>\n",
              "      <th>tags</th>\n",
              "    </tr>\n",
              "  </thead>\n",
              "  <tbody>\n",
              "    <tr>\n",
              "      <th>0</th>\n",
              "      <td>หาเพื่อนคุยค่ะ</td>\n",
              "      <td>[ศาลาคนโสด, หาเพื่อน, ศาลาคนเศร้า, ประสบการณ์ค...</td>\n",
              "    </tr>\n",
              "    <tr>\n",
              "      <th>1</th>\n",
              "      <td>เราควรรู้สึกยังไงดี ?</td>\n",
              "      <td>[ประสบการณ์ความรัก]</td>\n",
              "    </tr>\n",
              "    <tr>\n",
              "      <th>2</th>\n",
              "      <td>LGBTQ ในสังคมไทยทำไมยังไม่เปิดกว้างเหมือนต่างป...</td>\n",
              "      <td>[ความรักต่างวัย, ความรักวัยรุ่น, ความรักเพศที่...</td>\n",
              "    </tr>\n",
              "    <tr>\n",
              "      <th>3</th>\n",
              "      <td>รักข้างเดียว</td>\n",
              "      <td>[ความรักวัยรุ่น, แอบรัก]</td>\n",
              "    </tr>\n",
              "    <tr>\n",
              "      <th>4</th>\n",
              "      <td>ทำไมผู้ชายสมัยนี้งี่เง่าขี้น้อยใจทำตัวเหมือนผู...</td>\n",
              "      <td>[ความรักวัยรุ่น]</td>\n",
              "    </tr>\n",
              "  </tbody>\n",
              "</table>\n",
              "</div>"
            ],
            "text/plain": [
              "                                               title                                               tags\n",
              "0                                     หาเพื่อนคุยค่ะ  [ศาลาคนโสด, หาเพื่อน, ศาลาคนเศร้า, ประสบการณ์ค...\n",
              "1                              เราควรรู้สึกยังไงดี ?                                [ประสบการณ์ความรัก]\n",
              "2  LGBTQ ในสังคมไทยทำไมยังไม่เปิดกว้างเหมือนต่างป...  [ความรักต่างวัย, ความรักวัยรุ่น, ความรักเพศที่...\n",
              "3                                       รักข้างเดียว                           [ความรักวัยรุ่น, แอบรัก]\n",
              "4  ทำไมผู้ชายสมัยนี้งี่เง่าขี้น้อยใจทำตัวเหมือนผู...                                   [ความรักวัยรุ่น]"
            ]
          },
          "metadata": {
            "tags": []
          },
          "execution_count": 6
        }
      ]
    },
    {
      "cell_type": "markdown",
      "metadata": {
        "id": "0YNzxPbAxLrM"
      },
      "source": [
        "## EDA"
      ]
    },
    {
      "cell_type": "code",
      "metadata": {
        "colab": {
          "base_uri": "https://localhost:8080/"
        },
        "id": "Xy6M2Xj4xJ4S",
        "outputId": "0b81ded9-cd84-4ce2-867c-7d347c48486e"
      },
      "source": [
        "all_tags = df['tags'].sum()\n",
        "count_tags = Counter(all_tags).most_common()\n",
        "count_tags"
      ],
      "execution_count": null,
      "outputs": [
        {
          "output_type": "execute_result",
          "data": {
            "text/plain": [
              "[('ปัญหาความรัก', 3347),\n",
              " ('การเมือง', 3226),\n",
              " ('หุ้น', 2713),\n",
              " ('ศาสนาพุทธ', 2622),\n",
              " ('ประสบการณ์ความรัก', 2233),\n",
              " ('ความงาม', 1843),\n",
              " ('รัฐบาล', 1702),\n",
              " ('ศาสนา', 1445),\n",
              " ('ประสบการณ์ชีวิตคู่', 1401),\n",
              " ('ความรักวัยรุ่น', 1362),\n",
              " ('โรคติดเชื้อไวรัสโคโรนาสายพันธุ์ใหม่ 2019 (COVID-19)', 1250),\n",
              " ('ปฏิบัติธรรม', 1216),\n",
              " ('การลงทุน', 953),\n",
              " ('Skin Care', 945),\n",
              " ('ธนาคาร', 938),\n",
              " ('สิว', 929),\n",
              " ('พระไตรปิฎก', 910),\n",
              " ('ความรักวัยทำงาน', 896),\n",
              " ('การเงิน', 831),\n",
              " ('ศาลาคนเศร้า', 821),\n",
              " ('ลดความอ้วน', 759),\n",
              " ('ข่าวเศรษฐกิจ', 739),\n",
              " ('คลินิกความงาม', 728),\n",
              " ('วัด', 722),\n",
              " ('นักการเมือง', 703),\n",
              " ('ทำบุญ', 693),\n",
              " ('ศาลาคนโสด', 643),\n",
              " ('แอบรัก', 633),\n",
              " ('ศัลยกรรมความงาม', 626),\n",
              " ('แฟชั่น', 587),\n",
              " ('ปัญหาชีวิต', 537),\n",
              " ('เครื่องสำอาง', 535),\n",
              " ('ทำผม', 535),\n",
              " ('ตลาดหลักทรัพย์', 531),\n",
              " ('ปัญหาวัยรุ่น', 490),\n",
              " ('พิธีกรรมทางศาสนา', 450),\n",
              " ('Technical Analysis', 437),\n",
              " ('สุขภาพกาย', 428),\n",
              " ('ความรักต่างวัย', 417),\n",
              " ('มหาสติปัฏฐาน 4', 413),\n",
              " ('ออกกำลังกาย', 411),\n",
              " ('บัตรเครดิต', 411),\n",
              " ('การ์ตูนการเมือง', 410),\n",
              " ('อาหารเสริม', 409),\n",
              " ('รัฐศาสตร์', 405),\n",
              " ('ความเชื่อส่วนบุคคล', 394),\n",
              " ('ศาสนาอิสลาม', 374),\n",
              " ('ผลิตภัณฑ์ดูแลเส้นผม', 367),\n",
              " ('ชีวิตวัยรุ่น', 358),\n",
              " ('ศาสนาคริสต์', 351),\n",
              " ('TFEX (Thailand Future Exchange)', 339),\n",
              " ('กระทรวงสาธารณสุข', 338),\n",
              " ('พิธีกรรมและความเชื่อ', 336),\n",
              " ('Value Investment', 314),\n",
              " ('พรรคเพื่อไทย', 312),\n",
              " ('การเมืองต่างประเทศ', 309),\n",
              " ('ปัญหาครอบครัว', 303),\n",
              " ('ผลิตภัณฑ์ดูแลผิวหน้า', 293),\n",
              " ('กองทุนรวม', 287),\n",
              " ('รัฐธรรมนูญ', 284),\n",
              " ('แต่งหน้า', 282),\n",
              " ('Hurt Room', 281),\n",
              " ('แฟนเก่า', 277),\n",
              " ('ผลิตภัณฑ์ดูแลผิว', 270),\n",
              " ('ฝ่ายค้าน', 267),\n",
              " ('การเมืองท้องถิ่น', 262),\n",
              " ('สินเชื่อเพื่อที่อยู่อาศัย', 250),\n",
              " ('วัคซีน (Vaccine)', 248),\n",
              " ('ความรักเพศที่สาม', 243),\n",
              " ('สภาผู้แทน', 242),\n",
              " ('ร้องทุกข์', 239),\n",
              " ('กฎหมายการเมือง', 223),\n",
              " ('โภชนาการ', 215),\n",
              " ('แต่งกลอน', 212),\n",
              " ('โรคผิวหนัง', 212),\n",
              " ('เศรษฐกิจ', 209),\n",
              " ('สุขภาพจิต', 207),\n",
              " (\"Men's Fashion\", 203),\n",
              " ('เลือกตั้ง', 203),\n",
              " ('น้ำหอม', 201),\n",
              " ('บทสวดมนต์', 200),\n",
              " ('ธนาคารกสิกรไทย', 192),\n",
              " ('พรรคการเมือง', 190),\n",
              " ('ผิวแพ้ง่าย', 189),\n",
              " ('แพทย์', 183),\n",
              " ('รักสามเส้า', 177),\n",
              " ('สิทธิมนุษยชน (Human Rights)', 176),\n",
              " ('ธนาคารกรุงไทย', 173),\n",
              " ('พรรคก้าวไกล', 172),\n",
              " ('การออมเงิน', 165),\n",
              " ('สังคมไทย', 164),\n",
              " ('มนุษย์เงินเดือน', 164),\n",
              " ('ยา', 157),\n",
              " ('Fundamental Analysis', 156),\n",
              " ('คัมภีร์ไบเบิล', 154),\n",
              " ('หย่าร้าง', 149),\n",
              " ('บทกวี', 149),\n",
              " ('หาเพื่อน', 144),\n",
              " ('ปรัชญา', 144),\n",
              " ('บริษัทหลักทรัพย์', 144),\n",
              " ('ครอบครัว', 143),\n",
              " ('แต่งงาน', 143),\n",
              " ('ผิวมัน', 138),\n",
              " ('ประเทศไทย', 137),\n",
              " ('คุ้มครองผู้บริโภค', 137),\n",
              " ('เครื่องแต่งกาย', 133),\n",
              " ('สินเชื่อรถยนต์', 131),\n",
              " ('พระพุทธเจ้า', 131),\n",
              " ('การทำสีผม', 130),\n",
              " ('พระสงฆ์', 128),\n",
              " ('เพื่อนวัยเรียน', 120),\n",
              " ('ปัญหาสังคม', 114),\n",
              " ('อุปกรณ์ทำผม/จัดแต่งทรงผม', 114),\n",
              " ('วิปัสสนากรรมฐาน', 113),\n",
              " ('พระธรรม', 111),\n",
              " ('อัลกุรอ่าน', 111),\n",
              " ('ตลาดหลักทรัพย์แห่งประเทศไทย (SET)', 111),\n",
              " ('ประวัติศาสตร์', 110),\n",
              " ('กฎหมายชาวบ้าน', 108),\n",
              " ('เที่ยววัด', 108),\n",
              " ('โบสถ์', 107),\n",
              " ('ฟิตเนส', 105),\n",
              " ('ธุรกรรมทางการเงิน', 105),\n",
              " ('สิ่งลี้ลับ (mystery)', 104),\n",
              " ('คนละครึ่ง (โครงการ)', 103),\n",
              " ('เราชนะ (โครงการ)', 100),\n",
              " ('กฎแห่งกรรม', 99),\n",
              " ('ธนาคารไทยพาณิชย์', 97),\n",
              " ('กลุ่มบุคคลที่มีความหลากหลายทางเพศ (LGBT)', 95),\n",
              " ('เซรั่ม', 93),\n",
              " ('สมถกรรมฐาน', 93),\n",
              " ('เจ้าของธุรกิจ', 92),\n",
              " ('โรงพยาบาล', 91),\n",
              " ('เพศที่สาม', 89),\n",
              " ('เตือนภัย', 87),\n",
              " ('ความหลากหลายทางเพศ', 85),\n",
              " ('กลอนไทย', 85),\n",
              " ('บทความความรัก', 84),\n",
              " ('ครีมกันแดด', 84),\n",
              " ('เศรษฐศาสตร์', 84),\n",
              " ('ธนาคารออมสิน', 84),\n",
              " ('ประยุทธ์ จันทร์โอชา', 83),\n",
              " ('การดัดผม', 82),\n",
              " ('เงินตราต่างประเทศ', 82),\n",
              " ('การวางแผนการเงิน', 81),\n",
              " ('ข่าวการเมือง', 80),\n",
              " ('สินเชื่อส่วนบุคคล', 80),\n",
              " ('อานาปานสติ', 80),\n",
              " ('สินเชื่อธุรกิจ', 80),\n",
              " ('อสังหาริมทรัพย์', 78),\n",
              " ('ธนาคารกรุงเทพ', 78),\n",
              " ('กฎหมายอาญา (Criminal Law)', 77),\n",
              " ('โรคติดต่อ', 77),\n",
              " ('การยืดผม', 76),\n",
              " ('การอุปสมบท (การบวชพระภิกษุ)', 76),\n",
              " ('หน้าต่างโลก', 75),\n",
              " ('ประเทศพม่า', 74),\n",
              " ('Mobile Application', 74),\n",
              " ('วิทยาศาสตร์', 74),\n",
              " ('ข่าวต่างประเทศ', 73),\n",
              " ('เครื่องรางของขลัง', 73),\n",
              " ('Cardio', 69),\n",
              " ('วัตถุมงคล', 68),\n",
              " ('ธุรกิจความงาม', 66),\n",
              " ('ทำนายฝัน', 65),\n",
              " ('เบิร์น (Burn)', 65),\n",
              " ('Weight Training', 65),\n",
              " ('วันสำคัญทางศาสนา', 65),\n",
              " ('ทักษิณ ชินวัตร', 64),\n",
              " ('นักจิตวิทยา', 63),\n",
              " ('คํานวณแคลอรี่', 63),\n",
              " ('โครงการลงทะเบียนเพื่อสวัสดิการแห่งรัฐ', 62),\n",
              " ('การเมืองระหว่างประเทศ', 62),\n",
              " ('วางแผนครอบครัว', 61),\n",
              " ('หนี้สิน (Liability)', 61),\n",
              " ('Dress Up Club', 61),\n",
              " ('พุทธศาสนิกชน', 61),\n",
              " ('บ้าน', 60),\n",
              " ('สหรัฐอเมริกา', 60),\n",
              " ('จิตวิทยา (Psychology)', 59),\n",
              " ('ศาสนาฮินดู', 59),\n",
              " ('นักลงทุน', 58),\n",
              " ('การศึกษา', 57),\n",
              " ('อุปกรณ์เสริมความงาม', 57),\n",
              " ('ธนาธร จึงรุ่งเรืองกิจ', 57),\n",
              " ('กรุงเทพมหานคร', 56),\n",
              " ('อาหารเพื่อสุขภาพ', 56),\n",
              " ('แฟชั่นเกาหลี', 56),\n",
              " ('เพลง', 55),\n",
              " ('รองเท้า', 55),\n",
              " ('กระทรวงการคลัง', 55),\n",
              " ('สกุลเงินดิจิตอล', 55),\n",
              " ('โคลง', 54),\n",
              " ('พระเครื่อง', 54),\n",
              " ('ทำเล็บ', 53),\n",
              " ('SCB EASY', 53),\n",
              " ('ระบบผิวหนัง (Intergumentary System)', 52),\n",
              " ('งานขาย', 51),\n",
              " ('เครื่องสำอางเกาหลี', 51),\n",
              " ('ทันตกรรม', 50),\n",
              " ('บัตรกดเงินสด', 50),\n",
              " ('โรคซึมเศร้า', 49),\n",
              " ('โรงเรียน', 48),\n",
              " ('ธนาคารอาคารสงเคราะห์', 48),\n",
              " ('ธนาคารกรุงศรีอยุธยา', 48),\n",
              " ('การตลาด', 47),\n",
              " ('มลพิษทางอากาศ', 47),\n",
              " ('มัสยิด', 47),\n",
              " ('ที่ดิน', 46),\n",
              " ('ผลิตภัณฑ์เวชสำอาง', 46),\n",
              " ('กวีการเมือง', 46),\n",
              " ('คนรักต่างชาติ', 45),\n",
              " ('วุฒิสภา', 45),\n",
              " ('รถยนต์', 44),\n",
              " ('นาฬิกา', 44),\n",
              " ('วิ่งเพื่อสุขภาพ', 44),\n",
              " ('ทันตกรรมจัดฟัน', 44),\n",
              " ('อารยธรรม (Civilization)', 44),\n",
              " ('ทริปถ่ายรูป', 44),\n",
              " ('ประชามติ', 44),\n",
              " ('สมุดบัญชี', 44),\n",
              " ('สังคมชาวพันทิป', 43),\n",
              " ('ของสะสม', 42),\n",
              " ('ผิวแห้ง', 42),\n",
              " ('ฉันท์', 42),\n",
              " ('True Money Wallet', 42),\n",
              " ('puppy love', 41),\n",
              " ('อาหาร', 41),\n",
              " ('การพัฒนาสังคม (Social Development)', 41),\n",
              " ('ประวัติศาสตร์ไทย', 41),\n",
              " ('เพื่อนร่วมงาน', 40),\n",
              " ('นักกฎหมาย', 39),\n",
              " ('ของใช้ส่วนตัวสำหรับผู้ชาย', 39),\n",
              " ('บัตรสวัสดิการแห่งรัฐ', 39),\n",
              " ('อิสลามวิทยาลัยแห่งประเทศไทย', 39),\n",
              " ('สํานักปฏิบัติธรรม', 39),\n",
              " ('ดูดวง', 38),\n",
              " ('การเรียน', 38),\n",
              " ('คลับสุขภาพ', 38),\n",
              " ('ไขมัน (Fat)', 38),\n",
              " ('กล้องดิจิตอล', 38),\n",
              " ('สังคมคุณแม่', 37),\n",
              " ('สินเชื่อระยะยาว', 37),\n",
              " ('ธนาคารทหารไทย', 37),\n",
              " ('ทนายความ', 36),\n",
              " ('เภสัชกร', 36),\n",
              " ('คอนโดมิเนียม', 36),\n",
              " ('งานธนาคาร', 36),\n",
              " ('การบริหารจัดการ', 35),\n",
              " ('คอลลาเจน (Collagen)', 35),\n",
              " ('พระพุทธรูป', 35),\n",
              " ('K-Mobile Banking PLUS', 35),\n",
              " ('ปรัชญาชีวิต', 34),\n",
              " ('ของใช้ส่วนตัวสำหรับผู้หญิง', 34),\n",
              " ('กระทรวงศึกษาธิการ', 34),\n",
              " ('ศีล 5', 34),\n",
              " ('เครดิตบูโร', 34),\n",
              " ('BTC (หุ้น)', 34),\n",
              " ('งานค้าขาย', 33),\n",
              " ('พิธีแต่งงาน', 33),\n",
              " ('กระเป๋า', 33),\n",
              " ('ประวัติศาสตร์การเมือง', 33),\n",
              " ('เงินปันผล', 33),\n",
              " ('เพลงรัก', 32),\n",
              " ('โรคภูมิแพ้', 32),\n",
              " ('แบรนด์เสื้อผ้าเกาหลี', 32),\n",
              " ('จังหวัดเชียงใหม่', 32),\n",
              " ('ธรรมทาน', 32),\n",
              " ('ภาษาไทย', 31),\n",
              " ('พิธีแต่งงานแบบอิสลาม (พิธีนิกะห์)', 31),\n",
              " ('เที่ยวไทย', 31),\n",
              " ('คลินิกทันตกรรมจัดฟัน', 31),\n",
              " ('คณะกรรมการการเลือกตั้ง (กกต.)', 31),\n",
              " ('ETF (Exchange Traded Fund)', 31),\n",
              " ('รีไฟแนนซ์', 30),\n",
              " ('App หาเพื่อน', 29),\n",
              " ('จิตอาสา', 29),\n",
              " ('อุปกรณ์แต่งหน้า', 29),\n",
              " ('ภาษีเงินได้บุคคลธรรมดา', 29),\n",
              " ('บัตรเอทีเอ็ม', 29),\n",
              " ('วิชาการ', 28),\n",
              " ('บ้านเดี่ยว', 28),\n",
              " ('ชีวประวัติบุคคล', 28),\n",
              " ('การบรรพชา (การบวชสามเณร)', 28),\n",
              " ('มหาวิทยาลัยอิสลามยะลา', 28),\n",
              " ('เรือนหอ', 27),\n",
              " ('กระ ฝ้า', 27),\n",
              " ('MyMo By GSB Mobile Banking', 27),\n",
              " ('ชีวิตในต่างแดน', 26),\n",
              " ('ตั้งครรภ์', 26),\n",
              " ('ภาคเหนือ', 26),\n",
              " ('ยาเม็ดคุมกำเนิด', 26),\n",
              " ('ทาวน์โฮม / ทาวน์เฮ้าส์', 26),\n",
              " ('ดูดวงความรัก', 25),\n",
              " ('การเลี้ยงลูก', 25),\n",
              " ('กิจกรรมพันทิป', 25),\n",
              " ('มาส์กหน้า', 25),\n",
              " ('Acne-Aid', 25),\n",
              " ('Shopee', 25),\n",
              " ('บัตรประจำตัวประชาชน', 25),\n",
              " ('TrueMoney', 25),\n",
              " ('สินสอด', 24),\n",
              " ('งานฝีมือ', 24),\n",
              " ('การสอนลูก', 24),\n",
              " ('ไสยศาสตร์', 24),\n",
              " ('คนไทยในต่างแดน', 24),\n",
              " ('ท่องเที่ยว', 24),\n",
              " ('กางเกงยีนส์', 24),\n",
              " ('พุทธทาสภิกขุ', 24),\n",
              " ('มหาวิทยาลัย', 23),\n",
              " ('รีไฟแนนซ์บ้าน', 23),\n",
              " ('กองทุนเงินให้กู้ยืมเพื่อการศึกษา (กยศ.)', 23),\n",
              " ('ประเทศอินเดีย', 23),\n",
              " ('รองพื้น', 23),\n",
              " ('สบู่', 23),\n",
              " ('อาวุธยุทโธปกรณ์', 23),\n",
              " ('พระบูชา', 23),\n",
              " ('วางแผนแต่งงาน', 22),\n",
              " ('ความรักสูงวัย', 22),\n",
              " ('ระบบร่างกาย', 22),\n",
              " ('อนุทิน ชาญวีรกูล', 22),\n",
              " ('เป๋าตัง (App)', 22),\n",
              " ('หมอดู', 21),\n",
              " ('แรงงานต่างด้าว', 21),\n",
              " ('ประจำเดือน (Menstruation)', 21),\n",
              " ('สไตล์ลิสต์ (Stylist)', 21),\n",
              " ('คลินิกทันตกรรม', 21),\n",
              " ('ธุรกิจส่วนตัว', 21),\n",
              " ('Organic', 21),\n",
              " ('ประกันสุขภาพ', 21),\n",
              " ('ทอดกฐิน', 21),\n",
              " ('ตราสารหนี้', 21),\n",
              " ('โอนเงินระหว่างประเทศ', 21),\n",
              " ('งานราชการ', 20),\n",
              " ('บทความ', 20),\n",
              " ('เทคโนโลยี', 20),\n",
              " ('ธุรกรรมออนไลน์', 20),\n",
              " ('ยาสมุนไพร', 20),\n",
              " ('ยิ่งลักษณ์ ชินวัตร', 20),\n",
              " ('กรมสรรพากร', 20),\n",
              " ('ฮวงจุ้ย', 20),\n",
              " ('Single Mom', 19),\n",
              " ('Instagram', 19),\n",
              " ('โลก (Earth)', 19),\n",
              " ('เพิ่มความสูง', 19),\n",
              " ('สังคมศาสตร์', 19),\n",
              " ('ชุดชั้นใน', 19),\n",
              " ('แบรนด์เสื้อผ้าสตรีทเกาหลี', 19),\n",
              " ('สินค้าเกษตร', 19),\n",
              " ('การถวายสังฆทาน', 19),\n",
              " ('truemove H', 19),\n",
              " ('เรื่องเล่าสยองขวัญ', 18),\n",
              " ('โรงเรียนเสริมสวย', 18),\n",
              " ('เพิ่มน้ำหนัก', 18),\n",
              " ('เคมี', 18),\n",
              " ('พรรคพลังประชารัฐ', 18),\n",
              " ('วิทยาลัยพุทธศาสนานานาชาติ', 18),\n",
              " ('truemove', 18),\n",
              " ('ธนาคารธนชาต', 18),\n",
              " ('พิธีหมั้น', 17),\n",
              " ('ช่วยเหลือสัตว์', 17),\n",
              " ('นักเรียน', 17),\n",
              " ('ออกแบบและสร้างบ้าน', 17),\n",
              " ('ภาคอีสาน', 17),\n",
              " ('ประเทศจีน', 17),\n",
              " ('โรคตา', 17),\n",
              " ('สำนักนายกรัฐมนตรี', 17),\n",
              " ('กระทรวงพาณิชย์', 17),\n",
              " ('กระทรวงกลาโหม', 17),\n",
              " ('โบราณสถาน', 17),\n",
              " ('ภาพถ่าย', 17),\n",
              " ('ธนาคารซิตี้แบงค์', 17),\n",
              " ('เงินฝากออมทรัพย์', 17),\n",
              " ('พิธีสู่ขอ', 16),\n",
              " ('ทะเบียนสมรส', 16),\n",
              " ('ครู - อาจารย์', 16),\n",
              " ('งานบ้าน', 16),\n",
              " ('เครื่องประดับ', 16),\n",
              " ('ทันตแพทย์', 16),\n",
              " ('จังหวัดนครศรีธรรมราช', 16),\n",
              " ('ชีววิทยา', 16),\n",
              " ('นักท่องเที่ยวชาวต่างชาติ', 16),\n",
              " ('ประกันสังคม', 16),\n",
              " ('จิตแพทย์', 15),\n",
              " ('ภาคใต้', 15),\n",
              " ('แมว', 15),\n",
              " ('หน้ากากอนามัย', 15),\n",
              " ('พยาบาล', 15),\n",
              " ('ทรัพยากรบุคคล', 15),\n",
              " ('โรงพยาบาลรัฐบาล', 15),\n",
              " ('กระทรวงคมนาคม', 15),\n",
              " ('สุดารัตน์ เกยุราพันธุ์', 15),\n",
              " ('กระทรวงยุติธรรม', 15),\n",
              " ('หุ้น IPO', 15),\n",
              " ('Bualuang mBanking', 15),\n",
              " ('AEON', 15),\n",
              " ('บัตรเดบิต', 15),\n",
              " ('TMB Touch', 15),\n",
              " ('KTB netbank', 15),\n",
              " ('วิธีรับมือผู้สูงอายุ', 14),\n",
              " ('ดนตรี', 14),\n",
              " ('ทำงานต่างประเทศ', 14),\n",
              " ('พนักงานประจำ', 14),\n",
              " ('ประเทศญี่ปุ่น', 14),\n",
              " ('สัตว์เลี้ยง', 14),\n",
              " ('7-Eleven', 14),\n",
              " ('เรื่องเล่าจากผู้สูงอายุ', 14),\n",
              " ('มูลนิธิ', 14),\n",
              " ('ผลิตภัณฑ์ทำความสะอาด', 14),\n",
              " ('เครื่องดื่ม', 14),\n",
              " ('รองเท้ากีฬา', 14),\n",
              " ('ระบบขนส่งมวลชน', 14),\n",
              " ('กระทรวงแรงงาน', 14),\n",
              " ('พรรคอนาคตใหม่', 14),\n",
              " ('คดีความ', 14),\n",
              " ('ถามตรงๆ กับจอมขวัญ หลาวเพ็ชร์ (รายการโทรทัศน์)', 14),\n",
              " ('เทศกาลกินเจ', 14),\n",
              " ('ภาษาบาลี', 14),\n",
              " ('โชว์รูมรถยนต์', 14),\n",
              " ('เกม', 13),\n",
              " ('เรื่องสั้น', 13),\n",
              " ('นักแสดง', 13),\n",
              " ('โรงพยาบาลเอกชน', 13),\n",
              " ('ภาษีอากร', 13),\n",
              " ('วิ่ง', 13),\n",
              " ('Chanel', 13),\n",
              " ('อาหารเจ', 13),\n",
              " ('แผนที่เดินทาง', 13),\n",
              " ('พรรคประชาธิปัตย์', 13),\n",
              " ('องค์การบริหารส่วนจังหวัด', 13),\n",
              " ('ข่าวออนไลน์', 13),\n",
              " ('สำนักงานประกันสังคม', 13),\n",
              " ('ผู้สูงอายุ', 13),\n",
              " ('หนังสือ', 13),\n",
              " ('พระพิฆเนศวร', 13),\n",
              " ('วันพระ', 13),\n",
              " ('Gold Future', 13),\n",
              " ('สมาคมนักลงทุนเน้นคุณค่า (ประเทศไทย)', 13),\n",
              " ('Forex (Foreign Exchange)', 13),\n",
              " ('บริษัทพัฒนาอสังหาริมทรัพย์', 13),\n",
              " ('iPhone App', 13),\n",
              " ('Blockchain', 13),\n",
              " ('ประกันสินเชื่อบ้าน', 13),\n",
              " ('เครื่องโกนหนวด', 12),\n",
              " ('นักศึกษา', 12),\n",
              " ('Social Network', 12),\n",
              " ('เชื้อชาติ', 12),\n",
              " ('กฎหมายแพ่ง (Civil law)', 12),\n",
              " ('หนี้ครัวเรือน', 12),\n",
              " ('การเจาะร่างกาย', 12),\n",
              " ('Lazada', 12),\n",
              " ('ยาสีฟัน', 12),\n",
              " ('Nike', 12),\n",
              " ('จังหวัดชลบุรี', 12),\n",
              " ('ภัยแล้ง (ทุพภิกขภัย)', 12),\n",
              " ('กระทรวงการท่องเที่ยวและกีฬา', 12),\n",
              " ('สลากกินแบ่งรัฐบาล', 12),\n",
              " ('สื่อมวลชน', 12),\n",
              " ('ชูวิทย์ กมลวิศิษฎ์', 12),\n",
              " ('ภูมิศาสตร์', 12),\n",
              " ('สิทธิทางการเมือง (Political Rights)', 12),\n",
              " ('เสริมดวง', 12),\n",
              " ('นักวิทยาศาสตร์', 12),\n",
              " ('โหราศาสตร์', 12),\n",
              " ('สังคมผู้สูงอายุ', 11),\n",
              " ('ฮันนีมูน', 11),\n",
              " ('Facebook', 11),\n",
              " ('โทรศัพท์มือถือ', 11),\n",
              " ('โฉนดที่ดิน', 11),\n",
              " ('จดทะเบียนหย่า', 11),\n",
              " ('การคุมกำเนิด (contraception)', 11),\n",
              " ('จังหวัดนครปฐม', 11),\n",
              " ('วันสงกรานต์', 11),\n",
              " ('กระเป๋าสตางค์', 11),\n",
              " ('เครื่องดื่มเพื่อสุขภาพ', 11),\n",
              " ('อาเซียน (ASEAN)', 11),\n",
              " ('ตลาดสำเพ็ง', 11),\n",
              " ('ผิวผสม', 11),\n",
              " ('อาหารคลีน', 11),\n",
              " ('รถไฟฟ้า BTS', 11),\n",
              " ('รถโดยสารประจำทาง', 11),\n",
              " ('องค์การบริหารส่วนตำบล', 11),\n",
              " ('โฟกัส จีระกุล', 11),\n",
              " ('การท่องเที่ยวแห่งประเทศไทย', 11),\n",
              " ('สิทธิพลเมือง (Civil Rights)', 11),\n",
              " ('e-Wallet', 11),\n",
              " ('พันธบัตร', 11),\n",
              " ('มหายาน', 11),\n",
              " ('ประวัติศาสตร์ศิลป์', 11),\n",
              " ('ธรรมกาย', 11),\n",
              " ('เที่ยวเชิงอนุรักษ์', 11),\n",
              " ('Blog', 11),\n",
              " ('จังหวัดพระนครศรีอยุธยา', 11),\n",
              " ('ธนาคารทหารไทยธนชาต', 11),\n",
              " ('งบการเงิน', 11),\n",
              " ('ศูนย์บริการรถยนต์', 11),\n",
              " ('ชีวิตหลังเกษียณ', 11),\n",
              " ('WeCard by truemoney', 11),\n",
              " ('ดูดวงตามวันเกิด', 10),\n",
              " ('เกมออนไลน์', 10),\n",
              " ('เพื่อนต่างชาติ', 10),\n",
              " ('ภาคกลาง', 10),\n",
              " ('คนไทยในญี่ปุ่น', 10),\n",
              " ('มอเตอร์ไซค์', 10),\n",
              " ('ธุรกิจบริการ', 10),\n",
              " ('การก่อสร้างและต่อเติมอาคาร', 10),\n",
              " ('จังหวัดนครราชสีมา', 10),\n",
              " ('การปฐมพยาบาล', 10),\n",
              " ('เสื้อผ้าเด็ก', 10),\n",
              " ('กายภาพบำบัด', 10),\n",
              " ('Dior', 10),\n",
              " ('โหงวเฮ้ง', 10),\n",
              " ('การโฆษณา', 10),\n",
              " ('จังหวัดขอนแก่น', 10),\n",
              " ('เครื่องเป่าผม', 10),\n",
              " ('Whey Protein', 10),\n",
              " ('G-Shock', 10),\n",
              " ('การดูแลและซ่อมแซมเครื่องแต่งกาย', 10),\n",
              " ('ข้อเสนอแนะถึงพันทิป', 10),\n",
              " ('หน่วยงานของรัฐ', 10),\n",
              " ('ชัชชาติ สิทธิพันธุ์', 10),\n",
              " ('ธนาคารแห่งประเทศไทย', 10),\n",
              " ('อวกาศ', 10),\n",
              " ('พิชัย นริพทะพันธุ์', 10),\n",
              " ('ปารีณา ไกรคุปต์', 10),\n",
              " ('ภาษีนิติบุคคล', 10),\n",
              " ('PromptPay', 10),\n",
              " ('Donald Trump', 10),\n",
              " ('นิกายมหายาน', 10),\n",
              " ('พิธีรับเข้าเป็นคริสต์ศาสนิกชน (ศีลล้างบาป)', 10),\n",
              " ('ศีล 8', 10),\n",
              " ('กาพย์ฉบัง', 10),\n",
              " ('ตลาดหลักทรัพย์ เอ็ม เอ ไอ (MAI)', 10),\n",
              " ('ประกันออนไลน์', 10),\n",
              " ('ราคาทอง', 10),\n",
              " ('ชมรมนักลงทุนสัมพันธ์แห่งประเทศไทย', 10),\n",
              " ('CPF (หุ้น)', 10),\n",
              " ('DELTA (หุ้น)', 10),\n",
              " ('TIDLOR (หุ้น)', 10),\n",
              " ('ระบบสืบพันธุ์ (Reproductive System)', 9),\n",
              " ('เขตบางรัก', 9),\n",
              " ('เรียนต่อต่างประเทศ', 9),\n",
              " ('นักแสดงหญิง', 9),\n",
              " ('แต่งเรื่องสั้น', 9),\n",
              " ('วีซ่า', 9),\n",
              " ('ภาพยนตร์', 9),\n",
              " ('โรคติดต่อทางเพศสัมพันธ์', 9),\n",
              " ('พนักงานบริษัท', 9),\n",
              " ('นักเขียน', 9),\n",
              " ('ทะเบียนบ้าน', 9),\n",
              " ('TikTok', 9),\n",
              " ('ทหารเกณฑ์', 9),\n",
              " ('นำเข้าส่งออก', 9),\n",
              " ('Louis Vuitton', 9),\n",
              " ('ห้างสรรพสินค้า', 9),\n",
              " ('สุนัข', 9),\n",
              " ('ผลไม้', 9),\n",
              " ('หน่วยงานราชการ', 9),\n",
              " ('ระบบขับถ่าย (Excretory System)', 9),\n",
              " ('แคลเซียม (Calcium)', 9),\n",
              " ('ภาคตะวันออก', 9),\n",
              " ('จังหวัดฉะเชิงเทรา', 9),\n",
              " ('ประเทศเกาหลีใต้', 9),\n",
              " ('จาตุรนต์ ฉายแสง', 9),\n",
              " ('จตุพร พรหมพันธุ์', 9),\n",
              " ('ประวัติศาสตร์การเมืองไทย', 9),\n",
              " ('ม.33 เรารักกัน (โครงการ)', 9),\n",
              " ('พระสุวิทย์ ธีรธมฺโม (หลวงปู่พุทธะอิสระ)', 9),\n",
              " ('ทราย เจริญปุระ', 9),\n",
              " ('Android App', 9),\n",
              " ('อุทกภัย', 9),\n",
              " ('ฮ่องกง', 9),\n",
              " ('นิกายเถรวาท', 9),\n",
              " ('พระเกจิอาจารย์', 9),\n",
              " ('พระครูวินัยธรมั่น ภูริทตฺโต', 9),\n",
              " ('ศาสนาซิกข์', 9),\n",
              " ('SME', 9),\n",
              " ('PayPal', 9),\n",
              " ('SCB (หุ้น)', 9),\n",
              " ('คู่สมพงษ์', 8),\n",
              " ('สถานที่ท่องเที่ยว', 8),\n",
              " ('ภาษาอังกฤษ', 8),\n",
              " ('ต้นไม้', 8),\n",
              " ('คอนโดมิเนียมใกล้รถไฟฟ้า', 8),\n",
              " ('มหาวิทยาลัยธรรมศาสตร์', 8),\n",
              " ('ห้องทำงาน', 8),\n",
              " ('ทำอาหาร', 8),\n",
              " ('สำนักงานที่ดิน', 8),\n",
              " ('นักแปล', 8),\n",
              " ('กฎหมายพาณิชย์ (Commercial law)', 8),\n",
              " ('เมนูอาหาร', 8),\n",
              " ('Makeup Remover', 8),\n",
              " ('ยูเซอริน', 8),\n",
              " ('จังหวัดอุดรธานี', 8),\n",
              " ('โรคมะเร็ง', 8),\n",
              " ('Laser Pointer', 8),\n",
              " ('รถมือสอง', 8),\n",
              " ('จังหวัดระยอง', 8),\n",
              " ('Eastern Economic Corridor (EEC)', 8),\n",
              " ('พรรณิการ์ วานิช', 8),\n",
              " ('ประเทศอิสราเอล', 8),\n",
              " ('ราคาน้ำมัน', 8),\n",
              " ('พุทธสุภาษิต', 8),\n",
              " ('เรืองไกร ลีกิจวัฒนะ', 8),\n",
              " ('วันปีใหม่', 8),\n",
              " ('dtac', 8),\n",
              " ('การหักลดหย่อน', 8),\n",
              " ('พระราหู', 8),\n",
              " ('สถานที่ท่องเที่ยวกรุงเทพฯ', 8),\n",
              " ('สมเด็จพระญาณสังวร สมเด็จพระสังฆราช สกลมหาสังฆปริณายก', 8),\n",
              " ('อาหารฮาลาล', 8),\n",
              " ('พระคาถาชินบัญชร', 8),\n",
              " ('การละหมาด', 8),\n",
              " ('พระพรหม', 8),\n",
              " ('บันทึกนักเดินทาง', 8),\n",
              " ('โรงเรียนบาลีเตรียมอุดมศึกษา มหาวิทยาลัยมหาจุฬาลงกรณราชวิทยาลัย', 8),\n",
              " ('พระศิวะ', 8),\n",
              " ('วันมาฆบูชา', 8),\n",
              " ('วันตรุษจีน', 8),\n",
              " ('การบัญชีการเงิน (Financial Accounting)', 8),\n",
              " ('Krungsri Mobile App', 8),\n",
              " ('การประเมินราคาอสังหาริมทรัพย์', 8),\n",
              " ('สินเชื่อระยะสั้น', 8),\n",
              " ('STRD (หุ้น)', 8),\n",
              " ('ขอแต่งงาน', 7),\n",
              " ('เพลงไทยสากล', 7),\n",
              " ('คำคมความรัก', 7),\n",
              " ('จังหวัดภูเก็ต', 7),\n",
              " ('จังหวัดเชียงราย', 7),\n",
              " ('ข้าราชการครู', 7),\n",
              " ('ชื่อมงคล', 7),\n",
              " ('กาแฟ', 7),\n",
              " ('ร้านอาหาร', 7),\n",
              " ('ศิลปะ', 7),\n",
              " ('สมาร์ทโฟน', 7),\n",
              " ('ภาพยนตร์ไทย', 7),\n",
              " ('ขนม', 7),\n",
              " ('ของหวาน', 7),\n",
              " ('ประเทศลาว', 7),\n",
              " ('ภาษาต่างประเทศ', 7),\n",
              " ('La Roche Posay', 7),\n",
              " ('ภาพถ่ายแฟชั่น', 7),\n",
              " ('คอลเกต', 7),\n",
              " ('การแพ้ยา', 7),\n",
              " ('นวดเพื่อสุขภาพ', 7),\n",
              " ('Makeup Artist', 7),\n",
              " ('คอนแทคเลนส์', 7),\n",
              " ('ระบบกล้ามเนื้อ (Muscular System)', 7),\n",
              " ('เครื่องออกกำลังกาย', 7),\n",
              " ('สัตวแพทย์', 7),\n",
              " ('ของใช้และอุปกรณ์เพื่อสุขภาพ', 7),\n",
              " ('พัฒนาการเด็ก', 7),\n",
              " ('จังหวัดราชบุรี', 7),\n",
              " ('ประกวดความงาม', 7),\n",
              " ('แว่นตา', 7),\n",
              " ('แปรงสีฟัน', 7),\n",
              " ('Systema', 7),\n",
              " (\"POND'S\", 7),\n",
              " ('K-POP', 7),\n",
              " ('ทองรูปพรรณ', 7),\n",
              " ('YouTube', 7),\n",
              " ('นักแสดงไทย', 7),\n",
              " ('คนไทยในจีน', 7),\n",
              " ('ตกแต่งบ้าน', 7),\n",
              " ('บัญชี', 7),\n",
              " ('กระทรวงเกษตรและสหกรณ์', 7),\n",
              " ('วรงค์ เดชกิจวิกรม', 7),\n",
              " ('เทศบาลตำบล', 7),\n",
              " ('พรรคเสรีรวมไทย', 7),\n",
              " ('ประวิตร วงษ์สุวรรณ', 7),\n",
              " ('ประเทศรัสเซีย', 7),\n",
              " ('การจราจร', 7),\n",
              " ('เสรีพิศุทธ์ เตมียเวส', 7),\n",
              " ('ประชาคมเศรษฐกิจอาเซียน (AEC)', 7),\n",
              " ('กรมที่ดิน', 7),\n",
              " ('สิทธิผู้สูงอายุ', 7),\n",
              " ('ประวัติศาสตร์สากล', 7),\n",
              " ('ธุรกิจอสังหาริมทรัพย์', 7),\n",
              " ('เกษตรกรรม', 7),\n",
              " ('ทวีปยุโรป', 7),\n",
              " ('ฟิสิกส์', 7),\n",
              " ('รถโดยสาร', 7),\n",
              " ('พระราชพรหมยาน (วีระ ถาวโร)', 7),\n",
              " ('นิทานศาสนา', 7),\n",
              " ('โรงเรียนบาลีสาธิตศึกษา มหาวิทยาลัยมหาจุฬาลงกรณราชวิทยาลัย', 7),\n",
              " ('จักรวาล (Universe)', 7),\n",
              " ('ชาดก', 7),\n",
              " ('พระพรหมคุณาภรณ์ (ประยุทธ์ ปยุตฺโต)', 7),\n",
              " ('RMF', 7),\n",
              " ('ธนาคารเพื่อการเกษตรและสหกรณ์', 7),\n",
              " ('ธนาคารเกียรตินาคิน', 7),\n",
              " ('Apple Store', 7),\n",
              " ('เงินฝากประจำ', 7),\n",
              " ('ประกันภัยรถ', 7),\n",
              " ('RCL (หุ้น)', 7),\n",
              " ('ธนาคารยูโอบี', 7),\n",
              " ('แหวนแต่งงาน', 6),\n",
              " ('นางแบบ', 6),\n",
              " ('อนุรักษ์สิ่งแวดล้อม', 6),\n",
              " ('เพลงสากล', 6),\n",
              " ('การ์ตูน', 6),\n",
              " ('นักศึกษาวิชาทหาร', 6),\n",
              " ('สถานที่จัดเลี้ยง', 6),\n",
              " ('แต่งนิยาย', 6),\n",
              " ('วิทยาลัย', 6),\n",
              " ('ดูดวงไพ่ยิปซี', 6),\n",
              " ('ชุดแต่งงาน', 6),\n",
              " ('จังหวัดสมุทรปราการ', 6),\n",
              " ('ผลิตภัณฑ์รักษ์โลก', 6),\n",
              " ('Sunsilk', 6),\n",
              " ('จังหวัดอุบลราชธานี', 6),\n",
              " ('อาหารผู้สูงอายุ', 6),\n",
              " ('โรคกระเพาะ', 6),\n",
              " ('จังหวัดลำพูน', 6),\n",
              " ('Watsons', 6),\n",
              " ('ของใช้เด็ก', 6),\n",
              " (\"Kiehl's\", 6),\n",
              " ('ระบบโครงกระดูก (Skeletal System)', 6),\n",
              " ('6 Week Six-Pack', 6),\n",
              " ('นม (Milk)', 6),\n",
              " ('การออกแบบ', 6),\n",
              " ('เครื่องแบบนักเรียน/นักศึกษา', 6),\n",
              " ('Giorgio Armani', 6),\n",
              " ('Rolex', 6),\n",
              " ('ทองแท่ง', 6),\n",
              " ('อินเทอร์เน็ต', 6),\n",
              " ('จังหวัดปทุมธานี', 6),\n",
              " ('สมุนไพร', 6),\n",
              " ('ของใช้ส่วนตัว', 6),\n",
              " ('ชุดว่ายน้ำ', 6),\n",
              " ('THAI (หุ้น)', 6),\n",
              " ('สวัสดิการแรงงาน', 6),\n",
              " ('จังหวัดนนทบุรี', 6),\n",
              " ('โรงแรมรีสอร์ท', 6),\n",
              " ('ธุรกิจโรงแรม', 6),\n",
              " ('อาหารมังสวิรัติ', 6),\n",
              " ('ดอกไม้', 6),\n",
              " ('กฎหมายแรงงาน', 6),\n",
              " ('จำนำข้าว', 6),\n",
              " ('พระราชกำหนด (Emergency Decree)', 6),\n",
              " ('ปิยบุตร แสงกนกกุล', 6),\n",
              " ('ไฟฟ้า', 6),\n",
              " ('กฎหมายระหว่างประเทศ (International Law)', 6),\n",
              " ('เทศบาลเมือง', 6),\n",
              " ('ประเทศกัมพูชา', 6),\n",
              " ('จังหวัดสมุทรสาคร', 6),\n",
              " ('วิษณุ เครืองาม', 6),\n",
              " ('พลังงานแสงอาทิตย์', 6),\n",
              " ('วัฒนธรรม', 6),\n",
              " ('ปรัชญาตะวันออก', 6),\n",
              " ('เที่ยวภูเขา', 6),\n",
              " ('กาพย์สุรางคนางค์', 6),\n",
              " ('กาพย์ยานี', 6),\n",
              " ('พิธีแต่งงานแบบคริสต์', 6),\n",
              " ('วรรณกรรม', 6),\n",
              " ('ห้องสมุด', 6),\n",
              " ('ชมรมผู้สูงอายุ', 6),\n",
              " ('ประติมากรรม', 6),\n",
              " ('AIS', 6),\n",
              " ('วันคริสต์มาส', 6),\n",
              " ('วรรณคดี', 6),\n",
              " ('กองทุนกู้ยืมเงินเพื่อการศึกษาที่ผูกกับรายได้ในอนาคต (กรอ.)', 6),\n",
              " ('Fintech', 6),\n",
              " ('ตลาดรองสินเชื่อที่อยู่อาศัย', 6),\n",
              " ('KBANK (หุ้น)', 6),\n",
              " ('สายการบิน', 6),\n",
              " ('เงินฝากระยะยาว', 6),\n",
              " ('การพัฒนา Mobile Application', 6),\n",
              " ('KK e-Banking', 6),\n",
              " ('การฉีดยาคุมกำเนิด', 5),\n",
              " ('นักร้องนักดนตรี', 5),\n",
              " ('วัฒนธรรมต่างชาติ', 5),\n",
              " ('ความรักครั้งสุดท้าย (The Writers)', 5),\n",
              " ('รายการข่าว', 5),\n",
              " ('หนังสั้น', 5),\n",
              " ('ซีรีส์', 5),\n",
              " ('การวางแผนการศึกษาต่อและประกอบอาชีพ', 5),\n",
              " ('คนไทยในอังกฤษ', 5),\n",
              " ('พินัยกรรม', 5),\n",
              " ('iPhone', 5),\n",
              " ('คนไทยในอเมริกา', 5),\n",
              " ('โรคย้ำคิดย้ำทำ', 5),\n",
              " ('แม่บ้านต่างแดน', 5),\n",
              " ('รายการออนไลน์', 5),\n",
              " ('Work From Home', 5),\n",
              " ('เสื้อคู่รัก', 5),\n",
              " ('ระบบหายใจ (Respiratory System)', 5),\n",
              " ('ระบบประสาท (Nervous System)', 5),\n",
              " ('Tattoo', 5),\n",
              " ('สุขภาพผู้สูงอายุ', 5),\n",
              " ('โยคะ', 5),\n",
              " ('หอพัก', 5),\n",
              " ('innisfree', 5),\n",
              " ('Gucci', 5),\n",
              " ('DIY เครื่องใช้ในบ้าน', 5),\n",
              " ('หาดใหญ่', 5),\n",
              " ('Yves Saint Laurent', 5),\n",
              " ('โรคเบาหวาน', 5),\n",
              " ('อุปกรณ์เครื่องใช้ภายในบ้าน', 5),\n",
              " ('Smooto', 5),\n",
              " ('จักรยาน', 5),\n",
              " ('โรคความดัน', 5),\n",
              " ('แว่นตากันแดด', 5),\n",
              " (\"It'S SKIN (เครื่องสำอาง)\", 5),\n",
              " ('ขนส่งสินค้า', 5),\n",
              " ('สุขภาพกายผู้สูงอายุ', 5),\n",
              " ('เลสิก', 5),\n",
              " ('Biore', 5),\n",
              " ('อุรัสยา เสปอร์บันด์ (ญาญ่า)', 5),\n",
              " ('ตลาดนัด', 5),\n",
              " ('ไปรษณีย์ไทย', 5),\n",
              " ('งานวิจัย', 5),\n",
              " ('ปวดประจำเดือน', 5),\n",
              " ('อิเล็กทรอนิกส์', 5),\n",
              " ('สังคมต่างประเทศ', 5),\n",
              " ('รถไฟฟ้า MRT', 5),\n",
              " ('ปลา', 5),\n",
              " ('รถไฟความเร็วสูง', 5),\n",
              " ('สุภรณ์ อัตถาวงศ์', 5),\n",
              " ('หลักประกันสุขภาพถ้วนหน้า (บัตรทอง)', 5),\n",
              " ('ธุรกิจร้านอาหาร', 5),\n",
              " ('พระมหาไพรวัลย์ วรวณโณ', 5),\n",
              " ('สำนักข่าว', 5),\n",
              " ('สาธารณูปโภค', 5),\n",
              " ('กนก รัตน์วงศ์สกุล', 5),\n",
              " ('Startup', 5),\n",
              " ('สนธิ ลิ้มทองกุล', 5),\n",
              " ('ประเทศเกาหลีเหนือ', 5),\n",
              " ('น้ำมันเชื้อเพลิง', 5),\n",
              " ('สิริลภัส กองตระการ (หมิว)', 5),\n",
              " ('พัทยา', 5),\n",
              " ('แผนการเดินทางและท่องเที่ยว', 5),\n",
              " ('ข่าวบันเทิง', 5),\n",
              " ('หลวงพ่อปราโมทย์ ปาโมชฺโช', 5),\n",
              " ('ซีรีส์อินเดีย', 5),\n",
              " ('สถานที่ท่องเที่ยวในประเทศ', 5),\n",
              " ('นก', 5),\n",
              " ('วงจรชีวิตสัตว์โลก', 5),\n",
              " ('เจ้าอาวาส', 5),\n",
              " ('พระกรุ', 5),\n",
              " ('เลขมงคล', 5),\n",
              " ('ทอดผ้าป่า', 5),\n",
              " ('กาพย์', 5),\n",
              " ('รถตู้โดยสารประจำทาง', 5),\n",
              " ('จังหวัดอุตรดิตถ์', 5),\n",
              " ('One Day Trip', 5),\n",
              " ('แม่ชี', 5),\n",
              " ('สำนักพิมพ์', 5),\n",
              " ('รามเกียรติ์', 5),\n",
              " ('การบริจาคร่างกาย', 5),\n",
              " ('พระนารายณ์', 5),\n",
              " ('วันลอยกระทง', 5),\n",
              " ('ระบบเติมเงิน (Prepaid)', 5),\n",
              " ('บัตรเติมเงิน', 5),\n",
              " ('อัตราแลกเปลี่ยน', 5),\n",
              " ('Streaming (Mobile Application)', 5),\n",
              " ('TTA (หุ้น)', 5),\n",
              " ('KGI (หุ้น)', 5),\n",
              " ('LINE', 4),\n",
              " ('ก๊วนกามเทพ', 4),\n",
              " ('อนิเมะ', 4),\n",
              " ('คณะแพทยศาสตร์', 4),\n",
              " ('ปริญญาโท', 4),\n",
              " ('โสด Stories (ซีรีส์)', 4),\n",
              " ('นักแสดงภาพยนตร์ต่างประเทศ', 4),\n",
              " ('มหาวิทยาลัยนเรศวร', 4),\n",
              " ('งานโรงพยาบาล', 4),\n",
              " ('นิยายไทย', 4),\n",
              " ('ปัญหาเชาวน์', 4),\n",
              " ('The Shock', 4),\n",
              " ('Chat', 4),\n",
              " ('คนไทยในสิงคโปร์', 4),\n",
              " ('ภาษีมรดก', 4),\n",
              " ('ปัญหาผู้สูงอายุ', 4),\n",
              " ('สุขภาพจิตในผู้สูงอายุ', 4),\n",
              " ('7 HD', 4),\n",
              " ('การฝังยาคุมกำเนิด', 4),\n",
              " ('HIV (Human Immunodeficiency Virus)', 4),\n",
              " ('ภาษาศาสตร์', 4),\n",
              " ('สุขภาพเด็กและทารก', 4),\n",
              " ('เพื่อนบ้าน', 4),\n",
              " ('สื่อโฆษณา', 4),\n",
              " ('ที่พัก', 4),\n",
              " ('คนไทยในเยอรมนี', 4),\n",
              " ('ดูแลและซ่อมแซมบ้าน', 4),\n",
              " ('ประเทศอังกฤษ', 4),\n",
              " ('กระเป๋าเดินทาง', 4),\n",
              " ('การค้าระหว่างประเทศ', 4),\n",
              " ('Cute Press', 4),\n",
              " ('ไฝพยากรณ์', 4),\n",
              " ('โรงพยาบาลสัตว์', 4),\n",
              " ('วัตถุดิบทำอาหาร', 4),\n",
              " ('ยาและเวชภัณฑ์สำหรับสัตว์', 4),\n",
              " ('มหาวิทยาลัยเชียงใหม่', 4),\n",
              " ('น้ำผัก/ผลไม้', 4),\n",
              " ('สเปรย์น้ำแร่', 4),\n",
              " ('สุคนธบำบัด (Aromatherapy)', 4),\n",
              " ('Converse', 4),\n",
              " ('จังหวัดนครพนม', 4),\n",
              " ('อุปกรณ์ทำความสะอาด', 4),\n",
              " ('นางงาม', 4),\n",
              " ('การ์ตูนญี่ปุ่น', 4),\n",
              " ('Gadget สำหรับผู้หญิง', 4),\n",
              " ('ร้านสะดวกซื้อ', 4),\n",
              " ('ลิขสิทธิ์', 4),\n",
              " ('Jo Malone', 4),\n",
              " ('โฆษณาออนไลน์', 4),\n",
              " ('เครื่องใช้ไฟฟ้า', 4),\n",
              " ('กีฬา', 4),\n",
              " ('บริจาคเลือด', 4),\n",
              " ('Calvin Klein', 4),\n",
              " ('จังหวัดสุราษฎร์ธานี', 4),\n",
              " ('อาหารญี่ปุ่น', 4),\n",
              " ('แอดมิชชั่น', 4),\n",
              " ('รีโนเวทบ้าน', 4),\n",
              " ('จังหวัดจันทบุรี', 4),\n",
              " ('อุบัติเหตุบนท้องถนน', 4),\n",
              " ('Miss Universe Thailand', 4),\n",
              " ('ชวน หลีกภัย', 4),\n",
              " ('พระราชบัญญัติงบประมาณรายจ่ายประจำปีงบประมาณ', 4),\n",
              " ('สมคิด จาตุศรีพิทักษ์', 4),\n",
              " ('หมอพร้อม (App)', 4),\n",
              " ('ผู้สื่อข่าว', 4),\n",
              " ('ลูกจ้างชั่วคราว', 4),\n",
              " ('จังหวัดลำปาง', 4),\n",
              " ('ราชกิจจานุเบกษา', 4),\n",
              " ('อุตสาหกรรมยานยนต์', 4),\n",
              " ('หนังสือราชการ', 4),\n",
              " ('อัคคีภัย', 4),\n",
              " ('เกษตรกร', 4),\n",
              " ('กระทรวงพลังงาน', 4),\n",
              " ('เที่ยวปันสุข (โครงการ)', 4),\n",
              " ('Nation Channel', 4),\n",
              " ('Agoda', 4),\n",
              " ('ดาราศาสตร์', 4),\n",
              " ('คนพิการ', 4),\n",
              " ('วันวิสาขบูชา', 4),\n",
              " ('เยรูซาเลม', 4),\n",
              " ('มนต์รักแก้บน', 4),\n",
              " ('โรคสมาธิสั้น (ADHD)', 4),\n",
              " ('จังหวัดพิษณุโลก', 4),\n",
              " ('รายการโทรทัศน์', 4),\n",
              " ('พระธรรมวิสุทธิมงคล (บัว ญาณสมฺปนฺโน)', 4),\n",
              " ('ร่าย', 4),\n",
              " ('พระมหาสมปอง ตาลปุตฺโต', 4),\n",
              " ('ประเทศซาอุดีอาระเบีย', 4),\n",
              " ('จังหวัดยโสธร', 4),\n",
              " ('มหาชาติ มหาบุรุษ', 4),\n",
              " ('ประวัติศาสตร์ตะวันตก', 4),\n",
              " ('ฝึกทักษะสำหรับเด็ก', 4),\n",
              " ('ระบบรายเดือน (Postpaid)', 4),\n",
              " ('ภาษาอาหรับ', 4),\n",
              " ('Freelance', 4),\n",
              " ('จังหวัดอ่างทอง', 4),\n",
              " ('มหาวิทยาลัยมหาจุฬาลงกรณราชวิทยาลัย', 4),\n",
              " ('สำนักงานจัดหางานจังหวัด', 4),\n",
              " ('วันออกพรรษา', 4),\n",
              " ('BBL (หุ้น)', 4),\n",
              " ('หุ้นกู้', 4),\n",
              " ('TrueYou MasterCard', 4),\n",
              " ('SCB UP2ME', 4),\n",
              " ('SSF (Super Saving Fund)', 4),\n",
              " ('TapKTC', 4),\n",
              " ('Email', 4),\n",
              " ('Google Play Store', 4),\n",
              " ('E-Banking', 4),\n",
              " ('พระราชบัญญัติว่าด้วยการกระทำความผิดเกี่ยวกับคอมพิวเตอร์ (พ.ร.บ.คอมพิวเตอร์)',\n",
              "  4),\n",
              " ('นายหน้าอสังหาริมทรัพย์', 4),\n",
              " ('PSL (หุ้น)', 4),\n",
              " ('ประกันสินเชื่อธุรกิจ', 4),\n",
              " ('ประกันชีวิตสำหรับผู้สูงอายุ', 4),\n",
              " ('TMB (หุ้น)', 4),\n",
              " ('สลากออมสิน', 4),\n",
              " ('ClickKTC', 4),\n",
              " (\"PLAYERUNKNOWN'S BATTLEGROUNDS (PUBG) (เกม)\", 3),\n",
              " ('Tinder', 3),\n",
              " ('ละครโทรทัศน์', 3),\n",
              " ('ภพรัก', 3),\n",
              " ('สายอาชีพ', 3),\n",
              " ('นักเรียนนายสิบตำรวจ (นสต.)', 3),\n",
              " ('ภาพยนตร์ชีวิต', 3),\n",
              " ('คณะนิติศาสตร์', 3),\n",
              " ('ซีรีส์ไทย', 3),\n",
              " ('มิวสิควิดีโอ', 3),\n",
              " ('ถนนสีลม', 3),\n",
              " ('สาววาย', 3),\n",
              " ('การร้อง', 3),\n",
              " ('Miss Universe', 3),\n",
              " ('BLACKPINK (นักร้องนักดนตรี)', 3),\n",
              " ('เกมบนโทรศัพท์มือถือ', 3),\n",
              " ('บาสเกตบอล', 3),\n",
              " ('Google', 3),\n",
              " ('ภาพยนตร์สยองขวัญ', 3),\n",
              " ('นักแสดงชาย', 3),\n",
              " ('นักร้องนักดนตรีไทย', 3),\n",
              " ('แหวนหมั้น', 3),\n",
              " ('จังหวัดหนองคาย', 3),\n",
              " ('งู', 3),\n",
              " ('วัยเกษียณ', 3),\n",
              " ('อาหารไทย', 3),\n",
              " ...]"
            ]
          },
          "metadata": {
            "tags": []
          },
          "execution_count": 7
        }
      ]
    },
    {
      "cell_type": "code",
      "metadata": {
        "colab": {
          "base_uri": "https://localhost:8080/"
        },
        "id": "GIqriZ6uUH3L",
        "outputId": "289c1849-a2f2-4df7-8c03-c3394850d506"
      },
      "source": [
        "print('Amount of tags: ' + str(len(count_tags)))"
      ],
      "execution_count": null,
      "outputs": [
        {
          "output_type": "stream",
          "text": [
            "Amount of tags: 2334\n"
          ],
          "name": "stdout"
        }
      ]
    },
    {
      "cell_type": "markdown",
      "metadata": {
        "id": "gWYiUJHrv3UT"
      },
      "source": [
        "## Cleansing Words"
      ]
    },
    {
      "cell_type": "code",
      "metadata": {
        "id": "ubRv5B5Iv3_8"
      },
      "source": [
        "def cleansing_text(text):\n",
        "  # ลบ puncutation\n",
        "  text = re.sub(r'[\\n\\!\\@\\#\\฿\\$\\%\\?\\^\\&\\*\\(\\)\\[\\]\\{\\}\\;\\:\\,\\.\\/\\?\\|\\`\\_\\\\+\\\\\\=\\~\\-\\<\\>\\「\\」]\\“\\”', '', text)\n",
        "\n",
        "  # ลบ space\n",
        "  text = re.sub(r'[\\r\\n]', '', text)\n",
        "\n",
        "  # ลบ number (0-9)\n",
        "  text = re.sub(r'[0-9]','',text)\n",
        "  \n",
        "  # ลบ number (๐-๙)\n",
        "  text = re.sub(r'[๐-๙]','',text)\n",
        "\n",
        "  return text"
      ],
      "execution_count": null,
      "outputs": []
    },
    {
      "cell_type": "code",
      "metadata": {
        "colab": {
          "base_uri": "https://localhost:8080/"
        },
        "id": "QL7l1ICvv_Nl",
        "outputId": "e38045da-87e7-47b0-e17c-0e47bc2c0d5b"
      },
      "source": [
        "df['cleansing'] = df['title'].apply(lambda x: cleansing_text(x))\n",
        "df.head()"
      ],
      "execution_count": null,
      "outputs": [
        {
          "output_type": "execute_result",
          "data": {
            "text/html": [
              "<div>\n",
              "<style scoped>\n",
              "    .dataframe tbody tr th:only-of-type {\n",
              "        vertical-align: middle;\n",
              "    }\n",
              "\n",
              "    .dataframe tbody tr th {\n",
              "        vertical-align: top;\n",
              "    }\n",
              "\n",
              "    .dataframe thead th {\n",
              "        text-align: right;\n",
              "    }\n",
              "</style>\n",
              "<table border=\"1\" class=\"dataframe\">\n",
              "  <thead>\n",
              "    <tr style=\"text-align: right;\">\n",
              "      <th></th>\n",
              "      <th>title</th>\n",
              "      <th>tags</th>\n",
              "      <th>cleansing</th>\n",
              "    </tr>\n",
              "  </thead>\n",
              "  <tbody>\n",
              "    <tr>\n",
              "      <th>0</th>\n",
              "      <td>หาเพื่อนคุยค่ะ</td>\n",
              "      <td>[ศาลาคนโสด, หาเพื่อน, ศาลาคนเศร้า, ประสบการณ์ค...</td>\n",
              "      <td>หาเพื่อนคุยค่ะ</td>\n",
              "    </tr>\n",
              "    <tr>\n",
              "      <th>1</th>\n",
              "      <td>เราควรรู้สึกยังไงดี ?</td>\n",
              "      <td>[ประสบการณ์ความรัก]</td>\n",
              "      <td>เราควรรู้สึกยังไงดี ?</td>\n",
              "    </tr>\n",
              "    <tr>\n",
              "      <th>2</th>\n",
              "      <td>LGBTQ ในสังคมไทยทำไมยังไม่เปิดกว้างเหมือนต่างป...</td>\n",
              "      <td>[ความรักต่างวัย, ความรักวัยรุ่น, ความรักเพศที่...</td>\n",
              "      <td>LGBTQ ในสังคมไทยทำไมยังไม่เปิดกว้างเหมือนต่างป...</td>\n",
              "    </tr>\n",
              "    <tr>\n",
              "      <th>3</th>\n",
              "      <td>รักข้างเดียว</td>\n",
              "      <td>[ความรักวัยรุ่น, แอบรัก]</td>\n",
              "      <td>รักข้างเดียว</td>\n",
              "    </tr>\n",
              "    <tr>\n",
              "      <th>4</th>\n",
              "      <td>ทำไมผู้ชายสมัยนี้งี่เง่าขี้น้อยใจทำตัวเหมือนผู...</td>\n",
              "      <td>[ความรักวัยรุ่น]</td>\n",
              "      <td>ทำไมผู้ชายสมัยนี้งี่เง่าขี้น้อยใจทำตัวเหมือนผู...</td>\n",
              "    </tr>\n",
              "  </tbody>\n",
              "</table>\n",
              "</div>"
            ],
            "text/plain": [
              "                                               title  ...                                          cleansing\n",
              "0                                     หาเพื่อนคุยค่ะ  ...                                     หาเพื่อนคุยค่ะ\n",
              "1                              เราควรรู้สึกยังไงดี ?  ...                              เราควรรู้สึกยังไงดี ?\n",
              "2  LGBTQ ในสังคมไทยทำไมยังไม่เปิดกว้างเหมือนต่างป...  ...  LGBTQ ในสังคมไทยทำไมยังไม่เปิดกว้างเหมือนต่างป...\n",
              "3                                       รักข้างเดียว  ...                                       รักข้างเดียว\n",
              "4  ทำไมผู้ชายสมัยนี้งี่เง่าขี้น้อยใจทำตัวเหมือนผู...  ...  ทำไมผู้ชายสมัยนี้งี่เง่าขี้น้อยใจทำตัวเหมือนผู...\n",
              "\n",
              "[5 rows x 3 columns]"
            ]
          },
          "metadata": {
            "tags": []
          },
          "execution_count": 10
        }
      ]
    },
    {
      "cell_type": "markdown",
      "metadata": {
        "id": "bnUhlNoXxgK4"
      },
      "source": [
        "## Tokenize Words"
      ]
    },
    {
      "cell_type": "markdown",
      "metadata": {
        "id": "1VyABuV3Agen"
      },
      "source": [
        "Tokenize with pythainlp"
      ]
    },
    {
      "cell_type": "code",
      "metadata": {
        "id": "Trae_oE1t8fX"
      },
      "source": [
        "stopwords = list(pythainlp.corpus.thai_stopwords())\n",
        "removed_words = [' ', '  ', '\\n']\n",
        "screening_words = stopwords + removed_words\n",
        "\n",
        "def tokenize_word_with_pythainlp(sentence):\n",
        "  words = pythainlp.word_tokenize(str(sentence), engine='newmm')\n",
        "  words = [w for w in words if w not in screening_words and w.strip()]\n",
        "  words = list(map(lambda x: normalize(x), words))\n",
        "  return words"
      ],
      "execution_count": null,
      "outputs": []
    },
    {
      "cell_type": "markdown",
      "metadata": {
        "id": "jBz32OxlQDd5"
      },
      "source": [
        "Tokenize with AutoTokenizer"
      ]
    },
    {
      "cell_type": "code",
      "metadata": {
        "id": "85vu_bT5P9ei",
        "colab": {
          "base_uri": "https://localhost:8080/",
          "referenced_widgets": [
            "42ac311913194379b53bcd87961d92cd",
            "77a62cf61f8b41f1b9101c1cd536f06f",
            "037a7f0fa5a24201ab9ded7c55b4a8b4",
            "dc1ed47bffcb4771a1c21ae0313f4f4d",
            "1810581d22bf484ab7b55b40f3de3bc4",
            "5e9f75ccc11c459ab380dd46d09abee5",
            "5b25a450c5e1432e9aeeab9384f80e43",
            "4ad3fdd00dce4446922e765df375951a",
            "c62c52e84ceb4b35b5335042cd9f348b",
            "cf0496ab3afc4f7e8a19aec299bf71d7",
            "69cab742d8554977a3adc28d37933609",
            "412b217118ba4255bf8dfc365a16b5b9",
            "846cdb3800604a9ba9199a4adc33bbd6",
            "eed2a71e3c3e4da986edda4800f7c693",
            "824fa0dd76d046db8caba1200bdf3b1e",
            "47f1c7104f3449f2b736f48c9b1ffa3d",
            "3f22f29c2f96442486657b3551e0f724",
            "90c89c896fad46ab8b6ed175047eae11",
            "9ea5f4f4728748ddadcaa3534228b112",
            "bb9fc66e523d41e398753a772d8c2168",
            "4fecfd1a284a4a9d9bcf79f7f7485bf5",
            "689b5e3200874f9887327751acaf4d0b",
            "cce73dd9c3b7495aaacf9a9baa6cf4dd",
            "109f6a2b35d34fec961c2e25ecc776be"
          ]
        },
        "outputId": "53668abc-c0e9-4524-9219-e13fa2f2e827"
      },
      "source": [
        "tokenizer_wangchanberta_uncased = AutoTokenizer.from_pretrained(\n",
        "  f'airesearch/wangchanberta-base-att-spm-uncased',\n",
        "  revision='main',\n",
        "  model_max_length=416,\n",
        ")\n",
        "\n",
        "def tokenize_word_with_wangchangerta_uncased(sentence):\n",
        "  words = tokenizer_wangchanberta_uncased(sentence)\n",
        "  words = tokenizer_wangchanberta_uncased.convert_ids_to_tokens(words['input_ids'])\n",
        "  words = [w.replace('▁', '') for w in words if w not in ['▁', '<unk>', '</s>', '<s>']]\n",
        "  return words"
      ],
      "execution_count": null,
      "outputs": [
        {
          "output_type": "display_data",
          "data": {
            "application/vnd.jupyter.widget-view+json": {
              "model_id": "42ac311913194379b53bcd87961d92cd",
              "version_minor": 0,
              "version_major": 2
            },
            "text/plain": [
              "HBox(children=(FloatProgress(value=0.0, description='Downloading', max=546.0, style=ProgressStyle(description_…"
            ]
          },
          "metadata": {
            "tags": []
          }
        },
        {
          "output_type": "stream",
          "text": [
            "\n"
          ],
          "name": "stdout"
        },
        {
          "output_type": "display_data",
          "data": {
            "application/vnd.jupyter.widget-view+json": {
              "model_id": "c62c52e84ceb4b35b5335042cd9f348b",
              "version_minor": 0,
              "version_major": 2
            },
            "text/plain": [
              "HBox(children=(FloatProgress(value=0.0, description='Downloading', max=904693.0, style=ProgressStyle(descripti…"
            ]
          },
          "metadata": {
            "tags": []
          }
        },
        {
          "output_type": "stream",
          "text": [
            "\n"
          ],
          "name": "stdout"
        },
        {
          "output_type": "display_data",
          "data": {
            "application/vnd.jupyter.widget-view+json": {
              "model_id": "3f22f29c2f96442486657b3551e0f724",
              "version_minor": 0,
              "version_major": 2
            },
            "text/plain": [
              "HBox(children=(FloatProgress(value=0.0, description='Downloading', max=282.0, style=ProgressStyle(description_…"
            ]
          },
          "metadata": {
            "tags": []
          }
        },
        {
          "output_type": "stream",
          "text": [
            "\n"
          ],
          "name": "stdout"
        }
      ]
    },
    {
      "cell_type": "markdown",
      "metadata": {
        "id": "nVokp6TUAms-"
      },
      "source": [
        "Tokenize with ThaiWordsNewmmTokenizer"
      ]
    },
    {
      "cell_type": "code",
      "metadata": {
        "id": "AoY8hRYvAqpR",
        "colab": {
          "base_uri": "https://localhost:8080/",
          "referenced_widgets": [
            "ca4fa35e8a654546b4adbbef41782925",
            "5390015cdce3476d9a33281424201d9e",
            "ade749777e93437b86a36e32b123638e",
            "304a821bf17647e0b27e88d961766bd5",
            "f2cf8c3b182249708e44a5ac959a3a36",
            "19a6d3814ec44ee296bda7832281154a",
            "6bcc9a285bb949b9a453e2a72ecaff99",
            "a72113469f3048dcbd563c6abfbeae14"
          ]
        },
        "outputId": "e07cce50-1fac-4952-dfc1-fbd129ada166"
      },
      "source": [
        "tokenizer_wangchanberta_newmm = ThaiWordsNewmmTokenizer.from_pretrained(\n",
        "  f'airesearch/wangchanberta-base-wiki-newmm',\n",
        "  revision='main',\n",
        "  model_max_length=416,\n",
        ")\n",
        "\n",
        "def tokenize_word_with_wangchangerta_newmm(sentence, tokenizer):\n",
        "  words = tokenizer_wangchanberta_newmm(sentence)\n",
        "  words = tokenizer_wangchanberta_newmm.convert_ids_to_tokens(words['input_ids'])\n",
        "  words = [w for w in words if w not in ['<_>', '<unk>', '</s>', '<s>']]\n",
        "  return words"
      ],
      "execution_count": null,
      "outputs": [
        {
          "output_type": "display_data",
          "data": {
            "application/vnd.jupyter.widget-view+json": {
              "model_id": "ca4fa35e8a654546b4adbbef41782925",
              "version_minor": 0,
              "version_major": 2
            },
            "text/plain": [
              "HBox(children=(FloatProgress(value=0.0, description='Downloading', max=3557225.0, style=ProgressStyle(descript…"
            ]
          },
          "metadata": {
            "tags": []
          }
        },
        {
          "output_type": "stream",
          "text": [
            "\n"
          ],
          "name": "stdout"
        }
      ]
    },
    {
      "cell_type": "code",
      "metadata": {
        "colab": {
          "base_uri": "https://localhost:8080/"
        },
        "id": "XHKlCkkcxi0L",
        "outputId": "60554f23-43e4-46b0-dc24-b6e9ff353e36"
      },
      "source": [
        "df['tokenized'] = df['cleansing'].apply(lambda x: tokenize_word_with_wangchangerta_uncased(x))\n",
        "df.head()"
      ],
      "execution_count": null,
      "outputs": [
        {
          "output_type": "execute_result",
          "data": {
            "text/html": [
              "<div>\n",
              "<style scoped>\n",
              "    .dataframe tbody tr th:only-of-type {\n",
              "        vertical-align: middle;\n",
              "    }\n",
              "\n",
              "    .dataframe tbody tr th {\n",
              "        vertical-align: top;\n",
              "    }\n",
              "\n",
              "    .dataframe thead th {\n",
              "        text-align: right;\n",
              "    }\n",
              "</style>\n",
              "<table border=\"1\" class=\"dataframe\">\n",
              "  <thead>\n",
              "    <tr style=\"text-align: right;\">\n",
              "      <th></th>\n",
              "      <th>title</th>\n",
              "      <th>tags</th>\n",
              "      <th>cleansing</th>\n",
              "      <th>tokenized</th>\n",
              "    </tr>\n",
              "  </thead>\n",
              "  <tbody>\n",
              "    <tr>\n",
              "      <th>0</th>\n",
              "      <td>หาเพื่อนคุยค่ะ</td>\n",
              "      <td>[ศาลาคนโสด, หาเพื่อน, ศาลาคนเศร้า, ประสบการณ์ค...</td>\n",
              "      <td>หาเพื่อนคุยค่ะ</td>\n",
              "      <td>[หาเพื่อน, คุย, ค่ะ]</td>\n",
              "    </tr>\n",
              "    <tr>\n",
              "      <th>1</th>\n",
              "      <td>เราควรรู้สึกยังไงดี ?</td>\n",
              "      <td>[ประสบการณ์ความรัก]</td>\n",
              "      <td>เราควรรู้สึกยังไงดี ?</td>\n",
              "      <td>[เราควร, รู้สึก, ยังไงดี, ?]</td>\n",
              "    </tr>\n",
              "    <tr>\n",
              "      <th>2</th>\n",
              "      <td>LGBTQ ในสังคมไทยทำไมยังไม่เปิดกว้างเหมือนต่างป...</td>\n",
              "      <td>[ความรักต่างวัย, ความรักวัยรุ่น, ความรักเพศที่...</td>\n",
              "      <td>LGBTQ ในสังคมไทยทำไมยังไม่เปิดกว้างเหมือนต่างป...</td>\n",
              "      <td>[ในสังคมไทย, ทําไม, ยังไม่, เปิดกว้าง, เหมือน,...</td>\n",
              "    </tr>\n",
              "    <tr>\n",
              "      <th>3</th>\n",
              "      <td>รักข้างเดียว</td>\n",
              "      <td>[ความรักวัยรุ่น, แอบรัก]</td>\n",
              "      <td>รักข้างเดียว</td>\n",
              "      <td>[รัก, ข้างเดียว]</td>\n",
              "    </tr>\n",
              "    <tr>\n",
              "      <th>4</th>\n",
              "      <td>ทำไมผู้ชายสมัยนี้งี่เง่าขี้น้อยใจทำตัวเหมือนผู...</td>\n",
              "      <td>[ความรักวัยรุ่น]</td>\n",
              "      <td>ทำไมผู้ชายสมัยนี้งี่เง่าขี้น้อยใจทำตัวเหมือนผู...</td>\n",
              "      <td>[ทําไม, ผู้ชาย, สมัยนี้, งี่เง่า, ขี้, น้อยใจ,...</td>\n",
              "    </tr>\n",
              "  </tbody>\n",
              "</table>\n",
              "</div>"
            ],
            "text/plain": [
              "                                               title  ...                                          tokenized\n",
              "0                                     หาเพื่อนคุยค่ะ  ...                               [หาเพื่อน, คุย, ค่ะ]\n",
              "1                              เราควรรู้สึกยังไงดี ?  ...                       [เราควร, รู้สึก, ยังไงดี, ?]\n",
              "2  LGBTQ ในสังคมไทยทำไมยังไม่เปิดกว้างเหมือนต่างป...  ...  [ในสังคมไทย, ทําไม, ยังไม่, เปิดกว้าง, เหมือน,...\n",
              "3                                       รักข้างเดียว  ...                                   [รัก, ข้างเดียว]\n",
              "4  ทำไมผู้ชายสมัยนี้งี่เง่าขี้น้อยใจทำตัวเหมือนผู...  ...  [ทําไม, ผู้ชาย, สมัยนี้, งี่เง่า, ขี้, น้อยใจ,...\n",
              "\n",
              "[5 rows x 4 columns]"
            ]
          },
          "metadata": {
            "tags": []
          },
          "execution_count": 14
        }
      ]
    },
    {
      "cell_type": "markdown",
      "metadata": {
        "id": "q12QQ4DFJ9xS"
      },
      "source": [
        "## Word to Vector"
      ]
    },
    {
      "cell_type": "code",
      "metadata": {
        "id": "Lh33OiwKJ9Lg",
        "colab": {
          "base_uri": "https://localhost:8080/",
          "referenced_widgets": [
            "cb4e9e3e875342699e9db399835563b6",
            "c0db1e8c89484e5485523787dff3abf5",
            "c3d7d5d75b6947e1aa718b2655617a07",
            "3df51e5f8f074dcaa1605f7d47ea58b9",
            "43fb497f9bb04f7ca6103ec735750265",
            "cd689c334feb407bafe5cc9dd113786d",
            "32ee5f6b458244c397ed56d2d07208d8",
            "84aff1b9282f4662bf64e46157d133e2"
          ]
        },
        "outputId": "4f101e9d-bb85-40a7-ab63-988063624904"
      },
      "source": [
        "feature_extractor = pipeline(\n",
        "  task='feature-extraction',\n",
        "  tokenizer=tokenizer_wangchanberta_uncased,\n",
        "  # tokenizer=tokenizer_wangchanberta_newmm,\n",
        "  model = f'airesearch/wangchanberta-base-att-spm-uncased',\n",
        "  # model = f'airesearch/wangchanberta-base-wiki-newmm',\n",
        "  revision = 'main'\n",
        ")\n",
        "\n",
        "def extract_last_k(token, last_k=3):\n",
        "  hidden_states = feature_extractor(token)[0]\n",
        "  last_k_layers = [hidden_states[i] for i in [-i for i in range(1, last_k + 1)]]\n",
        "  cat_hidden_states = sum(last_k_layers, [])\n",
        "  return np.array(cat_hidden_states)"
      ],
      "execution_count": null,
      "outputs": [
        {
          "output_type": "display_data",
          "data": {
            "application/vnd.jupyter.widget-view+json": {
              "model_id": "cb4e9e3e875342699e9db399835563b6",
              "version_minor": 0,
              "version_major": 2
            },
            "text/plain": [
              "HBox(children=(FloatProgress(value=0.0, description='Downloading', max=423498558.0, style=ProgressStyle(descri…"
            ]
          },
          "metadata": {
            "tags": []
          }
        },
        {
          "output_type": "stream",
          "text": [
            "\n"
          ],
          "name": "stdout"
        }
      ]
    },
    {
      "cell_type": "code",
      "metadata": {
        "id": "QIhcl8ndIgWR"
      },
      "source": [
        "def get_word_list(series):\n",
        "  words = list(itertools.chain(*series.to_list()))\n",
        "  words = set(words)\n",
        "  return words\n",
        "\n",
        "tokenized_word_list = get_word_list(df['tokenized'])"
      ],
      "execution_count": null,
      "outputs": []
    },
    {
      "cell_type": "code",
      "metadata": {
        "id": "Z5VNkVcTV2kM"
      },
      "source": [
        "def get_word_vectors(tokenized_word_list):\n",
        "  ### Create word vectors and indices for word embedding layer\n",
        "  word_index = {}\n",
        "  word_vectors = []\n",
        "\n",
        "  for index, w in enumerate(tokenized_word_list):\n",
        "    word_index[w] = index\n",
        "    word_vectors.append(extract_last_k(w))\n",
        "\n",
        "  if '' not in word_index:\n",
        "    word_index[''] = index + 1\n",
        "    word_vectors.append(np.zeros(len(word_vectors[0])))\n",
        "\n",
        "  return word_index, word_vectors\n",
        "\n",
        "# word_index, word_vectors = get_word_vectors(tokenized_word_list)"
      ],
      "execution_count": null,
      "outputs": []
    },
    {
      "cell_type": "code",
      "metadata": {
        "id": "a0jXxLg8dpYQ"
      },
      "source": [
        "def write_pickle():\n",
        "  with open(directory + '2 Pickle/word_index_wangchanberta-base-att-spm-uncased.pckl', 'wb') as f:\n",
        "    pickle.dump(word_index, f)\n",
        "\n",
        "  with open(directory + '2 Pickle/word_vectors_wangchanberta-base-att-spm-uncased.pckl', 'wb') as f:\n",
        "    pickle.dump(word_vectors, f)\n",
        "\n",
        "def read_pickle():\n",
        "  with open(directory + '2 Pickle/word_index_wangchanberta-base-att-spm-uncased.pckl', 'rb') as f:\n",
        "    word_index = pickle.load(f)\n",
        "\n",
        "  with open(directory + '2 Pickle/word_vectors_wangchanberta-base-att-spm-uncased.pckl', 'rb') as f:\n",
        "    word_vectors = pickle.load(f)\n",
        "\n",
        "  return word_index, word_vectors\n",
        "\n",
        "# write_pickle()\n",
        "word_index, word_vectors = read_pickle()"
      ],
      "execution_count": null,
      "outputs": []
    },
    {
      "cell_type": "markdown",
      "metadata": {
        "id": "0hDe6ho4zQzt"
      },
      "source": [
        "## Prepare tags"
      ]
    },
    {
      "cell_type": "markdown",
      "metadata": {
        "id": "VIoCSeopYude"
      },
      "source": [
        "Finding a suitable sequence length"
      ]
    },
    {
      "cell_type": "code",
      "metadata": {
        "colab": {
          "base_uri": "https://localhost:8080/"
        },
        "id": "OPq-dTNVXRkp",
        "outputId": "fd03ea35-815f-4d91-b14e-83b5bd5bd1e7"
      },
      "source": [
        "df['tokenized_count'] = df['tokenized'].apply(lambda x: len(x))\n",
        "df.head()"
      ],
      "execution_count": null,
      "outputs": [
        {
          "output_type": "execute_result",
          "data": {
            "text/html": [
              "<div>\n",
              "<style scoped>\n",
              "    .dataframe tbody tr th:only-of-type {\n",
              "        vertical-align: middle;\n",
              "    }\n",
              "\n",
              "    .dataframe tbody tr th {\n",
              "        vertical-align: top;\n",
              "    }\n",
              "\n",
              "    .dataframe thead th {\n",
              "        text-align: right;\n",
              "    }\n",
              "</style>\n",
              "<table border=\"1\" class=\"dataframe\">\n",
              "  <thead>\n",
              "    <tr style=\"text-align: right;\">\n",
              "      <th></th>\n",
              "      <th>title</th>\n",
              "      <th>tags</th>\n",
              "      <th>cleansing</th>\n",
              "      <th>tokenized</th>\n",
              "      <th>tokenized_count</th>\n",
              "    </tr>\n",
              "  </thead>\n",
              "  <tbody>\n",
              "    <tr>\n",
              "      <th>0</th>\n",
              "      <td>หาเพื่อนคุยค่ะ</td>\n",
              "      <td>[ศาลาคนโสด, หาเพื่อน, ศาลาคนเศร้า, ประสบการณ์ค...</td>\n",
              "      <td>หาเพื่อนคุยค่ะ</td>\n",
              "      <td>[หาเพื่อน, คุย, ค่ะ]</td>\n",
              "      <td>3</td>\n",
              "    </tr>\n",
              "    <tr>\n",
              "      <th>1</th>\n",
              "      <td>เราควรรู้สึกยังไงดี ?</td>\n",
              "      <td>[ประสบการณ์ความรัก]</td>\n",
              "      <td>เราควรรู้สึกยังไงดี ?</td>\n",
              "      <td>[เราควร, รู้สึก, ยังไงดี, ?]</td>\n",
              "      <td>4</td>\n",
              "    </tr>\n",
              "    <tr>\n",
              "      <th>2</th>\n",
              "      <td>LGBTQ ในสังคมไทยทำไมยังไม่เปิดกว้างเหมือนต่างป...</td>\n",
              "      <td>[ความรักต่างวัย, ความรักวัยรุ่น, ความรักเพศที่...</td>\n",
              "      <td>LGBTQ ในสังคมไทยทำไมยังไม่เปิดกว้างเหมือนต่างป...</td>\n",
              "      <td>[ในสังคมไทย, ทําไม, ยังไม่, เปิดกว้าง, เหมือน,...</td>\n",
              "      <td>8</td>\n",
              "    </tr>\n",
              "    <tr>\n",
              "      <th>3</th>\n",
              "      <td>รักข้างเดียว</td>\n",
              "      <td>[ความรักวัยรุ่น, แอบรัก]</td>\n",
              "      <td>รักข้างเดียว</td>\n",
              "      <td>[รัก, ข้างเดียว]</td>\n",
              "      <td>2</td>\n",
              "    </tr>\n",
              "    <tr>\n",
              "      <th>4</th>\n",
              "      <td>ทำไมผู้ชายสมัยนี้งี่เง่าขี้น้อยใจทำตัวเหมือนผู...</td>\n",
              "      <td>[ความรักวัยรุ่น]</td>\n",
              "      <td>ทำไมผู้ชายสมัยนี้งี่เง่าขี้น้อยใจทำตัวเหมือนผู...</td>\n",
              "      <td>[ทําไม, ผู้ชาย, สมัยนี้, งี่เง่า, ขี้, น้อยใจ,...</td>\n",
              "      <td>14</td>\n",
              "    </tr>\n",
              "  </tbody>\n",
              "</table>\n",
              "</div>"
            ],
            "text/plain": [
              "                                               title  ... tokenized_count\n",
              "0                                     หาเพื่อนคุยค่ะ  ...               3\n",
              "1                              เราควรรู้สึกยังไงดี ?  ...               4\n",
              "2  LGBTQ ในสังคมไทยทำไมยังไม่เปิดกว้างเหมือนต่างป...  ...               8\n",
              "3                                       รักข้างเดียว  ...               2\n",
              "4  ทำไมผู้ชายสมัยนี้งี่เง่าขี้น้อยใจทำตัวเหมือนผู...  ...              14\n",
              "\n",
              "[5 rows x 5 columns]"
            ]
          },
          "metadata": {
            "tags": []
          },
          "execution_count": 19
        }
      ]
    },
    {
      "cell_type": "code",
      "metadata": {
        "colab": {
          "base_uri": "https://localhost:8080/"
        },
        "id": "jaH3T-0yYC5B",
        "outputId": "71636ba9-1d64-4f8e-bee3-34eff13ac187"
      },
      "source": [
        "# finding a suitable sequence length\n",
        "# populate the list with length of the questions\n",
        "\n",
        "length_df = pd.DataFrame({'text': df['tokenized_count']})\n",
        "length_df.hist(bins=100)\n",
        "plt.show()\n",
        "print(df['tokenized_count'].describe())"
      ],
      "execution_count": null,
      "outputs": [
        {
          "output_type": "display_data",
          "data": {
            "image/png": "[encoded data removed]",
            "text/plain": [
              "<Figure size 432x288 with 1 Axes>"
            ]
          },
          "metadata": {
            "tags": [],
            "needs_background": "light"
          }
        },
        {
          "output_type": "stream",
          "text": [
            "count    25800.000000\n",
            "mean        11.941357\n",
            "std          7.441372\n",
            "min          0.000000\n",
            "25%          7.000000\n",
            "50%         10.000000\n",
            "75%         15.000000\n",
            "max         48.000000\n",
            "Name: tokenized_count, dtype: float64\n"
          ],
          "name": "stdout"
        }
      ]
    },
    {
      "cell_type": "markdown",
      "metadata": {
        "id": "7lfePHrMYxIw"
      },
      "source": [
        "Finding most common tags"
      ]
    },
    {
      "cell_type": "code",
      "metadata": {
        "colab": {
          "base_uri": "https://localhost:8080/"
        },
        "id": "uCPAHnzvY1Fl",
        "outputId": "cad9abeb-cfa9-4c82-94f1-a34f7b77900b"
      },
      "source": [
        "freq= {}\n",
        "for i in df['tags']:\n",
        "  for j in i:\n",
        "    if j in freq.keys():\n",
        "      freq[j] = freq[j] + 1\n",
        "    else:\n",
        "      freq[j] = 1\n",
        "\n",
        "len(freq)"
      ],
      "execution_count": null,
      "outputs": [
        {
          "output_type": "execute_result",
          "data": {
            "text/plain": [
              "2334"
            ]
          },
          "metadata": {
            "tags": []
          },
          "execution_count": 21
        }
      ]
    },
    {
      "cell_type": "code",
      "metadata": {
        "colab": {
          "base_uri": "https://localhost:8080/"
        },
        "id": "gPB_e9mlY9fq",
        "outputId": "c6a0ef1c-cba3-43ff-d85f-ac20e49e093a"
      },
      "source": [
        "tag_freq = np.array(list(freq.values()))\n",
        "print(tag_freq.mean())\n",
        "print(tag_freq.std())"
      ],
      "execution_count": null,
      "outputs": [
        {
          "output_type": "stream",
          "text": [
            "33.54198800342759\n",
            "175.81438051159753\n"
          ],
          "name": "stdout"
        }
      ]
    },
    {
      "cell_type": "code",
      "metadata": {
        "id": "aTjHawuWZC7y"
      },
      "source": [
        "freq = dict(sorted(freq.items(), key=lambda x:x[1], reverse=True))\n",
        "common_tags = list(freq.keys())[:200]"
      ],
      "execution_count": null,
      "outputs": []
    },
    {
      "cell_type": "code",
      "metadata": {
        "colab": {
          "base_uri": "https://localhost:8080/"
        },
        "id": "uFZ5iaIOcqy3",
        "outputId": "f9e88ede-65a2-43e8-e09e-c2ba22c2c653"
      },
      "source": [
        "list(freq.items())[:200]"
      ],
      "execution_count": null,
      "outputs": [
        {
          "output_type": "execute_result",
          "data": {
            "text/plain": [
              "[('ปัญหาความรัก', 3347),\n",
              " ('การเมือง', 3226),\n",
              " ('หุ้น', 2713),\n",
              " ('ศาสนาพุทธ', 2622),\n",
              " ('ประสบการณ์ความรัก', 2233),\n",
              " ('ความงาม', 1843),\n",
              " ('รัฐบาล', 1702),\n",
              " ('ศาสนา', 1445),\n",
              " ('ประสบการณ์ชีวิตคู่', 1401),\n",
              " ('ความรักวัยรุ่น', 1362),\n",
              " ('โรคติดเชื้อไวรัสโคโรนาสายพันธุ์ใหม่ 2019 (COVID-19)', 1250),\n",
              " ('ปฏิบัติธรรม', 1216),\n",
              " ('การลงทุน', 953),\n",
              " ('Skin Care', 945),\n",
              " ('ธนาคาร', 938),\n",
              " ('สิว', 929),\n",
              " ('พระไตรปิฎก', 910),\n",
              " ('ความรักวัยทำงาน', 896),\n",
              " ('การเงิน', 831),\n",
              " ('ศาลาคนเศร้า', 821),\n",
              " ('ลดความอ้วน', 759),\n",
              " ('ข่าวเศรษฐกิจ', 739),\n",
              " ('คลินิกความงาม', 728),\n",
              " ('วัด', 722),\n",
              " ('นักการเมือง', 703),\n",
              " ('ทำบุญ', 693),\n",
              " ('ศาลาคนโสด', 643),\n",
              " ('แอบรัก', 633),\n",
              " ('ศัลยกรรมความงาม', 626),\n",
              " ('แฟชั่น', 587),\n",
              " ('ปัญหาชีวิต', 537),\n",
              " ('เครื่องสำอาง', 535),\n",
              " ('ทำผม', 535),\n",
              " ('ตลาดหลักทรัพย์', 531),\n",
              " ('ปัญหาวัยรุ่น', 490),\n",
              " ('พิธีกรรมทางศาสนา', 450),\n",
              " ('Technical Analysis', 437),\n",
              " ('สุขภาพกาย', 428),\n",
              " ('ความรักต่างวัย', 417),\n",
              " ('มหาสติปัฏฐาน 4', 413),\n",
              " ('ออกกำลังกาย', 411),\n",
              " ('บัตรเครดิต', 411),\n",
              " ('การ์ตูนการเมือง', 410),\n",
              " ('อาหารเสริม', 409),\n",
              " ('รัฐศาสตร์', 405),\n",
              " ('ความเชื่อส่วนบุคคล', 394),\n",
              " ('ศาสนาอิสลาม', 374),\n",
              " ('ผลิตภัณฑ์ดูแลเส้นผม', 367),\n",
              " ('ชีวิตวัยรุ่น', 358),\n",
              " ('ศาสนาคริสต์', 351),\n",
              " ('TFEX (Thailand Future Exchange)', 339),\n",
              " ('กระทรวงสาธารณสุข', 338),\n",
              " ('พิธีกรรมและความเชื่อ', 336),\n",
              " ('Value Investment', 314),\n",
              " ('พรรคเพื่อไทย', 312),\n",
              " ('การเมืองต่างประเทศ', 309),\n",
              " ('ปัญหาครอบครัว', 303),\n",
              " ('ผลิตภัณฑ์ดูแลผิวหน้า', 293),\n",
              " ('กองทุนรวม', 287),\n",
              " ('รัฐธรรมนูญ', 284),\n",
              " ('แต่งหน้า', 282),\n",
              " ('Hurt Room', 281),\n",
              " ('แฟนเก่า', 277),\n",
              " ('ผลิตภัณฑ์ดูแลผิว', 270),\n",
              " ('ฝ่ายค้าน', 267),\n",
              " ('การเมืองท้องถิ่น', 262),\n",
              " ('สินเชื่อเพื่อที่อยู่อาศัย', 250),\n",
              " ('วัคซีน (Vaccine)', 248),\n",
              " ('ความรักเพศที่สาม', 243),\n",
              " ('สภาผู้แทน', 242),\n",
              " ('ร้องทุกข์', 239),\n",
              " ('กฎหมายการเมือง', 223),\n",
              " ('โภชนาการ', 215),\n",
              " ('แต่งกลอน', 212),\n",
              " ('โรคผิวหนัง', 212),\n",
              " ('เศรษฐกิจ', 209),\n",
              " ('สุขภาพจิต', 207),\n",
              " (\"Men's Fashion\", 203),\n",
              " ('เลือกตั้ง', 203),\n",
              " ('น้ำหอม', 201),\n",
              " ('บทสวดมนต์', 200),\n",
              " ('ธนาคารกสิกรไทย', 192),\n",
              " ('พรรคการเมือง', 190),\n",
              " ('ผิวแพ้ง่าย', 189),\n",
              " ('แพทย์', 183),\n",
              " ('รักสามเส้า', 177),\n",
              " ('สิทธิมนุษยชน (Human Rights)', 176),\n",
              " ('ธนาคารกรุงไทย', 173),\n",
              " ('พรรคก้าวไกล', 172),\n",
              " ('การออมเงิน', 165),\n",
              " ('สังคมไทย', 164),\n",
              " ('มนุษย์เงินเดือน', 164),\n",
              " ('ยา', 157),\n",
              " ('Fundamental Analysis', 156),\n",
              " ('คัมภีร์ไบเบิล', 154),\n",
              " ('หย่าร้าง', 149),\n",
              " ('บทกวี', 149),\n",
              " ('หาเพื่อน', 144),\n",
              " ('ปรัชญา', 144),\n",
              " ('บริษัทหลักทรัพย์', 144),\n",
              " ('ครอบครัว', 143),\n",
              " ('แต่งงาน', 143),\n",
              " ('ผิวมัน', 138),\n",
              " ('ประเทศไทย', 137),\n",
              " ('คุ้มครองผู้บริโภค', 137),\n",
              " ('เครื่องแต่งกาย', 133),\n",
              " ('สินเชื่อรถยนต์', 131),\n",
              " ('พระพุทธเจ้า', 131),\n",
              " ('การทำสีผม', 130),\n",
              " ('พระสงฆ์', 128),\n",
              " ('เพื่อนวัยเรียน', 120),\n",
              " ('ปัญหาสังคม', 114),\n",
              " ('อุปกรณ์ทำผม/จัดแต่งทรงผม', 114),\n",
              " ('วิปัสสนากรรมฐาน', 113),\n",
              " ('พระธรรม', 111),\n",
              " ('อัลกุรอ่าน', 111),\n",
              " ('ตลาดหลักทรัพย์แห่งประเทศไทย (SET)', 111),\n",
              " ('ประวัติศาสตร์', 110),\n",
              " ('กฎหมายชาวบ้าน', 108),\n",
              " ('เที่ยววัด', 108),\n",
              " ('โบสถ์', 107),\n",
              " ('ฟิตเนส', 105),\n",
              " ('ธุรกรรมทางการเงิน', 105),\n",
              " ('สิ่งลี้ลับ (mystery)', 104),\n",
              " ('คนละครึ่ง (โครงการ)', 103),\n",
              " ('เราชนะ (โครงการ)', 100),\n",
              " ('กฎแห่งกรรม', 99),\n",
              " ('ธนาคารไทยพาณิชย์', 97),\n",
              " ('กลุ่มบุคคลที่มีความหลากหลายทางเพศ (LGBT)', 95),\n",
              " ('เซรั่ม', 93),\n",
              " ('สมถกรรมฐาน', 93),\n",
              " ('เจ้าของธุรกิจ', 92),\n",
              " ('โรงพยาบาล', 91),\n",
              " ('เพศที่สาม', 89),\n",
              " ('เตือนภัย', 87),\n",
              " ('ความหลากหลายทางเพศ', 85),\n",
              " ('กลอนไทย', 85),\n",
              " ('บทความความรัก', 84),\n",
              " ('ครีมกันแดด', 84),\n",
              " ('เศรษฐศาสตร์', 84),\n",
              " ('ธนาคารออมสิน', 84),\n",
              " ('ประยุทธ์ จันทร์โอชา', 83),\n",
              " ('การดัดผม', 82),\n",
              " ('เงินตราต่างประเทศ', 82),\n",
              " ('การวางแผนการเงิน', 81),\n",
              " ('ข่าวการเมือง', 80),\n",
              " ('สินเชื่อส่วนบุคคล', 80),\n",
              " ('อานาปานสติ', 80),\n",
              " ('สินเชื่อธุรกิจ', 80),\n",
              " ('อสังหาริมทรัพย์', 78),\n",
              " ('ธนาคารกรุงเทพ', 78),\n",
              " ('กฎหมายอาญา (Criminal Law)', 77),\n",
              " ('โรคติดต่อ', 77),\n",
              " ('การยืดผม', 76),\n",
              " ('การอุปสมบท (การบวชพระภิกษุ)', 76),\n",
              " ('หน้าต่างโลก', 75),\n",
              " ('ประเทศพม่า', 74),\n",
              " ('Mobile Application', 74),\n",
              " ('วิทยาศาสตร์', 74),\n",
              " ('ข่าวต่างประเทศ', 73),\n",
              " ('เครื่องรางของขลัง', 73),\n",
              " ('Cardio', 69),\n",
              " ('วัตถุมงคล', 68),\n",
              " ('ธุรกิจความงาม', 66),\n",
              " ('ทำนายฝัน', 65),\n",
              " ('เบิร์น (Burn)', 65),\n",
              " ('Weight Training', 65),\n",
              " ('วันสำคัญทางศาสนา', 65),\n",
              " ('ทักษิณ ชินวัตร', 64),\n",
              " ('นักจิตวิทยา', 63),\n",
              " ('คํานวณแคลอรี่', 63),\n",
              " ('โครงการลงทะเบียนเพื่อสวัสดิการแห่งรัฐ', 62),\n",
              " ('การเมืองระหว่างประเทศ', 62),\n",
              " ('วางแผนครอบครัว', 61),\n",
              " ('หนี้สิน (Liability)', 61),\n",
              " ('Dress Up Club', 61),\n",
              " ('พุทธศาสนิกชน', 61),\n",
              " ('บ้าน', 60),\n",
              " ('สหรัฐอเมริกา', 60),\n",
              " ('จิตวิทยา (Psychology)', 59),\n",
              " ('ศาสนาฮินดู', 59),\n",
              " ('นักลงทุน', 58),\n",
              " ('การศึกษา', 57),\n",
              " ('อุปกรณ์เสริมความงาม', 57),\n",
              " ('ธนาธร จึงรุ่งเรืองกิจ', 57),\n",
              " ('กรุงเทพมหานคร', 56),\n",
              " ('อาหารเพื่อสุขภาพ', 56),\n",
              " ('แฟชั่นเกาหลี', 56),\n",
              " ('เพลง', 55),\n",
              " ('รองเท้า', 55),\n",
              " ('กระทรวงการคลัง', 55),\n",
              " ('สกุลเงินดิจิตอล', 55),\n",
              " ('โคลง', 54),\n",
              " ('พระเครื่อง', 54),\n",
              " ('ทำเล็บ', 53),\n",
              " ('SCB EASY', 53),\n",
              " ('ระบบผิวหนัง (Intergumentary System)', 52),\n",
              " ('งานขาย', 51),\n",
              " ('เครื่องสำอางเกาหลี', 51),\n",
              " ('ทันตกรรม', 50)]"
            ]
          },
          "metadata": {
            "tags": []
          },
          "execution_count": 24
        }
      ]
    },
    {
      "cell_type": "code",
      "metadata": {
        "id": "jtMdr5zOZOlY"
      },
      "source": [
        "def common_tags_exis(tags_list):\n",
        "  for tag in tags_list:\n",
        "    if tag in common_tags:\n",
        "      return True\n",
        "  return False"
      ],
      "execution_count": null,
      "outputs": []
    },
    {
      "cell_type": "code",
      "metadata": {
        "colab": {
          "base_uri": "https://localhost:8080/"
        },
        "id": "9LsIKgJ5ZRmk",
        "outputId": "a0095a95-04f3-4fbc-869d-04033984f441"
      },
      "source": [
        "filter_common_df = df[df['tags'].apply(common_tags_exis)]\n",
        "filter_common_df[\"common_tags\"] = filter_common_df['tags'].apply(lambda x: list(filter(lambda x: x in common_tags, x)))\n",
        "print(filter_common_df['common_tags'])\n",
        "print(filter_common_df.shape)"
      ],
      "execution_count": null,
      "outputs": [
        {
          "output_type": "stream",
          "text": [
            "0       [ศาลาคนโสด, หาเพื่อน, ศาลาคนเศร้า, ประสบการณ์ค...\n",
            "1                                     [ประสบการณ์ความรัก]\n",
            "2       [ความรักต่างวัย, ความรักวัยรุ่น, ความรักเพศที่...\n",
            "3                                [ความรักวัยรุ่น, แอบรัก]\n",
            "4                                        [ความรักวัยรุ่น]\n",
            "                              ...                        \n",
            "5145                                               [หุ้น]\n",
            "5146    [หุ้น, บริษัทหลักทรัพย์, ตลาดหลักทรัพย์, กองทุ...\n",
            "5147                                           [การลงทุน]\n",
            "5148                  [สินเชื่อเพื่อที่อยู่อาศัย, ธนาคาร]\n",
            "5149    [ตลาดหลักทรัพย์, หุ้น, การลงทุน, ตลาดหลักทรัพย...\n",
            "Name: common_tags, Length: 25771, dtype: object\n",
            "(25771, 6)\n"
          ],
          "name": "stdout"
        },
        {
          "output_type": "stream",
          "text": [
            "/usr/local/lib/python3.7/dist-packages/ipykernel_launcher.py:2: SettingWithCopyWarning: \n",
            "A value is trying to be set on a copy of a slice from a DataFrame.\n",
            "Try using .loc[row_indexer,col_indexer] = value instead\n",
            "\n",
            "See the caveats in the documentation: https://pandas.pydata.org/pandas-docs/stable/user_guide/indexing.html#returning-a-view-versus-a-copy\n",
            "  \n"
          ],
          "name": "stderr"
        }
      ]
    },
    {
      "cell_type": "markdown",
      "metadata": {
        "id": "8PUlWe5-ZaIM"
      },
      "source": [
        "Parse tags to dummy variables"
      ]
    },
    {
      "cell_type": "code",
      "metadata": {
        "colab": {
          "base_uri": "https://localhost:8080/"
        },
        "id": "g--RP46at9M8",
        "outputId": "6b93bf30-5f4f-4b1b-d81b-d1ee4c756e49"
      },
      "source": [
        "mlb = MultiLabelBinarizer()\n",
        "y = mlb.fit_transform(filter_common_df['common_tags'])\n",
        "y.shape"
      ],
      "execution_count": null,
      "outputs": [
        {
          "output_type": "execute_result",
          "data": {
            "text/plain": [
              "(25771, 200)"
            ]
          },
          "metadata": {
            "tags": []
          },
          "execution_count": 27
        }
      ]
    },
    {
      "cell_type": "markdown",
      "metadata": {
        "id": "3X3Bsi7kc7m6"
      },
      "source": [
        "Save Dataframe to csv"
      ]
    },
    {
      "cell_type": "code",
      "metadata": {
        "id": "gOy_F0mac5xo"
      },
      "source": [
        "filter_common_df.to_csv(directory + '3 Output/filter_common.csv')"
      ],
      "execution_count": null,
      "outputs": []
    },
    {
      "cell_type": "markdown",
      "metadata": {
        "id": "s-WJanKRcKYY"
      },
      "source": [
        "## Train, Test Split"
      ]
    },
    {
      "cell_type": "code",
      "metadata": {
        "colab": {
          "base_uri": "https://localhost:8080/"
        },
        "id": "A0eEZMPncSqj",
        "outputId": "b73d56fe-f5aa-460c-af8d-edb745a208ac"
      },
      "source": [
        "x_tr, x_val, y_tr, y_val = train_test_split(filter_common_df['tokenized'], y, test_size=0.2, random_state=0, shuffle=True)\n",
        "print(x_tr.shape, y_tr.shape)\n",
        "print(x_val.shape, y_val.shape)"
      ],
      "execution_count": null,
      "outputs": [
        {
          "output_type": "stream",
          "text": [
            "(20616,) (20616, 200)\n",
            "(5155,) (5155, 200)\n"
          ],
          "name": "stdout"
        }
      ]
    },
    {
      "cell_type": "markdown",
      "metadata": {
        "id": "d7c4kdwKgjf5"
      },
      "source": [
        "## Pad Sequences"
      ]
    },
    {
      "cell_type": "code",
      "metadata": {
        "id": "skRdqM-9gr5R"
      },
      "source": [
        "max_len = 10"
      ],
      "execution_count": null,
      "outputs": []
    },
    {
      "cell_type": "code",
      "metadata": {
        "id": "hfPLHDpMgvNW"
      },
      "source": [
        "# custom texts to sequences\n",
        "def texts_to_sequences(text_list):\n",
        "  sequences = []\n",
        "  for text in text_list:\n",
        "    temp_list = []\n",
        "    for word in text:\n",
        "      temp_list.append(word_index[word]) if word in word_index else 0 # ignore unknown words\n",
        "    sequences.append(temp_list)\n",
        "  return sequences"
      ],
      "execution_count": null,
      "outputs": []
    },
    {
      "cell_type": "code",
      "metadata": {
        "colab": {
          "base_uri": "https://localhost:8080/"
        },
        "id": "X7ys3abhgzJT",
        "outputId": "19929e0d-9bbe-460f-df10-bc38f969797e"
      },
      "source": [
        "x_tr_seq = texts_to_sequences(x_tr)\n",
        "x_val_seq = texts_to_sequences(x_val)\n",
        "\n",
        "x_tr_seq = pad_sequences(x_tr_seq,  padding='post', maxlen=max_len, value=word_index[''])\n",
        "x_val_seq = pad_sequences(x_val_seq, padding='post', maxlen=max_len, value=word_index[''])\n",
        "print(x_tr_seq.shape)\n",
        "print(x_val_seq.shape)\n",
        "print('Example of pading: ' + str(x_tr_seq[0]))"
      ],
      "execution_count": null,
      "outputs": [
        {
          "output_type": "stream",
          "text": [
            "(20616, 10)\n",
            "(5155, 10)\n",
            "Example of pading: [ 4869 10061 15878 11006  6375 16299 16299 16299 16299 16299]\n"
          ],
          "name": "stdout"
        }
      ]
    },
    {
      "cell_type": "markdown",
      "metadata": {
        "id": "MSVBhr5Fh91D"
      },
      "source": [
        "## Deep Learning Model"
      ]
    },
    {
      "cell_type": "code",
      "metadata": {
        "colab": {
          "base_uri": "https://localhost:8080/"
        },
        "id": "k8ghFc_Mh4uK",
        "outputId": "09b5d9ba-5709-422c-a6c0-0212acde9470"
      },
      "source": [
        "num_words = len(word_index)\n",
        "num_labels = y.shape[1]\n",
        "num_embedding_dim = len(word_vectors[0])\n",
        "num_words, num_labels, num_embedding_dim"
      ],
      "execution_count": null,
      "outputs": [
        {
          "output_type": "execute_result",
          "data": {
            "text/plain": [
              "(16300, 200, 2304)"
            ]
          },
          "metadata": {
            "tags": []
          },
          "execution_count": 33
        }
      ]
    },
    {
      "cell_type": "code",
      "metadata": {
        "id": "RSxZRqJ-Uzx7"
      },
      "source": [
        "def plot_model_loss(history, name):\n",
        "  plt.figure(figsize=(12, 6))\n",
        "  plt.plot(history['loss'], linewidth=2, label='Train')\n",
        "  plt.plot(history['val_loss'], linewidth=2, label='Test')\n",
        "  plt.legend(loc='upper right')\n",
        "  plt.title(name)\n",
        "  plt.ylabel('Loss')\n",
        "  plt.xlabel('Epoch')\n",
        "  plt.show()"
      ],
      "execution_count": null,
      "outputs": []
    },
    {
      "cell_type": "code",
      "metadata": {
        "id": "TI-PVdYXVX3v"
      },
      "source": [
        "def train_model(model, name):\n",
        "  model.compile(optimizer='adam', loss='binary_crossentropy')\n",
        "  mc = ModelCheckpoint(f\"{name}-max-weights.best.hdf5\", monitor='val_loss', verbose=1, save_best_only=True, mode='min')\n",
        "  his = model.fit(x_tr_seq, y_tr, batch_size=128, epochs=50, verbose=1, validation_data=(x_val_seq, y_val), callbacks=[mc])\n",
        "  return his.history"
      ],
      "execution_count": null,
      "outputs": []
    },
    {
      "cell_type": "markdown",
      "metadata": {
        "id": "Sf8e0809WXAK"
      },
      "source": [
        "Pause before train models"
      ]
    },
    {
      "cell_type": "code",
      "metadata": {
        "id": "1lhU5A4HWTSw",
        "colab": {
          "base_uri": "https://localhost:8080/",
          "height": 163
        },
        "outputId": "a8679d49-4846-40e4-cac7-c81c08a3adbd"
      },
      "source": [
        "assert True == False"
      ],
      "execution_count": null,
      "outputs": [
        {
          "output_type": "error",
          "ename": "AssertionError",
          "evalue": "ignored",
          "traceback": [
            "\u001b[0;31m---------------------------------------------------------------------------\u001b[0m",
            "\u001b[0;31mAssertionError\u001b[0m                            Traceback (most recent call last)",
            "\u001b[0;32m<ipython-input-36-2baf78a17125>\u001b[0m in \u001b[0;36m<module>\u001b[0;34m()\u001b[0m\n\u001b[0;32m----> 1\u001b[0;31m \u001b[0;32massert\u001b[0m \u001b[0;32mTrue\u001b[0m \u001b[0;34m==\u001b[0m \u001b[0;32mFalse\u001b[0m\u001b[0;34m\u001b[0m\u001b[0;34m\u001b[0m\u001b[0m\n\u001b[0m",
            "\u001b[0;31mAssertionError\u001b[0m: "
          ]
        }
      ]
    },
    {
      "cell_type": "markdown",
      "metadata": {
        "id": "h6GwCvl68bcR"
      },
      "source": [
        "#### Simple RNN"
      ]
    },
    {
      "cell_type": "code",
      "metadata": {
        "id": "rnnOj4vI8fPg"
      },
      "source": [
        "def create_simple_RNN_model():\n",
        "  # define model architecture\n",
        "  k.clear_session()\n",
        "\n",
        "  #sequential model\n",
        "  model = Sequential()\n",
        "\n",
        "  #embedding layer\n",
        "  model.add(Embedding(num_words,\n",
        "                      output_dim=num_embedding_dim,\n",
        "                      weights = [np.array(word_vectors)],\n",
        "                      input_length=max_len,\n",
        "                      mask_zero=False,\n",
        "                      trainable=False))\n",
        "\n",
        "  #lstm \n",
        "  model.add(SimpleRNN(128, return_sequences=True))\n",
        "  model.add(SimpleRNN(128))\n",
        "\n",
        "  #dense layer\n",
        "  model.add(Dense(1024, activation='relu')) \n",
        "  model.add(Dropout(0.5))\n",
        "\n",
        "  #output layer\n",
        "  model.add(Dense(num_labels ,activation='sigmoid'))\n",
        "\n",
        "  return model"
      ],
      "execution_count": null,
      "outputs": []
    },
    {
      "cell_type": "code",
      "metadata": {
        "id": "nXOn7Lh_8dtk"
      },
      "source": [
        "rnn_history = []\n",
        "\n",
        "if os.path.isfile(directory + '2 Pickle/rnn_model.h5'):\n",
        "  rnn_model = keras.models.load_model(directory + '2 Pickle/rnn_model.h5')\n",
        "else:\n",
        "  rnn_model = create_simple_RNN_model()\n",
        "  rnn_history = train_model(rnn_model, 'rnn')\n",
        "  rnn_model.load_weights(\"rnn-max-weights.best.hdf5\")\n",
        "  rnn_model.save(directory + '2 Pickle/rnn_model.h5')"
      ],
      "execution_count": null,
      "outputs": []
    },
    {
      "cell_type": "code",
      "metadata": {
        "id": "BKI2a0q8UW8F"
      },
      "source": [
        "rnn_model.summary()"
      ],
      "execution_count": null,
      "outputs": []
    },
    {
      "cell_type": "code",
      "metadata": {
        "id": "1OX6KYaRU5CG"
      },
      "source": [
        "plot_model_loss(rnn_history, 'RNN')"
      ],
      "execution_count": null,
      "outputs": []
    },
    {
      "cell_type": "markdown",
      "metadata": {
        "id": "De3R5Y_88IrM"
      },
      "source": [
        "#### LSTM"
      ]
    },
    {
      "cell_type": "code",
      "metadata": {
        "id": "lwqYVtHuh6hy"
      },
      "source": [
        "def create_LSTM_model():\n",
        "  # define model architecture\n",
        "  k.clear_session()\n",
        "\n",
        "  #sequential model\n",
        "  model = Sequential()\n",
        "\n",
        "  #embedding layer\n",
        "  model.add(Embedding(num_words,\n",
        "                      output_dim=num_embedding_dim,\n",
        "                      weights = [np.array(word_vectors)],\n",
        "                      input_length=max_len,\n",
        "                      mask_zero=False,\n",
        "                      trainable=False))\n",
        "\n",
        "  #lstm \n",
        "  model.add(LSTM(128, return_sequences=True))\n",
        "  model.add(LSTM(128))\n",
        "\n",
        "  #dense layer\n",
        "  model.add(Dense(1024, activation='relu')) \n",
        "  model.add(Dropout(0.5))\n",
        "\n",
        "  #output layer\n",
        "  model.add(Dense(num_labels ,activation='sigmoid'))\n",
        "\n",
        "  return model"
      ],
      "execution_count": null,
      "outputs": []
    },
    {
      "cell_type": "code",
      "metadata": {
        "id": "5nQoZ2lbaQAc"
      },
      "source": [
        "lstm_history = []\n",
        "\n",
        "if os.path.isfile(directory + '2 Pickle/lstm_model.h5'):\n",
        "  lstm_model = keras.models.load_model(directory + '2 Pickle/lstm_model.h5')\n",
        "else:\n",
        "  lstm_model = create_LSTM_model()\n",
        "  lstm_history = train_model(lstm_model, 'lstm')\n",
        "  lstm_model.load_weights(\"lstm-max-weights.best.hdf5\")\n",
        "  lstm_model.save(directory + '2 Pickle/lstm_model.h5')"
      ],
      "execution_count": null,
      "outputs": []
    },
    {
      "cell_type": "code",
      "metadata": {
        "id": "0JgnTtkHV0qD"
      },
      "source": [
        "lstm_model.summary()"
      ],
      "execution_count": null,
      "outputs": []
    },
    {
      "cell_type": "code",
      "metadata": {
        "id": "8EH5NrD-V2pZ"
      },
      "source": [
        "plot_model_loss(lstm_history, 'LSTM')"
      ],
      "execution_count": null,
      "outputs": []
    },
    {
      "cell_type": "markdown",
      "metadata": {
        "id": "mwTyLQ1R8OvP"
      },
      "source": [
        "#### GRU"
      ]
    },
    {
      "cell_type": "code",
      "metadata": {
        "id": "uUT7nFrB8S-u"
      },
      "source": [
        "def create_GRU_model():\n",
        "  # define model architecture\n",
        "  k.clear_session()\n",
        "\n",
        "  #sequential model\n",
        "  model = Sequential()\n",
        "\n",
        "  #embedding layer\n",
        "  model.add(Embedding(num_words,\n",
        "                      output_dim=num_embedding_dim,\n",
        "                      weights = [np.array(word_vectors)],\n",
        "                      input_length=max_len,\n",
        "                      mask_zero=False,\n",
        "                      trainable=False))\n",
        "\n",
        "  #lstm \n",
        "  model.add(GRU(128, return_sequences=True))\n",
        "  model.add(GRU(128))\n",
        "\n",
        "  #dense layer\n",
        "  model.add(Dense(1024, activation='relu')) \n",
        "  model.add(Dropout(0.5))\n",
        "\n",
        "  #output layer\n",
        "  model.add(Dense(num_labels ,activation='sigmoid'))\n",
        "\n",
        "  return model"
      ],
      "execution_count": null,
      "outputs": []
    },
    {
      "cell_type": "code",
      "metadata": {
        "id": "gX3MmPlPaYBP"
      },
      "source": [
        "gru_history = []\n",
        "\n",
        "if os.path.isfile(directory + '2 Pickle/gru_model.h5'):\n",
        "  gru_model = keras.models.load_model(directory + '2 Pickle/gru_model.h5')\n",
        "else:\n",
        "  gru_model = create_GRU_model()\n",
        "  gru_history = train_model(gru_model, 'gru')\n",
        "  gru_model.load_weights(\"gru-max-weights.best.hdf5\")\n",
        "  gru_model.save(directory + '2 Pickle/gru_model.h5')"
      ],
      "execution_count": null,
      "outputs": []
    },
    {
      "cell_type": "code",
      "metadata": {
        "id": "pNc7vHdAWCDd"
      },
      "source": [
        "gru_model.summary()"
      ],
      "execution_count": null,
      "outputs": []
    },
    {
      "cell_type": "code",
      "metadata": {
        "id": "YuGiKt4mV8Pl"
      },
      "source": [
        "plot_model_loss(gru_history, 'gru_history')"
      ],
      "execution_count": null,
      "outputs": []
    },
    {
      "cell_type": "markdown",
      "metadata": {
        "id": "Wf0rOrCojrDu"
      },
      "source": [
        "## Predict"
      ]
    },
    {
      "cell_type": "code",
      "metadata": {
        "id": "GrmLX3QJjy9T"
      },
      "source": [
        "def classify(pred_prob, thresh):\n",
        "  y_pred_seq = []\n",
        "\n",
        "  for i in pred_prob:\n",
        "    temp=[]\n",
        "    for j in i:\n",
        "      if j>=thresh:\n",
        "        temp.append(1)\n",
        "      else:\n",
        "        temp.append(0)\n",
        "    y_pred_seq.append(temp)\n",
        "\n",
        "  return y_pred_seq"
      ],
      "execution_count": null,
      "outputs": []
    },
    {
      "cell_type": "code",
      "metadata": {
        "id": "B8VoO2zpj0n5"
      },
      "source": [
        "def find_optimum_threshold(model):\n",
        "  score=[]\n",
        "\n",
        "  pred_prob = model.predict(x_val_seq)\n",
        "\n",
        "  #define candidate threshold values\n",
        "  threshold = np.arange(0, 0.5, 0.01)\n",
        "\n",
        "  #convert to 1 array\n",
        "  y_true = np.array(y_val).ravel() \n",
        "\n",
        "  for thresh in threshold:\n",
        "    #classes for each threshold\n",
        "    y_pred_seq = classify(pred_prob,thresh) \n",
        "\n",
        "    #convert to 1d array\n",
        "    y_pred = np.array(y_pred_seq).ravel()\n",
        "\n",
        "    score.append(metrics.f1_score(y_true,y_pred))\n",
        "\n",
        "  opt = threshold[score.index(max(score))]\n",
        "  return opt"
      ],
      "execution_count": null,
      "outputs": []
    },
    {
      "cell_type": "code",
      "metadata": {
        "id": "cp8etDO6pTKm"
      },
      "source": [
        "def print_report(model, threshold=0.24):\n",
        "  pred_prob = model.predict(x_val_seq)\n",
        "  y_true = np.array(y_val).ravel()\n",
        "  y_pred_seq = classify(pred_prob, threshold)\n",
        "  y_pred = np.array(y_pred_seq).ravel()\n",
        "  print(metrics.classification_report(y_true, y_pred))"
      ],
      "execution_count": null,
      "outputs": []
    },
    {
      "cell_type": "code",
      "metadata": {
        "id": "uEld3l8EkFbX"
      },
      "source": [
        "def compare_actual_predictions(model, name, threshold=0.24):\n",
        "  pred_prob = model.predict(x_val_seq)\n",
        "  y_pred_seq = classify(pred_prob, threshold)\n",
        "  y_pred = mlb.inverse_transform(np.array(y_pred_seq))\n",
        "  y_true = mlb.inverse_transform(np.array(y_val))\n",
        "  prediction_df = pd.DataFrame({'comment':x_val,'actual':y_true,'predictions':y_pred})\n",
        "  prediction_df.to_csv(directory + f'3 Output/prediction-{name}.csv')\n",
        "  return prediction_df"
      ],
      "execution_count": null,
      "outputs": []
    },
    {
      "cell_type": "code",
      "metadata": {
        "id": "pR1hem06kQGL"
      },
      "source": [
        "def predict_tag(model, comment, opt=0.24):  \n",
        "  text=[]  \n",
        "  text = [cleansing_text(comment)]\n",
        "  text = [tokenize_word_with_wangchangerta_uncased(comment)]\n",
        "  #seq = x_tokenizer.texts_to_sequences(text)\n",
        "  seq = texts_to_sequences(text)\n",
        "\n",
        "  pad_seq = pad_sequences(seq,  padding='post', maxlen=max_len, value=word_index[''])\n",
        "  pred_prob = model.predict(pad_seq)\n",
        "  classes = classify(pred_prob,opt)[0]\n",
        "  classes = np.array([classes])\n",
        "  classes = mlb.inverse_transform(classes)  \n",
        "  return classes"
      ],
      "execution_count": null,
      "outputs": []
    },
    {
      "cell_type": "code",
      "metadata": {
        "id": "7CCHAxKh7gP8"
      },
      "source": [
        "topics = [\n",
        "  \"ขอถามความหมายของคำบาลีค่ะ\",\n",
        "  \"ทั่วสากลจักรวาล มีพระพุทธเจ้ามากมาย ดั่งเม็ดทรายในจักรวาล\",\n",
        "  \"วิ่งแล้วน่องใหญ่จริงไหม\",\n",
        "  \"แอบรักผู้ชายข้างบ้าน ทำยังไงดี​\",\n",
        "  \"บิตคอยยังควรลงทุนไหม ช่วยชี้แนะหน่อยครับ\",\n",
        "  \"ไปทำบุญที่ไหนดี\"\n",
        "]"
      ],
      "execution_count": null,
      "outputs": []
    },
    {
      "cell_type": "markdown",
      "metadata": {
        "id": "0kJ4OrWo6hTq"
      },
      "source": [
        "#### Simple RNN"
      ]
    },
    {
      "cell_type": "code",
      "metadata": {
        "colab": {
          "base_uri": "https://localhost:8080/"
        },
        "id": "FDvMLXmi64Wz",
        "outputId": "e5e45476-5909-45f6-ef86-af55327d1c4f"
      },
      "source": [
        "rnn_threshold = find_optimum_threshold(rnn_model)\n",
        "rnn_threshold"
      ],
      "execution_count": null,
      "outputs": [
        {
          "output_type": "execute_result",
          "data": {
            "text/plain": [
              "0.14"
            ]
          },
          "metadata": {
            "tags": []
          },
          "execution_count": 49
        }
      ]
    },
    {
      "cell_type": "code",
      "metadata": {
        "colab": {
          "base_uri": "https://localhost:8080/"
        },
        "id": "jT7M8FR36mtS",
        "outputId": "0d54aede-9faf-4a02-c363-a3d39376eec8"
      },
      "source": [
        "print_report(rnn_model, rnn_threshold)"
      ],
      "execution_count": null,
      "outputs": [
        {
          "output_type": "stream",
          "text": [
            "              precision    recall  f1-score   support\n",
            "\n",
            "           0       0.99      0.99      0.99   1017665\n",
            "           1       0.28      0.31      0.29     13335\n",
            "\n",
            "    accuracy                           0.98   1031000\n",
            "   macro avg       0.63      0.65      0.64   1031000\n",
            "weighted avg       0.98      0.98      0.98   1031000\n",
            "\n"
          ],
          "name": "stdout"
        }
      ]
    },
    {
      "cell_type": "code",
      "metadata": {
        "colab": {
          "base_uri": "https://localhost:8080/",
          "height": 419
        },
        "id": "b_tZXNe96pHL",
        "outputId": "3ddd2c51-ddc3-479a-915d-5bb82d01a491"
      },
      "source": [
        "compare_actual_predictions(rnn_model, 'rnn', rnn_threshold)"
      ],
      "execution_count": null,
      "outputs": [
        {
          "output_type": "execute_result",
          "data": {
            "text/html": [
              "<div>\n",
              "<style scoped>\n",
              "    .dataframe tbody tr th:only-of-type {\n",
              "        vertical-align: middle;\n",
              "    }\n",
              "\n",
              "    .dataframe tbody tr th {\n",
              "        vertical-align: top;\n",
              "    }\n",
              "\n",
              "    .dataframe thead th {\n",
              "        text-align: right;\n",
              "    }\n",
              "</style>\n",
              "<table border=\"1\" class=\"dataframe\">\n",
              "  <thead>\n",
              "    <tr style=\"text-align: right;\">\n",
              "      <th></th>\n",
              "      <th>comment</th>\n",
              "      <th>actual</th>\n",
              "      <th>predictions</th>\n",
              "    </tr>\n",
              "  </thead>\n",
              "  <tbody>\n",
              "    <tr>\n",
              "      <th>2172</th>\n",
              "      <td>[ข่าว, ดี้, ดี, ., นายกฯ, นําทีม, ถ่ายภาพ, ประ...</td>\n",
              "      <td>(รัฐบาล,)</td>\n",
              "      <td>(การเมือง, ข่าวเศรษฐกิจ, พรรคเพื่อไทย, รัฐบาล,...</td>\n",
              "    </tr>\n",
              "    <tr>\n",
              "      <th>3591</th>\n",
              "      <td>[เหมียน, เดิม, ---, มิ, ., ย, ., ปลายปี, ---]</td>\n",
              "      <td>(TFEX (Thailand Future Exchange), Technical An...</td>\n",
              "      <td>(การเมือง, รัฐบาล, หุ้น)</td>\n",
              "    </tr>\n",
              "    <tr>\n",
              "      <th>2822</th>\n",
              "      <td>[:, in, ปิดกิจการ, -, ตกงาน, เพียบ, /, ส, ป, า...</td>\n",
              "      <td>(การเมือง, ข่าวเศรษฐกิจ, นักการเมือง, พรรคก้าว...</td>\n",
              "      <td>(การเมือง, ข่าวเศรษฐกิจ, รัฐบาล, โรคติดเชื้อไว...</td>\n",
              "    </tr>\n",
              "    <tr>\n",
              "      <th>2419</th>\n",
              "      <td>[แฟน, ชอบ, พูด, ประชด, ว่าเป็น, คุณ, นาย, คุณ,...</td>\n",
              "      <td>(ครอบครัว, ประสบการณ์ชีวิตคู่, ปัญหาความรัก, ป...</td>\n",
              "      <td>()</td>\n",
              "    </tr>\n",
              "    <tr>\n",
              "      <th>2378</th>\n",
              "      <td>[ปัจจุบัน, การ, เสริม, ซี, เมนต์, ใน, กระดูกสั...</td>\n",
              "      <td>(คลินิกความงาม, วิทยาศาสตร์)</td>\n",
              "      <td>()</td>\n",
              "    </tr>\n",
              "    <tr>\n",
              "      <th>...</th>\n",
              "      <td>...</td>\n",
              "      <td>...</td>\n",
              "      <td>...</td>\n",
              "    </tr>\n",
              "    <tr>\n",
              "      <th>3432</th>\n",
              "      <td>[จาก, รังสิต, ไป, วัด, สัก, ใหญ่, นนทบุรี, ไป,...</td>\n",
              "      <td>(วัด,)</td>\n",
              "      <td>(ปฏิบัติธรรม, พระไตรปิฎก, ศาสนา, ศาสนาพุทธ)</td>\n",
              "    </tr>\n",
              "    <tr>\n",
              "      <th>1714</th>\n",
              "      <td>[เธอบอกว่า, กลัว, คน, มอง, ไม่ดี, เพราะว่า, กล...</td>\n",
              "      <td>(ความรักวัยรุ่น, ประสบการณ์ความรัก, ปัญหาความรัก)</td>\n",
              "      <td>(ความรักวัยทำงาน, ความรักวัยรุ่น, ประสบการณ์คว...</td>\n",
              "    </tr>\n",
              "    <tr>\n",
              "      <th>794</th>\n",
              "      <td>[ตามหา, สบู่, !!!]</td>\n",
              "      <td>(ความงาม,)</td>\n",
              "      <td>(ความงาม,)</td>\n",
              "    </tr>\n",
              "    <tr>\n",
              "      <th>1935</th>\n",
              "      <td>[แอป, ธนาคาร, กรุงเทพ, พ, พ, พ, พ, พ]</td>\n",
              "      <td>(ธนาคาร, ธนาคารกรุงเทพ)</td>\n",
              "      <td>(ธนาคาร, หุ้น)</td>\n",
              "    </tr>\n",
              "    <tr>\n",
              "      <th>722</th>\n",
              "      <td>[โค, วิด, ลูก, ผสม, ที่, เวียดนาม, ?]</td>\n",
              "      <td>(หุ้น,)</td>\n",
              "      <td>(การเมือง, รัฐบาล)</td>\n",
              "    </tr>\n",
              "  </tbody>\n",
              "</table>\n",
              "<p>5155 rows × 3 columns</p>\n",
              "</div>"
            ],
            "text/plain": [
              "                                                comment  ...                                        predictions\n",
              "2172  [ข่าว, ดี้, ดี, ., นายกฯ, นําทีม, ถ่ายภาพ, ประ...  ...  (การเมือง, ข่าวเศรษฐกิจ, พรรคเพื่อไทย, รัฐบาล,...\n",
              "3591      [เหมียน, เดิม, ---, มิ, ., ย, ., ปลายปี, ---]  ...                           (การเมือง, รัฐบาล, หุ้น)\n",
              "2822  [:, in, ปิดกิจการ, -, ตกงาน, เพียบ, /, ส, ป, า...  ...  (การเมือง, ข่าวเศรษฐกิจ, รัฐบาล, โรคติดเชื้อไว...\n",
              "2419  [แฟน, ชอบ, พูด, ประชด, ว่าเป็น, คุณ, นาย, คุณ,...  ...                                                 ()\n",
              "2378  [ปัจจุบัน, การ, เสริม, ซี, เมนต์, ใน, กระดูกสั...  ...                                                 ()\n",
              "...                                                 ...  ...                                                ...\n",
              "3432  [จาก, รังสิต, ไป, วัด, สัก, ใหญ่, นนทบุรี, ไป,...  ...        (ปฏิบัติธรรม, พระไตรปิฎก, ศาสนา, ศาสนาพุทธ)\n",
              "1714  [เธอบอกว่า, กลัว, คน, มอง, ไม่ดี, เพราะว่า, กล...  ...  (ความรักวัยทำงาน, ความรักวัยรุ่น, ประสบการณ์คว...\n",
              "794                                  [ตามหา, สบู่, !!!]  ...                                         (ความงาม,)\n",
              "1935              [แอป, ธนาคาร, กรุงเทพ, พ, พ, พ, พ, พ]  ...                                     (ธนาคาร, หุ้น)\n",
              "722               [โค, วิด, ลูก, ผสม, ที่, เวียดนาม, ?]  ...                                 (การเมือง, รัฐบาล)\n",
              "\n",
              "[5155 rows x 3 columns]"
            ]
          },
          "metadata": {
            "tags": []
          },
          "execution_count": 51
        }
      ]
    },
    {
      "cell_type": "code",
      "metadata": {
        "colab": {
          "base_uri": "https://localhost:8080/"
        },
        "id": "Vx0r9L_j6tMW",
        "outputId": "15c19bef-66b4-46fe-f0f0-4529aa09089c"
      },
      "source": [
        "for t in topics:\n",
        "  print(predict_tag(rnn_model, t, rnn_threshold))"
      ],
      "execution_count": null,
      "outputs": [
        {
          "output_type": "stream",
          "text": [
            "[('ศาสนาพุทธ',)]\n",
            "[('ปฏิบัติธรรม', 'พระไตรปิฎก', 'ศาสนา', 'ศาสนาพุทธ')]\n",
            "[('ปัญหาความรัก',)]\n",
            "[('ความรักวัยรุ่น', 'ประสบการณ์ความรัก', 'ประสบการณ์ชีวิตคู่', 'ปัญหาความรัก', 'ศาลาคนเศร้า')]\n",
            "[('การลงทุน', 'หุ้น')]\n",
            "[()]\n"
          ],
          "name": "stdout"
        }
      ]
    },
    {
      "cell_type": "markdown",
      "metadata": {
        "id": "pfNLMNCT6hp_"
      },
      "source": [
        "#### LSTM"
      ]
    },
    {
      "cell_type": "code",
      "metadata": {
        "colab": {
          "base_uri": "https://localhost:8080/"
        },
        "id": "Va_Zj5bH7ShF",
        "outputId": "cba4d92f-bbaf-4b73-f2d3-00e4f2a702d0"
      },
      "source": [
        "lstm_threshold = find_optimum_threshold(lstm_model)\n",
        "lstm_threshold"
      ],
      "execution_count": null,
      "outputs": [
        {
          "output_type": "execute_result",
          "data": {
            "text/plain": [
              "0.19"
            ]
          },
          "metadata": {
            "tags": []
          },
          "execution_count": 53
        }
      ]
    },
    {
      "cell_type": "code",
      "metadata": {
        "colab": {
          "base_uri": "https://localhost:8080/"
        },
        "id": "NHrPkfKbvkzj",
        "outputId": "33b4c0b1-f055-4677-b266-ca8a6da0f6e7"
      },
      "source": [
        "print_report(lstm_model, lstm_threshold)"
      ],
      "execution_count": null,
      "outputs": [
        {
          "output_type": "stream",
          "text": [
            "              precision    recall  f1-score   support\n",
            "\n",
            "           0       0.99      0.99      0.99   1017665\n",
            "           1       0.35      0.38      0.36     13335\n",
            "\n",
            "    accuracy                           0.98   1031000\n",
            "   macro avg       0.67      0.68      0.68   1031000\n",
            "weighted avg       0.98      0.98      0.98   1031000\n",
            "\n"
          ],
          "name": "stdout"
        }
      ]
    },
    {
      "cell_type": "code",
      "metadata": {
        "colab": {
          "base_uri": "https://localhost:8080/",
          "height": 419
        },
        "id": "_SqKWO-Cvn0B",
        "outputId": "3af27a32-429e-4c89-d536-69d6ccaa6706"
      },
      "source": [
        "compare_actual_predictions(lstm_model, 'lstm', lstm_threshold)"
      ],
      "execution_count": null,
      "outputs": [
        {
          "output_type": "execute_result",
          "data": {
            "text/html": [
              "<div>\n",
              "<style scoped>\n",
              "    .dataframe tbody tr th:only-of-type {\n",
              "        vertical-align: middle;\n",
              "    }\n",
              "\n",
              "    .dataframe tbody tr th {\n",
              "        vertical-align: top;\n",
              "    }\n",
              "\n",
              "    .dataframe thead th {\n",
              "        text-align: right;\n",
              "    }\n",
              "</style>\n",
              "<table border=\"1\" class=\"dataframe\">\n",
              "  <thead>\n",
              "    <tr style=\"text-align: right;\">\n",
              "      <th></th>\n",
              "      <th>comment</th>\n",
              "      <th>actual</th>\n",
              "      <th>predictions</th>\n",
              "    </tr>\n",
              "  </thead>\n",
              "  <tbody>\n",
              "    <tr>\n",
              "      <th>2172</th>\n",
              "      <td>[ข่าว, ดี้, ดี, ., นายกฯ, นําทีม, ถ่ายภาพ, ประ...</td>\n",
              "      <td>(รัฐบาล,)</td>\n",
              "      <td>(กระทรวงสาธารณสุข, การเมือง, รัฐบาล, วัคซีน (V...</td>\n",
              "    </tr>\n",
              "    <tr>\n",
              "      <th>3591</th>\n",
              "      <td>[เหมียน, เดิม, ---, มิ, ., ย, ., ปลายปี, ---]</td>\n",
              "      <td>(TFEX (Thailand Future Exchange), Technical An...</td>\n",
              "      <td>(การลงทุน, หุ้น)</td>\n",
              "    </tr>\n",
              "    <tr>\n",
              "      <th>2822</th>\n",
              "      <td>[:, in, ปิดกิจการ, -, ตกงาน, เพียบ, /, ส, ป, า...</td>\n",
              "      <td>(การเมือง, ข่าวเศรษฐกิจ, นักการเมือง, พรรคก้าว...</td>\n",
              "      <td>(การเมือง, ข่าวเศรษฐกิจ, พรรคเพื่อไทย, สิทธิมน...</td>\n",
              "    </tr>\n",
              "    <tr>\n",
              "      <th>2419</th>\n",
              "      <td>[แฟน, ชอบ, พูด, ประชด, ว่าเป็น, คุณ, นาย, คุณ,...</td>\n",
              "      <td>(ครอบครัว, ประสบการณ์ชีวิตคู่, ปัญหาความรัก, ป...</td>\n",
              "      <td>(ความรักวัยรุ่น, ประสบการณ์ความรัก, ประสบการณ์...</td>\n",
              "    </tr>\n",
              "    <tr>\n",
              "      <th>2378</th>\n",
              "      <td>[ปัจจุบัน, การ, เสริม, ซี, เมนต์, ใน, กระดูกสั...</td>\n",
              "      <td>(คลินิกความงาม, วิทยาศาสตร์)</td>\n",
              "      <td>(ความงาม,)</td>\n",
              "    </tr>\n",
              "    <tr>\n",
              "      <th>...</th>\n",
              "      <td>...</td>\n",
              "      <td>...</td>\n",
              "      <td>...</td>\n",
              "    </tr>\n",
              "    <tr>\n",
              "      <th>3432</th>\n",
              "      <td>[จาก, รังสิต, ไป, วัด, สัก, ใหญ่, นนทบุรี, ไป,...</td>\n",
              "      <td>(วัด,)</td>\n",
              "      <td>()</td>\n",
              "    </tr>\n",
              "    <tr>\n",
              "      <th>1714</th>\n",
              "      <td>[เธอบอกว่า, กลัว, คน, มอง, ไม่ดี, เพราะว่า, กล...</td>\n",
              "      <td>(ความรักวัยรุ่น, ประสบการณ์ความรัก, ปัญหาความรัก)</td>\n",
              "      <td>(ความรักวัยรุ่น, ประสบการณ์ความรัก, ประสบการณ์...</td>\n",
              "    </tr>\n",
              "    <tr>\n",
              "      <th>794</th>\n",
              "      <td>[ตามหา, สบู่, !!!]</td>\n",
              "      <td>(ความงาม,)</td>\n",
              "      <td>(ประสบการณ์ความรัก, ปัญหาความรัก)</td>\n",
              "    </tr>\n",
              "    <tr>\n",
              "      <th>1935</th>\n",
              "      <td>[แอป, ธนาคาร, กรุงเทพ, พ, พ, พ, พ, พ]</td>\n",
              "      <td>(ธนาคาร, ธนาคารกรุงเทพ)</td>\n",
              "      <td>(ธนาคาร, ธนาคารกสิกรไทย, บัตรเครดิต)</td>\n",
              "    </tr>\n",
              "    <tr>\n",
              "      <th>722</th>\n",
              "      <td>[โค, วิด, ลูก, ผสม, ที่, เวียดนาม, ?]</td>\n",
              "      <td>(หุ้น,)</td>\n",
              "      <td>(การเมือง, รัฐบาล)</td>\n",
              "    </tr>\n",
              "  </tbody>\n",
              "</table>\n",
              "<p>5155 rows × 3 columns</p>\n",
              "</div>"
            ],
            "text/plain": [
              "                                                comment  ...                                        predictions\n",
              "2172  [ข่าว, ดี้, ดี, ., นายกฯ, นําทีม, ถ่ายภาพ, ประ...  ...  (กระทรวงสาธารณสุข, การเมือง, รัฐบาล, วัคซีน (V...\n",
              "3591      [เหมียน, เดิม, ---, มิ, ., ย, ., ปลายปี, ---]  ...                                   (การลงทุน, หุ้น)\n",
              "2822  [:, in, ปิดกิจการ, -, ตกงาน, เพียบ, /, ส, ป, า...  ...  (การเมือง, ข่าวเศรษฐกิจ, พรรคเพื่อไทย, สิทธิมน...\n",
              "2419  [แฟน, ชอบ, พูด, ประชด, ว่าเป็น, คุณ, นาย, คุณ,...  ...  (ความรักวัยรุ่น, ประสบการณ์ความรัก, ประสบการณ์...\n",
              "2378  [ปัจจุบัน, การ, เสริม, ซี, เมนต์, ใน, กระดูกสั...  ...                                         (ความงาม,)\n",
              "...                                                 ...  ...                                                ...\n",
              "3432  [จาก, รังสิต, ไป, วัด, สัก, ใหญ่, นนทบุรี, ไป,...  ...                                                 ()\n",
              "1714  [เธอบอกว่า, กลัว, คน, มอง, ไม่ดี, เพราะว่า, กล...  ...  (ความรักวัยรุ่น, ประสบการณ์ความรัก, ประสบการณ์...\n",
              "794                                  [ตามหา, สบู่, !!!]  ...                  (ประสบการณ์ความรัก, ปัญหาความรัก)\n",
              "1935              [แอป, ธนาคาร, กรุงเทพ, พ, พ, พ, พ, พ]  ...               (ธนาคาร, ธนาคารกสิกรไทย, บัตรเครดิต)\n",
              "722               [โค, วิด, ลูก, ผสม, ที่, เวียดนาม, ?]  ...                                 (การเมือง, รัฐบาล)\n",
              "\n",
              "[5155 rows x 3 columns]"
            ]
          },
          "metadata": {
            "tags": []
          },
          "execution_count": 55
        }
      ]
    },
    {
      "cell_type": "code",
      "metadata": {
        "colab": {
          "base_uri": "https://localhost:8080/"
        },
        "id": "PgUHITrOkQkQ",
        "outputId": "b8c95bff-6bb0-4176-8c54-541ab4ea2cfc"
      },
      "source": [
        "for t in topics:\n",
        "  print(predict_tag(lstm_model, t, lstm_threshold))"
      ],
      "execution_count": null,
      "outputs": [
        {
          "output_type": "stream",
          "text": [
            "[('ความงาม',)]\n",
            "[('ปฏิบัติธรรม', 'พระไตรปิฎก', 'ศาสนาพุทธ')]\n",
            "[('Skin Care', 'ความงาม', 'สิว', 'เครื่องสำอาง')]\n",
            "[('ความรักวัยรุ่น', 'ประสบการณ์ความรัก', 'ปัญหาความรัก', 'ศาลาคนเศร้า', 'แอบรัก')]\n",
            "[('การลงทุน', 'ตลาดหลักทรัพย์', 'หุ้น')]\n",
            "[('พิธีกรรมทางศาสนา', 'วัด', 'ศาสนา', 'ศาสนาคริสต์', 'ศาสนาพุทธ')]\n"
          ],
          "name": "stdout"
        }
      ]
    },
    {
      "cell_type": "markdown",
      "metadata": {
        "id": "mCIpsxtj6kQq"
      },
      "source": [
        "#### GRU"
      ]
    },
    {
      "cell_type": "code",
      "metadata": {
        "colab": {
          "base_uri": "https://localhost:8080/"
        },
        "id": "WUnG8Yi47cWw",
        "outputId": "61107208-45f7-4457-a12a-66d73a5a3f88"
      },
      "source": [
        "gru_threshold = find_optimum_threshold(gru_model)\n",
        "gru_threshold"
      ],
      "execution_count": null,
      "outputs": [
        {
          "output_type": "execute_result",
          "data": {
            "text/plain": [
              "0.2"
            ]
          },
          "metadata": {
            "tags": []
          },
          "execution_count": 57
        }
      ]
    },
    {
      "cell_type": "code",
      "metadata": {
        "colab": {
          "base_uri": "https://localhost:8080/"
        },
        "id": "SqTp_SIU8KY3",
        "outputId": "ee3ccdb1-17fa-4ad1-e215-61cb7a505f5d"
      },
      "source": [
        "print_report(gru_model, gru_threshold)"
      ],
      "execution_count": null,
      "outputs": [
        {
          "output_type": "stream",
          "text": [
            "              precision    recall  f1-score   support\n",
            "\n",
            "           0       0.99      0.99      0.99   1017665\n",
            "           1       0.37      0.34      0.36     13335\n",
            "\n",
            "    accuracy                           0.98   1031000\n",
            "   macro avg       0.68      0.67      0.67   1031000\n",
            "weighted avg       0.98      0.98      0.98   1031000\n",
            "\n"
          ],
          "name": "stdout"
        }
      ]
    },
    {
      "cell_type": "code",
      "metadata": {
        "colab": {
          "base_uri": "https://localhost:8080/",
          "height": 419
        },
        "id": "p7tkWHW57kG1",
        "outputId": "c8a7ebe2-4d45-4007-aecf-8b6b78bdb30b"
      },
      "source": [
        "compare_actual_predictions(gru_model, 'gru', gru_threshold)"
      ],
      "execution_count": null,
      "outputs": [
        {
          "output_type": "execute_result",
          "data": {
            "text/html": [
              "<div>\n",
              "<style scoped>\n",
              "    .dataframe tbody tr th:only-of-type {\n",
              "        vertical-align: middle;\n",
              "    }\n",
              "\n",
              "    .dataframe tbody tr th {\n",
              "        vertical-align: top;\n",
              "    }\n",
              "\n",
              "    .dataframe thead th {\n",
              "        text-align: right;\n",
              "    }\n",
              "</style>\n",
              "<table border=\"1\" class=\"dataframe\">\n",
              "  <thead>\n",
              "    <tr style=\"text-align: right;\">\n",
              "      <th></th>\n",
              "      <th>comment</th>\n",
              "      <th>actual</th>\n",
              "      <th>predictions</th>\n",
              "    </tr>\n",
              "  </thead>\n",
              "  <tbody>\n",
              "    <tr>\n",
              "      <th>2172</th>\n",
              "      <td>[ข่าว, ดี้, ดี, ., นายกฯ, นําทีม, ถ่ายภาพ, ประ...</td>\n",
              "      <td>(รัฐบาล,)</td>\n",
              "      <td>(กระทรวงสาธารณสุข, การเมือง, รัฐบาล, วัคซีน (V...</td>\n",
              "    </tr>\n",
              "    <tr>\n",
              "      <th>3591</th>\n",
              "      <td>[เหมียน, เดิม, ---, มิ, ., ย, ., ปลายปี, ---]</td>\n",
              "      <td>(TFEX (Thailand Future Exchange), Technical An...</td>\n",
              "      <td>(หุ้น,)</td>\n",
              "    </tr>\n",
              "    <tr>\n",
              "      <th>2822</th>\n",
              "      <td>[:, in, ปิดกิจการ, -, ตกงาน, เพียบ, /, ส, ป, า...</td>\n",
              "      <td>(การเมือง, ข่าวเศรษฐกิจ, นักการเมือง, พรรคก้าว...</td>\n",
              "      <td>(การเมือง, ข่าวเศรษฐกิจ, พรรคเพื่อไทย, รัฐบาล,...</td>\n",
              "    </tr>\n",
              "    <tr>\n",
              "      <th>2419</th>\n",
              "      <td>[แฟน, ชอบ, พูด, ประชด, ว่าเป็น, คุณ, นาย, คุณ,...</td>\n",
              "      <td>(ครอบครัว, ประสบการณ์ชีวิตคู่, ปัญหาความรัก, ป...</td>\n",
              "      <td>(การเมือง,)</td>\n",
              "    </tr>\n",
              "    <tr>\n",
              "      <th>2378</th>\n",
              "      <td>[ปัจจุบัน, การ, เสริม, ซี, เมนต์, ใน, กระดูกสั...</td>\n",
              "      <td>(คลินิกความงาม, วิทยาศาสตร์)</td>\n",
              "      <td>(คลินิกความงาม, ความงาม, ศัลยกรรมความงาม)</td>\n",
              "    </tr>\n",
              "    <tr>\n",
              "      <th>...</th>\n",
              "      <td>...</td>\n",
              "      <td>...</td>\n",
              "      <td>...</td>\n",
              "    </tr>\n",
              "    <tr>\n",
              "      <th>3432</th>\n",
              "      <td>[จาก, รังสิต, ไป, วัด, สัก, ใหญ่, นนทบุรี, ไป,...</td>\n",
              "      <td>(วัด,)</td>\n",
              "      <td>(ทำบุญ, วัด, ศาสนาพุทธ)</td>\n",
              "    </tr>\n",
              "    <tr>\n",
              "      <th>1714</th>\n",
              "      <td>[เธอบอกว่า, กลัว, คน, มอง, ไม่ดี, เพราะว่า, กล...</td>\n",
              "      <td>(ความรักวัยรุ่น, ประสบการณ์ความรัก, ปัญหาความรัก)</td>\n",
              "      <td>(ความรักวัยรุ่น, ประสบการณ์ความรัก, ประสบการณ์...</td>\n",
              "    </tr>\n",
              "    <tr>\n",
              "      <th>794</th>\n",
              "      <td>[ตามหา, สบู่, !!!]</td>\n",
              "      <td>(ความงาม,)</td>\n",
              "      <td>()</td>\n",
              "    </tr>\n",
              "    <tr>\n",
              "      <th>1935</th>\n",
              "      <td>[แอป, ธนาคาร, กรุงเทพ, พ, พ, พ, พ, พ]</td>\n",
              "      <td>(ธนาคาร, ธนาคารกรุงเทพ)</td>\n",
              "      <td>(การเงิน, ธนาคาร, บัตรเครดิต)</td>\n",
              "    </tr>\n",
              "    <tr>\n",
              "      <th>722</th>\n",
              "      <td>[โค, วิด, ลูก, ผสม, ที่, เวียดนาม, ?]</td>\n",
              "      <td>(หุ้น,)</td>\n",
              "      <td>(การเมือง, รัฐบาล, โรคติดเชื้อไวรัสโคโรนาสายพั...</td>\n",
              "    </tr>\n",
              "  </tbody>\n",
              "</table>\n",
              "<p>5155 rows × 3 columns</p>\n",
              "</div>"
            ],
            "text/plain": [
              "                                                comment  ...                                        predictions\n",
              "2172  [ข่าว, ดี้, ดี, ., นายกฯ, นําทีม, ถ่ายภาพ, ประ...  ...  (กระทรวงสาธารณสุข, การเมือง, รัฐบาล, วัคซีน (V...\n",
              "3591      [เหมียน, เดิม, ---, มิ, ., ย, ., ปลายปี, ---]  ...                                            (หุ้น,)\n",
              "2822  [:, in, ปิดกิจการ, -, ตกงาน, เพียบ, /, ส, ป, า...  ...  (การเมือง, ข่าวเศรษฐกิจ, พรรคเพื่อไทย, รัฐบาล,...\n",
              "2419  [แฟน, ชอบ, พูด, ประชด, ว่าเป็น, คุณ, นาย, คุณ,...  ...                                        (การเมือง,)\n",
              "2378  [ปัจจุบัน, การ, เสริม, ซี, เมนต์, ใน, กระดูกสั...  ...          (คลินิกความงาม, ความงาม, ศัลยกรรมความงาม)\n",
              "...                                                 ...  ...                                                ...\n",
              "3432  [จาก, รังสิต, ไป, วัด, สัก, ใหญ่, นนทบุรี, ไป,...  ...                            (ทำบุญ, วัด, ศาสนาพุทธ)\n",
              "1714  [เธอบอกว่า, กลัว, คน, มอง, ไม่ดี, เพราะว่า, กล...  ...  (ความรักวัยรุ่น, ประสบการณ์ความรัก, ประสบการณ์...\n",
              "794                                  [ตามหา, สบู่, !!!]  ...                                                 ()\n",
              "1935              [แอป, ธนาคาร, กรุงเทพ, พ, พ, พ, พ, พ]  ...                      (การเงิน, ธนาคาร, บัตรเครดิต)\n",
              "722               [โค, วิด, ลูก, ผสม, ที่, เวียดนาม, ?]  ...  (การเมือง, รัฐบาล, โรคติดเชื้อไวรัสโคโรนาสายพั...\n",
              "\n",
              "[5155 rows x 3 columns]"
            ]
          },
          "metadata": {
            "tags": []
          },
          "execution_count": 59
        }
      ]
    },
    {
      "cell_type": "code",
      "metadata": {
        "colab": {
          "base_uri": "https://localhost:8080/"
        },
        "id": "-PemycHF7p0d",
        "outputId": "6eaef1be-642c-4da8-dd21-c0a1c96fc63f"
      },
      "source": [
        "for t in topics:\n",
        "  print(predict_tag(gru_model, t, gru_threshold))"
      ],
      "execution_count": null,
      "outputs": [
        {
          "output_type": "stream",
          "text": [
            "[('ศาสนาพุทธ',)]\n",
            "[('ปฏิบัติธรรม', 'พระไตรปิฎก', 'ศาสนา', 'ศาสนาพุทธ')]\n",
            "[('Skin Care', 'คลินิกความงาม', 'ความงาม', 'ศัลยกรรมความงาม')]\n",
            "[('ความรักวัยรุ่น', 'ประสบการณ์ความรัก', 'ปัญหาความรัก', 'แอบรัก')]\n",
            "[('หุ้น',)]\n",
            "[()]\n"
          ],
          "name": "stdout"
        }
      ]
    },
    {
      "cell_type": "code",
      "metadata": {
        "colab": {
          "base_uri": "https://localhost:8080/"
        },
        "id": "aqoVFCDs29WL",
        "outputId": "7bfcbbd8-47e8-41e2-d208-1982c4d6a4ef"
      },
      "source": [
        "t = 'ไปทำบุญที่ไหนดี'\n",
        "print(predict_tag(rnn_model, t, rnn_threshold))\n",
        "print(predict_tag(lstm_model, t, lstm_threshold))\n",
        "print(predict_tag(gru_model, t, gru_threshold))"
      ],
      "execution_count": null,
      "outputs": [
        {
          "output_type": "stream",
          "text": [
            "[()]\n",
            "[('พิธีกรรมทางศาสนา', 'วัด', 'ศาสนา', 'ศาสนาคริสต์', 'ศาสนาพุทธ')]\n",
            "[()]\n"
          ],
          "name": "stdout"
        }
      ]
    }
  ]
}